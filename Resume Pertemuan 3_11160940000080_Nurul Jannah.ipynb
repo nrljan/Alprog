{
 "cells": [
  {
   "cell_type": "markdown",
   "metadata": {},
   "source": [
    "<center><strong><h1>Resume Pertemuan 3 </h1></strong></center>\n",
    "<center><strong><h1>Algoritma dan Pemrograman</h1></strong></center>\n",
    "<p style=\"margin-left:40%;font-size:20px;font-weight:600;color:blue;\"> Nurul Jannah</p>\n",
    "<p style=\"margin-left:38.5%;font-size:20px;font-weight:600;color:blue;\"> 11160940000080</p> "
   ]
  },
  {
   "cell_type": "markdown",
   "metadata": {},
   "source": [
    "## Bekerja dengan List dan Tuples"
   ]
  },
  {
   "cell_type": "markdown",
   "metadata": {},
   "source": [
    "### A. Looping pada elemen list"
   ]
  },
  {
   "cell_type": "markdown",
   "metadata": {},
   "source": [
    "Perulangan ( _looping_ ) adalah mengeksekusi perintah tertentu secara berulang-ulang dan jumlah perulangan dapat diatur sendiri sesuai dengan keinginan. Tujuan perulangan adalah agar tidak menuliskan perintah secara berulang-ulang.[1] "
   ]
  },
  {
   "cell_type": "markdown",
   "metadata": {},
   "source": [
    "Di dalam bahasa pemrograman Python pengulangan dibagi menjadi 3 bagian, yaitu:\n",
    "* While Loop\n",
    "* For Loop\n",
    "* Nested Loop\n",
    "\n",
    "Kali ini akan dibahas lebih lanjut mengenai perulangan **for**. Perulangan **for** pada Python memiliki kemampuan untuk mengulangi item dari urutan apapun, seperti list atau string.[2]"
   ]
  },
  {
   "cell_type": "markdown",
   "metadata": {},
   "source": [
    "**Contoh:** Misalkan kita memiliki daftar destinasi tempat yang ingin dikunjungi. Kemudian kita ingin **print** daftar destinasi tersebut satu persatu. Maka kode di Pythonnya adalah:"
   ]
  },
  {
   "cell_type": "code",
   "execution_count": 1,
   "metadata": {},
   "outputs": [
    {
     "name": "stdout",
     "output_type": "stream",
     "text": [
      "makkah\n",
      "swis\n",
      "london\n",
      "maldives\n",
      "lombok\n"
     ]
    }
   ],
   "source": [
    "place = ['makkah', 'swis', 'london', 'maldives', 'lombok']      # (1)\n",
    "for i in place:                                                 # (2)\n",
    "    print(i)                                                    # (3)"
   ]
  },
  {
   "cell_type": "markdown",
   "metadata": {},
   "source": [
    "**Penjelasan**: Dimulai dengan mendefinisikan suatu variabel 'place' sebagai list pada (1). Kemudian pada (2), didefinisikan pengulangan **for** yang artinya \"masukan nilai-nilai yang ada pada elemen di list 'place' ke dalam variabel 'i'.\" Lalu pada (3) **print** nilai yang terdapat pada variabel i. Python melakukan pengulangan sampai elemen terakhir di list 'place'."
   ]
  },
  {
   "cell_type": "markdown",
   "metadata": {},
   "source": [
    "* Modifikasi **Contoh**: Keluaran dengan membentuk suatu kalimat dan menambahkan suatu variabel baru"
   ]
  },
  {
   "cell_type": "code",
   "execution_count": 3,
   "metadata": {},
   "outputs": [
    {
     "name": "stdout",
     "output_type": "stream",
     "text": [
      "Tempat ke 1 yang ingin saya kunjungi adalah Makkah\n",
      "Tempat ke 2 yang ingin saya kunjungi adalah Swis\n",
      "Tempat ke 3 yang ingin saya kunjungi adalah London\n",
      "Tempat ke 4 yang ingin saya kunjungi adalah Maldives\n",
      "Tempat ke 5 yang ingin saya kunjungi adalah Lombok\n"
     ]
    }
   ],
   "source": [
    "number = 1\n",
    "for i in place:\n",
    "    print(\"Tempat ke \" + str(number) + \" yang ingin saya kunjungi adalah \" + i.title())\n",
    "    number += 1     # artinya number = number + 1"
   ]
  },
  {
   "cell_type": "code",
   "execution_count": 4,
   "metadata": {},
   "outputs": [
    {
     "name": "stdout",
     "output_type": "stream",
     "text": [
      "Tempat ke 1 yang ingin saya kunjungi adalah Makkah\n",
      "Tempat ke 1 yang ingin saya kunjungi adalah Swis\n",
      "Tempat ke 1 yang ingin saya kunjungi adalah London\n",
      "Tempat ke 1 yang ingin saya kunjungi adalah Maldives\n",
      "Tempat ke 1 yang ingin saya kunjungi adalah Lombok\n"
     ]
    }
   ],
   "source": [
    "number = 1\n",
    "for i in place:\n",
    "    print(\"Tempat ke \" + str(number) + \" yang ingin saya kunjungi adalah \" + i.title())\n",
    "number += 1"
   ]
  },
  {
   "cell_type": "markdown",
   "metadata": {},
   "source": [
    "Pada kode di atas terlihat bahwa variabel number tetap bernilai 1. Hal ini terjadi karena variabel tersebut (number += 1) tidak berada di dalam perulangan **for**. Akibatnya variabel number tidak dikenakan perulangan seperti yang seharusnya."
   ]
  },
  {
   "cell_type": "markdown",
   "metadata": {},
   "source": [
    "### Hati-hati Error!"
   ]
  },
  {
   "cell_type": "markdown",
   "metadata": {},
   "source": [
    "Python menggunakan indentasi untuk menentukan apakah baris kode yang satu saling berhubungan dengan baris kode lain yang berada diatasnya (istilah ini disebut **indented block**). Biasanya error yang sering terjadi adalah **Indentation Error**. Perhatikan contoh berikut:"
   ]
  },
  {
   "cell_type": "code",
   "execution_count": 5,
   "metadata": {},
   "outputs": [
    {
     "ename": "IndentationError",
     "evalue": "expected an indented block (<ipython-input-5-ba75fc2d43a6>, line 3)",
     "output_type": "error",
     "traceback": [
      "\u001b[1;36m  File \u001b[1;32m\"<ipython-input-5-ba75fc2d43a6>\"\u001b[1;36m, line \u001b[1;32m3\u001b[0m\n\u001b[1;33m    print(i)                                                        # (3)\u001b[0m\n\u001b[1;37m        ^\u001b[0m\n\u001b[1;31mIndentationError\u001b[0m\u001b[1;31m:\u001b[0m expected an indented block\n"
     ]
    }
   ],
   "source": [
    "place = ['makkah', 'swis', 'london', 'maldives', 'lombok']      # (1)\n",
    "for i in place:                                                 # (2)\n",
    "print(i)                                                        # (3)"
   ]
  },
  {
   "cell_type": "markdown",
   "metadata": {},
   "source": [
    "**Penjelasan**: Perintah **for** pada baris (2) berharap melakukan suatu perintah yang terletak pada berikutnya. Namun, karena baris (3) indentasinya sejajar pada baris (2) (astinya tidak berada dalam satu blok), maka tidak ada hubungan antara baris (2) dan (3). Sehingga terjadi **IndentationError**."
   ]
  },
  {
   "cell_type": "markdown",
   "metadata": {},
   "source": [
    "Error yang sering terjadi berikutnya adalah lupa tanda kolon ':' (titik dua) pada akhir perintah **for**. Jika hal ini terjadi maka akan terjadi **SyntaxError**, seperti:"
   ]
  },
  {
   "cell_type": "code",
   "execution_count": 6,
   "metadata": {},
   "outputs": [
    {
     "ename": "SyntaxError",
     "evalue": "invalid syntax (<ipython-input-6-c28a290bd137>, line 2)",
     "output_type": "error",
     "traceback": [
      "\u001b[1;36m  File \u001b[1;32m\"<ipython-input-6-c28a290bd137>\"\u001b[1;36m, line \u001b[1;32m2\u001b[0m\n\u001b[1;33m    for i in place                                                  # (2)\u001b[0m\n\u001b[1;37m                                                                         ^\u001b[0m\n\u001b[1;31mSyntaxError\u001b[0m\u001b[1;31m:\u001b[0m invalid syntax\n"
     ]
    }
   ],
   "source": [
    "place = ['makkah', 'swis', 'london', 'maldives', 'lombok']      # (1)\n",
    "for i in place                                                  # (2)\n",
    "    print(i)                                                    # (3)"
   ]
  },
  {
   "cell_type": "markdown",
   "metadata": {},
   "source": [
    "### B. Membuat List Numerik"
   ]
  },
  {
   "cell_type": "markdown",
   "metadata": {},
   "source": [
    "Sering kali kita membutuhkan List yang berisi bilangan yang berurutan. Kita bisa melakukannya dengna menggunakan fungsi **range()**, seperti:"
   ]
  },
  {
   "cell_type": "code",
   "execution_count": 9,
   "metadata": {},
   "outputs": [
    {
     "name": "stdout",
     "output_type": "stream",
     "text": [
      "1\n",
      "2\n",
      "3\n",
      "4\n"
     ]
    }
   ],
   "source": [
    "for nilai in range (1,5):     # (1)\n",
    "    print(nilai)              # (2)"
   ]
  },
  {
   "cell_type": "markdown",
   "metadata": {},
   "source": [
    "**Penjelasan:** Pada baris (1), **range(1,5)** berarti membuat urutan angka dari 1 sampai dengan 4 yang disimpan di variabel 'nilai'. Kemudian lakukan perintah **print** pada baris (2). Perlu diperhatikan, **range(1,n)** berarti akan menghasilkan angka yang berurutan dari 1 sampai n-1"
   ]
  },
  {
   "cell_type": "markdown",
   "metadata": {},
   "source": [
    "Struktur dari range() dapat ditulis dengan 3 cara, yaitu:\n",
    "* range(nilai_awal, nilai_akhir, pencacah)\n",
    "* range(nilai_awal, nilai_akhir)\n",
    "* range(nilai_akhir)"
   ]
  },
  {
   "cell_type": "markdown",
   "metadata": {},
   "source": [
    "**Contoh**: Penggunaan range(nilai_akhir)"
   ]
  },
  {
   "cell_type": "code",
   "execution_count": 10,
   "metadata": {},
   "outputs": [
    {
     "name": "stdout",
     "output_type": "stream",
     "text": [
      "0\n",
      "1\n",
      "2\n",
      "3\n",
      "4\n"
     ]
    }
   ],
   "source": [
    "for nilai in range(5):\n",
    "    print(nilai)"
   ]
  },
  {
   "cell_type": "markdown",
   "metadata": {},
   "source": [
    "**Ingat!** Indeks di Python diawali dengan indeks ke 0"
   ]
  },
  {
   "cell_type": "markdown",
   "metadata": {},
   "source": [
    "**Contoh**: Penggunaan range(nilai_awal,nilai_akhir,pencacah)\n",
    "  \n",
    " Berikut ini contoh penggunaan range untuk menampilkan bilangan dari 1-100 dengan penambahan/pencacah 1 dengan menambahkan **end=' '** agar bilangan tampil secara horizontal tidak pindah baris ke bawah [1]"
   ]
  },
  {
   "cell_type": "code",
   "execution_count": 12,
   "metadata": {},
   "outputs": [
    {
     "name": "stdout",
     "output_type": "stream",
     "text": [
      "1 2 3 4 5 6 7 8 9 10 11 12 13 14 15 16 17 18 19 20 21 22 23 24 25 26 27 28 29 30 31 32 33 34 35 36 37 38 39 40 41 42 43 44 45 46 47 48 49 50 51 52 53 54 55 56 57 58 59 60 61 62 63 64 65 66 67 68 69 70 71 72 73 74 75 76 77 78 79 80 81 82 83 84 85 86 87 88 89 90 91 92 93 94 95 96 97 98 99 100 "
     ]
    }
   ],
   "source": [
    "for i in range(1,101,1) :\n",
    "    print(i, end=' ')"
   ]
  },
  {
   "cell_type": "markdown",
   "metadata": {},
   "source": [
    "* Menampilkan bilangan dari 1-100 dengan penambahan/pencacah 2"
   ]
  },
  {
   "cell_type": "code",
   "execution_count": 13,
   "metadata": {
    "scrolled": true
   },
   "outputs": [
    {
     "name": "stdout",
     "output_type": "stream",
     "text": [
      "1 3 5 7 9 11 13 15 17 19 21 23 25 27 29 31 33 35 37 39 41 43 45 47 49 51 53 55 57 59 61 63 65 67 69 71 73 75 77 79 81 83 85 87 89 91 93 95 97 99 "
     ]
    }
   ],
   "source": [
    "for i in range(1,101,2) :\n",
    "    print(i, end=' ')"
   ]
  },
  {
   "cell_type": "markdown",
   "metadata": {},
   "source": [
    "**Catatan**: Untuk penggunaan range(nilai_awal,nilai_akhir) maka pencacahnya akan secara otomatis bernilai 1."
   ]
  },
  {
   "cell_type": "markdown",
   "metadata": {},
   "source": [
    "* Membuat List yang berisi urutan angka dengan bantuan fungsi **range()**"
   ]
  },
  {
   "cell_type": "code",
   "execution_count": 1,
   "metadata": {},
   "outputs": [
    {
     "name": "stdout",
     "output_type": "stream",
     "text": [
      "[1, 2, 3, 4, 5]\n"
     ]
    }
   ],
   "source": [
    "number = list(range(1,6))\n",
    "print(number)"
   ]
  },
  {
   "cell_type": "markdown",
   "metadata": {},
   "source": [
    "* Membuat List yang berisi urutan angka dengan bantuan fungsi **range()** dan mencari nilai terkecil dengan fungsi **min()**, terbesar dengan **max()**, dan jumlah dengan **sum()** dari setiap elemen-elemen dari List tersebut."
   ]
  },
  {
   "cell_type": "code",
   "execution_count": 10,
   "metadata": {},
   "outputs": [
    {
     "name": "stdout",
     "output_type": "stream",
     "text": [
      "[10, 11, 12, 13, 14, 15, 16, 17, 18, 19, 20, 21, 22, 23, 24, 25, 26, 27, 28, 29, 30, 31, 32, 33, 34, 35, 36, 37, 38, 39, 40, 41, 42, 43, 44, 45, 46, 47, 48, 49, 50, 51, 52, 53, 54, 55, 56, 57, 58, 59, 60, 61, 62, 63, 64, 65, 66, 67] \n",
      "\n",
      "Nilai terkecil: 10\n",
      "Nilai terbesar: 67\n",
      "Jumlah: 2233\n"
     ]
    }
   ],
   "source": [
    "data = list(range(10,68))\n",
    "nilai_min = min(data)\n",
    "nilai_max = max(data)\n",
    "jumlah = sum(data)\n",
    "\n",
    "print(data, end=' ')\n",
    "print(\"\\n\\nNilai terkecil: \" + str(nilai_min))\n",
    "print(\"Nilai terbesar: \" + str(nilai_max))\n",
    "print(\"Jumlah: \" + str(jumlah))"
   ]
  },
  {
   "cell_type": "markdown",
   "metadata": {},
   "source": [
    "### C. Bekerja Dengan Sebagian Elemen List"
   ]
  },
  {
   "cell_type": "markdown",
   "metadata": {},
   "source": [
    "Kegiatan mengakses sebagian elemen dari suatu list disebut **slice**. Untuk membuat _slice_, tentukan indeks pertama dan terakhir yang kamu inginkan/perlukan. Seperti fungsi **range()**, Python berhenti satu item sebelum indeks kedua yang ditentukan.[3]"
   ]
  },
  {
   "cell_type": "code",
   "execution_count": 11,
   "metadata": {},
   "outputs": [
    {
     "name": "stdout",
     "output_type": "stream",
     "text": [
      "['makkah', 'swis', 'london']\n"
     ]
    }
   ],
   "source": [
    "place = ['makkah', 'swis', 'london', 'maldives', 'lombok']      # (1)\n",
    "print(place[0:3])                                               # (2) slice elemen ke 0 sampai ke 2"
   ]
  },
  {
   "cell_type": "markdown",
   "metadata": {},
   "source": [
    "* Memotong List tanpa menginput indeks awal dan/atau indeks akhirnya. **Contoh**:"
   ]
  },
  {
   "cell_type": "code",
   "execution_count": 12,
   "metadata": {},
   "outputs": [
    {
     "name": "stdout",
     "output_type": "stream",
     "text": [
      "Output place1:  ['makkah', 'swis']\n",
      "Output place2:  ['london', 'maldives', 'lombok']\n",
      "Output place3:  ['makkah', 'swis', 'london', 'maldives', 'lombok']\n"
     ]
    }
   ],
   "source": [
    "place = ['makkah', 'swis', 'london', 'maldives', 'lombok']\n",
    "place1 = place[:2]   # slice dari elemen awal sampai ke 1\n",
    "place2 = place[2:]   # slice dari elemen ke 2 sampai elemen terakhir\n",
    "place3 = place[:]    # slice semua elemen\n",
    "\n",
    "print(\"Output place1: \", place1)\n",
    "print(\"Output place2: \", place2)\n",
    "print(\"Output place3: \", place3)"
   ]
  },
  {
   "cell_type": "markdown",
   "metadata": {},
   "source": [
    "* Misalkan kita pisahkan atau kategorikan List 'place', apakah tempat tersebut merupakan tempat wisata dalam negeri atau luar negeri. Caranya:"
   ]
  },
  {
   "cell_type": "code",
   "execution_count": 15,
   "metadata": {},
   "outputs": [
    {
     "name": "stdout",
     "output_type": "stream",
     "text": [
      "Wisata Luar Negeri:  ['makkah', 'swis', 'london']\n",
      "Wisata Dalam Negeri:  lombok\n"
     ]
    }
   ],
   "source": [
    "place = ['makkah', 'swis', 'london', 'maldives', 'lombok']\n",
    "Luar_negeri = place[0:3]\n",
    "Dalam_negeri = place[4]\n",
    "\n",
    "print(\"Wisata Luar Negeri: \", Luar_negeri)\n",
    "print(\"Wisata Dalam Negeri: \", Dalam_negeri)"
   ]
  },
  {
   "cell_type": "markdown",
   "metadata": {},
   "source": [
    "### D. Multidimensional List"
   ]
  },
  {
   "cell_type": "markdown",
   "metadata": {},
   "source": [
    "Multidimensional list adalah list di dalam list (dapat diilustrasikan sebagai matriks), place = [['makkah', 'swis', 'london'],['maldives','lombok']]. Ini berarti multidimensional list 'place' memiliki dua buah list yaitu list dengan indeks ke 0 dan list dengan indeks ke 1."
   ]
  },
  {
   "cell_type": "markdown",
   "metadata": {},
   "source": [
    "**Contoh**:"
   ]
  },
  {
   "cell_type": "code",
   "execution_count": 17,
   "metadata": {},
   "outputs": [
    {
     "name": "stdout",
     "output_type": "stream",
     "text": [
      "['maldives', 'lombok']\n",
      "maldives\n",
      "['makkah', 'swis']\n"
     ]
    }
   ],
   "source": [
    "place = [['makkah', 'swis','london'],['maldives', 'lombok']]\n",
    "print(place[1]) # (1)\n",
    "print(place[1][0]) # (2)\n",
    "print(place[0][:2]) # (3)"
   ]
  },
  {
   "cell_type": "markdown",
   "metadata": {},
   "source": [
    "**Penjelasan**: Pada kode baris (1), menampilkan nilai list ke 1 dari list dua dimensi place. Untuk mengakses list ke 1 kemudian akses elemen ke 0 dapat menggunakan kode (2). Kode di baris (3) digunakan untuk slice list ke 0, mulai dari elemen pertama sampai dengan ke 1"
   ]
  },
  {
   "cell_type": "markdown",
   "metadata": {},
   "source": [
    "Misalkan kita ingin menampilkan output tiap-tiap elemen pada multidimensional list, maka kita dapat melakukannya dengan cara:"
   ]
  },
  {
   "cell_type": "code",
   "execution_count": 20,
   "metadata": {},
   "outputs": [
    {
     "name": "stdout",
     "output_type": "stream",
     "text": [
      "Makkah\n",
      "Swis\n",
      "London\n",
      "Maldives\n",
      "Lombok\n"
     ]
    }
   ],
   "source": [
    "place = [['makkah', 'swis','london'],['maldives', 'lombok']]\n",
    "\n",
    "for i in range(0, len(place)):\n",
    "    for j in place[i]:\n",
    "        print(j.title())"
   ]
  },
  {
   "cell_type": "markdown",
   "metadata": {},
   "source": [
    "### E. Tuples"
   ]
  },
  {
   "cell_type": "markdown",
   "metadata": {},
   "source": [
    "Sebuah tuple adalah urutan objek Python yang tidak berubah. Tuple adalah urutan, seperti list. Perbedaan utama antara tuple dan list adalah bahwa tuple **tidak dapat diubah** tidak seperti list Python. Tuple menggunakan tanda kurung, sedangkan list menggunakan kurung siku.[4] Tuple dapat disebut juga **immutable list**. Biasanya tuple digunakan untuk mendefiniskan ukuran suatu array atau matriks. Membuat tuple semudah memasukkan nilai-nilai yang dipisahkan koma ini di antara tanda kurung juga.[4]"
   ]
  },
  {
   "cell_type": "markdown",
   "metadata": {},
   "source": [
    "**Contoh**: Pembuatan Tuple"
   ]
  },
  {
   "cell_type": "code",
   "execution_count": 24,
   "metadata": {},
   "outputs": [
    {
     "name": "stdout",
     "output_type": "stream",
     "text": [
      "('fisika', 'kimia', 'biologi', 'matematika')\n",
      "('a', 'b', 'c', 'd')\n"
     ]
    }
   ],
   "source": [
    "tup1 = ('fisika', 'kimia', 'biologi', 'matematika')\n",
    "tup2 = \"a\", \"b\", \"c\", \"d\"\n",
    "\n",
    "print(tup1)\n",
    "print(tup2)"
   ]
  },
  {
   "cell_type": "code",
   "execution_count": 29,
   "metadata": {},
   "outputs": [
    {
     "name": "stdout",
     "output_type": "stream",
     "text": [
      "200\n",
      "100\n"
     ]
    }
   ],
   "source": [
    "dimensions = (200, 100)\n",
    "print(dimensions[0])\n",
    "print(dimensions[1])"
   ]
  },
  {
   "cell_type": "code",
   "execution_count": 30,
   "metadata": {
    "scrolled": true
   },
   "outputs": [
    {
     "ename": "TypeError",
     "evalue": "'tuple' object does not support item assignment",
     "output_type": "error",
     "traceback": [
      "\u001b[1;31m---------------------------------------------------------------------------\u001b[0m",
      "\u001b[1;31mTypeError\u001b[0m                                 Traceback (most recent call last)",
      "\u001b[1;32m<ipython-input-30-1d9657d521a2>\u001b[0m in \u001b[0;36m<module>\u001b[1;34m\u001b[0m\n\u001b[0;32m      2\u001b[0m \u001b[1;33m\u001b[0m\u001b[0m\n\u001b[0;32m      3\u001b[0m \u001b[0mdimensions\u001b[0m \u001b[1;33m=\u001b[0m \u001b[1;33m(\u001b[0m\u001b[1;36m200\u001b[0m\u001b[1;33m,\u001b[0m \u001b[1;36m100\u001b[0m\u001b[1;33m)\u001b[0m\u001b[1;33m\u001b[0m\u001b[1;33m\u001b[0m\u001b[0m\n\u001b[1;32m----> 4\u001b[1;33m \u001b[0mdimensions\u001b[0m\u001b[1;33m[\u001b[0m\u001b[1;36m0\u001b[0m\u001b[1;33m]\u001b[0m \u001b[1;33m=\u001b[0m \u001b[1;36m250\u001b[0m\u001b[1;33m\u001b[0m\u001b[1;33m\u001b[0m\u001b[0m\n\u001b[0m\u001b[0;32m      5\u001b[0m \u001b[0mprint\u001b[0m\u001b[1;33m(\u001b[0m\u001b[0mdimensions\u001b[0m\u001b[1;33m[\u001b[0m\u001b[1;36m0\u001b[0m\u001b[1;33m]\u001b[0m\u001b[1;33m)\u001b[0m\u001b[1;33m\u001b[0m\u001b[1;33m\u001b[0m\u001b[0m\n\u001b[0;32m      6\u001b[0m \u001b[0mprint\u001b[0m\u001b[1;33m(\u001b[0m\u001b[0mdimensions\u001b[0m\u001b[1;33m[\u001b[0m\u001b[1;36m1\u001b[0m\u001b[1;33m]\u001b[0m\u001b[1;33m)\u001b[0m\u001b[1;33m\u001b[0m\u001b[1;33m\u001b[0m\u001b[0m\n",
      "\u001b[1;31mTypeError\u001b[0m: 'tuple' object does not support item assignment"
     ]
    }
   ],
   "source": [
    "# Mengubah elemen di tuple dimensions\n",
    "\n",
    "dimensions = (200, 100)\n",
    "dimensions[0] = 250\n",
    "print(dimensions[0])\n",
    "print(dimensions[1])"
   ]
  },
  {
   "cell_type": "markdown",
   "metadata": {},
   "source": [
    "Walaupun kita tidak dapat memodifikasi elemen di tuple, kita dapat menuliskan nilai baru ke tuple yang kita buat. Ini berarti, kita harus memodifikasi semua nilai di elemen tuple tersebut. **Contoh:**"
   ]
  },
  {
   "cell_type": "code",
   "execution_count": 32,
   "metadata": {},
   "outputs": [
    {
     "name": "stdout",
     "output_type": "stream",
     "text": [
      "Original dimensions: \n",
      "200\n",
      "100\n",
      "\n",
      "Modified dimensions: \n",
      "400\n",
      "250\n"
     ]
    }
   ],
   "source": [
    "dimensions = (200, 100)\n",
    "print(\"Original dimensions: \")\n",
    "for dimension in dimensions:\n",
    "    print(dimension)\n",
    "    \n",
    "dimensions = (400, 250)\n",
    "print(\"\\nModified dimensions: \")\n",
    "for dimension in dimensions:\n",
    "    print(dimension)"
   ]
  },
  {
   "cell_type": "markdown",
   "metadata": {},
   "source": [
    "### F. Referensi"
   ]
  },
  {
   "cell_type": "markdown",
   "metadata": {},
   "source": [
    "[1] Irfani, H., & Dafid, D. (2016). BAHAN AJAR DASAR PEMROGRAMAN. \n",
    "\n",
    "[2] belajarpython.com. Loop Python. Diakses pada 27 Maret 2020, dari https://belajarpython.com/tutorial/loop-python\n",
    "\n",
    "[3] Matthes, E. (2015). Python crash course: a hands-on, project-based introduction to programming. No Starch Press.\n",
    "\n",
    "[4] belajarpython.com. Tuple Python. Diakses pada 28 Maret 2020, dari https://belajarpython.com/tutorial/tuple-python"
   ]
  }
 ],
 "metadata": {
  "kernelspec": {
   "display_name": "Python 3",
   "language": "python",
   "name": "python3"
  },
  "language_info": {
   "codemirror_mode": {
    "name": "ipython",
    "version": 3
   },
   "file_extension": ".py",
   "mimetype": "text/x-python",
   "name": "python",
   "nbconvert_exporter": "python",
   "pygments_lexer": "ipython3",
   "version": "3.7.4"
  }
 },
 "nbformat": 4,
 "nbformat_minor": 2
}
