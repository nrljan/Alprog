{
 "cells": [
  {
   "cell_type": "markdown",
   "metadata": {},
   "source": [
    "<center><strong><h1>Tugas 1 Algoritma dan Pemrograman</h1></strong></center>\n",
    "<p style=\"margin-left:40%;font-size:20px;font-weight:600;color:blue;\"> Nurul Jannah</p>\n",
    "<p style=\"margin-left:38.5%;font-size:20px;font-weight:600;color:blue;\"> 11160940000080</p> "
   ]
  },
  {
   "cell_type": "markdown",
   "metadata": {},
   "source": [
    "#### 2-1. Simple Message: Store a message in a variable, and then print that message."
   ]
  },
  {
   "cell_type": "code",
   "execution_count": 1,
   "metadata": {},
   "outputs": [
    {
     "name": "stdout",
     "output_type": "stream",
     "text": [
      "Python adalah bahasa pemrograman\n"
     ]
    }
   ],
   "source": [
    "message = \"Python adalah bahasa pemrograman\"\n",
    "print(message)"
   ]
  },
  {
   "cell_type": "markdown",
   "metadata": {},
   "source": [
    "#### 2-2. Simple Message: Store a message in a variable, and print that message. Then change the value of your variable to a new message, and print the new message"
   ]
  },
  {
   "cell_type": "code",
   "execution_count": 2,
   "metadata": {},
   "outputs": [
    {
     "name": "stdout",
     "output_type": "stream",
     "text": [
      "Python adalah bahasa pemrograman\n"
     ]
    }
   ],
   "source": [
    "message = \"Python adalah bahasa pemrograman\"\n",
    "print(message)"
   ]
  },
  {
   "cell_type": "code",
   "execution_count": 3,
   "metadata": {},
   "outputs": [
    {
     "name": "stdout",
     "output_type": "stream",
     "text": [
      "Bahasa pemrograman tidak sama dengan program\n"
     ]
    }
   ],
   "source": [
    "message = \"Python adalah bahasa pemrograman\"\n",
    "message = \"Bahasa pemrograman tidak sama dengan program\"\n",
    "print(message)"
   ]
  },
  {
   "cell_type": "markdown",
   "metadata": {},
   "source": [
    "#### 2-3. Personal Message: Store a person's name in a variable, and print a message to that person. Your message should be simple."
   ]
  },
  {
   "cell_type": "code",
   "execution_count": 4,
   "metadata": {},
   "outputs": [
    {
     "name": "stdout",
     "output_type": "stream",
     "text": [
      "Hai Sarah, apakah kamu ada waktu luang?\n"
     ]
    }
   ],
   "source": [
    "name = \"Sarah\"\n",
    "message = \"Hai \" + name + \", apakah kamu ada waktu luang?\"\n",
    "print(message)"
   ]
  },
  {
   "cell_type": "markdown",
   "metadata": {},
   "source": [
    "#### 2-4. Name Cases: Store a person's name in a variable, and then print that person's name in lowercase, uppercase, and titlecase."
   ]
  },
  {
   "cell_type": "code",
   "execution_count": 5,
   "metadata": {},
   "outputs": [
    {
     "name": "stdout",
     "output_type": "stream",
     "text": [
      "gordon ramsay\n",
      "GORDON RAMSAY\n",
      "Gordon Ramsay\n"
     ]
    }
   ],
   "source": [
    "first_name = \"gordon\"\n",
    "last_name = \"ramsay\"\n",
    "full_name = first_name + \" \" + last_name\n",
    "\n",
    "print(full_name.lower())\n",
    "print(full_name.upper())\n",
    "print(full_name.title())"
   ]
  },
  {
   "cell_type": "markdown",
   "metadata": {},
   "source": [
    "#### 2-5. Famous Quote: Find a quote from a famous person you admire. Print the quote and the name of its author."
   ]
  },
  {
   "cell_type": "code",
   "execution_count": 6,
   "metadata": {},
   "outputs": [
    {
     "name": "stdout",
     "output_type": "stream",
     "text": [
      "\n",
      "\"If you only do what you can do,\n",
      "you will never be more than you are now.\"\n",
      "- Master Shifu\n",
      "\n"
     ]
    }
   ],
   "source": [
    "quote = '''\n",
    "\"If you only do what you can do,\n",
    "you will never be more than you are now.\"\n",
    "- Master Shifu\n",
    "'''\n",
    "print(quote)"
   ]
  },
  {
   "cell_type": "markdown",
   "metadata": {},
   "source": [
    "#### 2-6. Famous Quote: Repeat Exercise 2-5, but this time store the famous person's name in a variable called famous_person. Then compose your message and store it in a new varible called message. Print your message."
   ]
  },
  {
   "cell_type": "code",
   "execution_count": 7,
   "metadata": {},
   "outputs": [
    {
     "name": "stdout",
     "output_type": "stream",
     "text": [
      "\n",
      "\"If you only do what you can do,\n",
      "you will never be more than you are now.\" \n",
      "- Master Shifu\n"
     ]
    }
   ],
   "source": [
    "quote = '''\n",
    "\"If you only do what you can do,\n",
    "you will never be more than you are now.\"'''\n",
    "famous_person = \"Master Shifu\"\n",
    "message = quote + \" \" + \"\\n- \" + famous_person\n",
    "\n",
    "print(message)"
   ]
  },
  {
   "cell_type": "markdown",
   "metadata": {},
   "source": [
    "#### 2-8. Number Eight: Write addition, subtraction, multiplication, and division operations that each result in the number 8. Be sure to enclose your operations in print statements to see the results. You should create four lines. Your output should simply be four lines with the number 8 appearing once on each line"
   ]
  },
  {
   "cell_type": "code",
   "execution_count": 8,
   "metadata": {},
   "outputs": [
    {
     "name": "stdout",
     "output_type": "stream",
     "text": [
      "8\n"
     ]
    }
   ],
   "source": [
    "print(6+2)"
   ]
  },
  {
   "cell_type": "code",
   "execution_count": 9,
   "metadata": {},
   "outputs": [
    {
     "name": "stdout",
     "output_type": "stream",
     "text": [
      "8\n"
     ]
    }
   ],
   "source": [
    "print(18-10)"
   ]
  },
  {
   "cell_type": "code",
   "execution_count": 10,
   "metadata": {},
   "outputs": [
    {
     "name": "stdout",
     "output_type": "stream",
     "text": [
      "8\n"
     ]
    }
   ],
   "source": [
    "print(4*2)"
   ]
  },
  {
   "cell_type": "code",
   "execution_count": 11,
   "metadata": {},
   "outputs": [
    {
     "name": "stdout",
     "output_type": "stream",
     "text": [
      "8\n"
     ]
    }
   ],
   "source": [
    "print(int(24/3))"
   ]
  },
  {
   "cell_type": "markdown",
   "metadata": {},
   "source": [
    "#### 2-9. Favorite Number: Store your favorite number in a variable. Then, using that variable, create a message that reveals your favorite number. Print that message."
   ]
  },
  {
   "cell_type": "code",
   "execution_count": 12,
   "metadata": {},
   "outputs": [
    {
     "name": "stdout",
     "output_type": "stream",
     "text": [
      "My favorite number is 18\n"
     ]
    }
   ],
   "source": [
    "fav_number = 18\n",
    "message = \"My favorite number is \" + str(fav_number)\n",
    "\n",
    "print(message)"
   ]
  },
  {
   "cell_type": "markdown",
   "metadata": {},
   "source": [
    "#### 2-10. Adding Comments: Choose two of the programs you've written, and add at least one comment to each."
   ]
  },
  {
   "cell_type": "code",
   "execution_count": 13,
   "metadata": {},
   "outputs": [
    {
     "name": "stdout",
     "output_type": "stream",
     "text": [
      "gordon ramsay\n",
      "GORDON RAMSAY\n",
      "Gordon Ramsay\n"
     ]
    }
   ],
   "source": [
    "first_name = \"gordon\"  #variabel untuk nama depan\n",
    "last_name = \"ramsay\"   #variabel untuk nama belakang\n",
    "full_name = first_name + \" \" + last_name  #untuk menyimpan nama depan dan belakang\n",
    "\n",
    "print(full_name.lower())   #keluarkan hasil dengan huruf kecil semua\n",
    "print(full_name.upper())   #keluarkan hasil dengan huruf besar semua\n",
    "print(full_name.title())   #keluarkan hasil dengan huruf depan besar dan sisanya huruf kecil"
   ]
  },
  {
   "cell_type": "code",
   "execution_count": 14,
   "metadata": {},
   "outputs": [
    {
     "name": "stdout",
     "output_type": "stream",
     "text": [
      "8\n"
     ]
    }
   ],
   "source": [
    "#Division\n",
    "print(int(24/3))  #keluarkan hasil pembagian"
   ]
  },
  {
   "cell_type": "markdown",
   "metadata": {},
   "source": [
    "#### 3-1. Names: Store the names of a few of your friends in a list, one at a time."
   ]
  },
  {
   "cell_type": "code",
   "execution_count": 15,
   "metadata": {},
   "outputs": [
    {
     "name": "stdout",
     "output_type": "stream",
     "text": [
      "['Nia', 'Ina', 'Amel', 'Hafshah', 'Nadila']\n"
     ]
    }
   ],
   "source": [
    "friends = ['Nia', 'Ina', 'Amel', 'Hafshah', 'Nadila']\n",
    "print(friends)"
   ]
  },
  {
   "cell_type": "markdown",
   "metadata": {},
   "source": [
    "#### 3-2. Greetings: Start with the list you used in Exercise 3-1, but instead of just printing each person's name, print a message to them. The text of each message should be the same, but each message should be personalized with the person's name."
   ]
  },
  {
   "cell_type": "code",
   "execution_count": 16,
   "metadata": {},
   "outputs": [
    {
     "name": "stdout",
     "output_type": "stream",
     "text": [
      "It's pleasure to be a part of your life, Nia.\n"
     ]
    }
   ],
   "source": [
    "message = \"It's pleasure to be a part of your life, \" + friends[0] + \".\"\n",
    "print(message)"
   ]
  },
  {
   "cell_type": "code",
   "execution_count": 17,
   "metadata": {},
   "outputs": [
    {
     "name": "stdout",
     "output_type": "stream",
     "text": [
      "It's pleasure to be a part of your life, Ina.\n"
     ]
    }
   ],
   "source": [
    "message = \"It's pleasure to be a part of your life, \" + friends[1] + \".\"\n",
    "print(message)"
   ]
  },
  {
   "cell_type": "code",
   "execution_count": 18,
   "metadata": {},
   "outputs": [
    {
     "name": "stdout",
     "output_type": "stream",
     "text": [
      "It's pleasure to be a part of your life, Amel.\n"
     ]
    }
   ],
   "source": [
    "message = \"It's pleasure to be a part of your life, \" + friends[2] + \".\"\n",
    "print(message)"
   ]
  },
  {
   "cell_type": "code",
   "execution_count": 19,
   "metadata": {},
   "outputs": [
    {
     "name": "stdout",
     "output_type": "stream",
     "text": [
      "It's pleasure to be a part of your life, Hafshah.\n"
     ]
    }
   ],
   "source": [
    "message = \"It's pleasure to be a part of your life, \" + friends[3] + \".\"\n",
    "print(message)"
   ]
  },
  {
   "cell_type": "code",
   "execution_count": 20,
   "metadata": {},
   "outputs": [
    {
     "name": "stdout",
     "output_type": "stream",
     "text": [
      "It's pleasure to be a part of your life, Nadila.\n"
     ]
    }
   ],
   "source": [
    "message = \"It's pleasure to be a part of your life, \" + friends[4] + \".\"\n",
    "print(message)"
   ]
  },
  {
   "cell_type": "markdown",
   "metadata": {},
   "source": [
    "#### 3-3. Your Own List: Think of your favorite mode of transportation, such as a motorcycle or a car, and make a list that stores several examples. Use your list to print a series of statements about these items."
   ]
  },
  {
   "cell_type": "code",
   "execution_count": 21,
   "metadata": {},
   "outputs": [
    {
     "name": "stdout",
     "output_type": "stream",
     "text": [
      "Saya suka berpergian dengan kereta.\n",
      "Saya suka berpergian dengan mobil.\n",
      "Saya suka berpergian dengan motor.\n"
     ]
    }
   ],
   "source": [
    "kendaraan = ['kereta', 'mobil', 'motor']\n",
    "pesan1 = \"Saya suka berpergian dengan \" + kendaraan[0] + '.'\n",
    "pesan2 = \"Saya suka berpergian dengan \" + kendaraan[1] + '.'\n",
    "pesan3 = \"Saya suka berpergian dengan \" + kendaraan[2] + '.'\n",
    "\n",
    "print(pesan1)\n",
    "print(pesan2)\n",
    "print(pesan3)"
   ]
  },
  {
   "cell_type": "markdown",
   "metadata": {},
   "source": [
    "#### 3-4. Guest List: If you could invite anyone, living or deceased, to dinner, who would you invite? Make a list that includes at least three people you'd like to invite to dinner. Then use your list to print a message to each person, inviting them to dinner."
   ]
  },
  {
   "cell_type": "code",
   "execution_count": 22,
   "metadata": {},
   "outputs": [
    {
     "name": "stdout",
     "output_type": "stream",
     "text": [
      "Would you like to dinner with me tonight, Mom?\n"
     ]
    }
   ],
   "source": [
    "guest = ['mom', 'dad', 'sister']\n",
    "message = \"Would you like to dinner with me tonight, \"\n",
    "\n",
    "print(message + guest[0].title() + \"?\")"
   ]
  },
  {
   "cell_type": "code",
   "execution_count": 23,
   "metadata": {},
   "outputs": [
    {
     "name": "stdout",
     "output_type": "stream",
     "text": [
      "Would you like to dinner with me tonight, Dad?\n"
     ]
    }
   ],
   "source": [
    "print(message + guest[1].title() + \"?\")"
   ]
  },
  {
   "cell_type": "code",
   "execution_count": 24,
   "metadata": {},
   "outputs": [
    {
     "name": "stdout",
     "output_type": "stream",
     "text": [
      "Would you like to dinner with me tonight, Sister?\n"
     ]
    }
   ],
   "source": [
    "print(message + guest[2].title() + \"?\")"
   ]
  },
  {
   "cell_type": "markdown",
   "metadata": {},
   "source": [
    "#### 3-5. Changing Guest List: You just heard that one of your guests can't make the dinner, so you need to send out a new set of invitations. You'll have to think of someone else to invite."
   ]
  },
  {
   "cell_type": "code",
   "execution_count": 25,
   "metadata": {},
   "outputs": [
    {
     "name": "stdout",
     "output_type": "stream",
     "text": [
      "Would you like to dinner with me tonight, Sister?\n",
      "My sister said that she can't come.\n"
     ]
    }
   ],
   "source": [
    "guest = ['mom', 'dad', 'sister']\n",
    "message = \"Would you like to dinner with me tonight, \"\n",
    "\n",
    "print(message + guest[2].title() + \"?\")\n",
    "print(\"My \" + guest[2] + \" said that she can't come.\")"
   ]
  },
  {
   "cell_type": "code",
   "execution_count": 26,
   "metadata": {},
   "outputs": [
    {
     "name": "stdout",
     "output_type": "stream",
     "text": [
      "['mom', 'dad', 'uncle']\n"
     ]
    }
   ],
   "source": [
    "#Mengganti List Guest\n",
    "guest[2] = 'uncle'\n",
    "\n",
    "print(guest)"
   ]
  },
  {
   "cell_type": "code",
   "execution_count": 27,
   "metadata": {},
   "outputs": [
    {
     "name": "stdout",
     "output_type": "stream",
     "text": [
      "Would you like to dinner with me tonight, Mom?\n",
      "Would you like to dinner with me tonight, Dad?\n",
      "Would you like to dinner with me tonight, Uncle?\n"
     ]
    }
   ],
   "source": [
    "#Keluarkan hasil 'Invitation message'\n",
    "\n",
    "print(message + guest[0].title() + \"?\")\n",
    "print(message + guest[1].title() + \"?\")\n",
    "print(message + guest[2].title() + \"?\")"
   ]
  },
  {
   "cell_type": "markdown",
   "metadata": {},
   "source": [
    "#### 3-6. More Guests: You just found a bigger dinner table, so now more space is available. Think of three more guests to invite to dinner."
   ]
  },
  {
   "cell_type": "code",
   "execution_count": 134,
   "metadata": {},
   "outputs": [
    {
     "name": "stdout",
     "output_type": "stream",
     "text": [
      "['mom', 'dad', 'uncle']\n"
     ]
    }
   ],
   "source": [
    "print(guest)"
   ]
  },
  {
   "cell_type": "code",
   "execution_count": 118,
   "metadata": {},
   "outputs": [
    {
     "name": "stdout",
     "output_type": "stream",
     "text": [
      "Hello, mom, dad, and uncle. I've a good news! We can dinner with more people. I'll ask aunty, nephew, and cousin to come.\n"
     ]
    }
   ],
   "source": [
    "message = \"Hello, \" + guest[0] + \", \" + guest[1] + \", and \" + guest[2] + \". I've a good news! We can dinner with more people. I'll ask aunty, nephew, and cousin to come.\"\n",
    "print(message)"
   ]
  },
  {
   "cell_type": "code",
   "execution_count": 28,
   "metadata": {},
   "outputs": [
    {
     "name": "stdout",
     "output_type": "stream",
     "text": [
      "['aunty', 'mom', 'nephew', 'dad', 'uncle', 'cousin']\n"
     ]
    }
   ],
   "source": [
    "#Menambahkan elemen di List guest\n",
    "\n",
    "guest.insert(0, 'aunty')\n",
    "guest.insert(2, 'nephew')\n",
    "guest.append('cousin')\n",
    "\n",
    "print(guest)"
   ]
  },
  {
   "cell_type": "code",
   "execution_count": 29,
   "metadata": {},
   "outputs": [
    {
     "name": "stdout",
     "output_type": "stream",
     "text": [
      "Hello Aunty, tonight I'll make an intimate dinner with our family. Would you like to come?\n"
     ]
    }
   ],
   "source": [
    "#Keluarkan hasil 'new invitation message'\n",
    "\n",
    "message = \"Hello \" + guest[0].title() + \",\" + \" tonight I'll make an intimate dinner with our family. Would you like to come?\"\n",
    "print(message)"
   ]
  },
  {
   "cell_type": "code",
   "execution_count": 30,
   "metadata": {},
   "outputs": [
    {
     "name": "stdout",
     "output_type": "stream",
     "text": [
      "Hello Mom, tonight I'll make an intimate dinner with our family. Would you like to come?\n"
     ]
    }
   ],
   "source": [
    "message = \"Hello \" + guest[1].title() + \",\" + \" tonight I'll make an intimate dinner with our family. Would you like to come?\"\n",
    "print(message)"
   ]
  },
  {
   "cell_type": "code",
   "execution_count": 31,
   "metadata": {},
   "outputs": [
    {
     "name": "stdout",
     "output_type": "stream",
     "text": [
      "Hello Nephew, tonight I'll make an intimate dinner with our family. Would you like to come?\n"
     ]
    }
   ],
   "source": [
    "message = \"Hello \" + guest[2].title() + \",\" + \" tonight I'll make an intimate dinner with our family. Would you like to come?\"\n",
    "print(message)"
   ]
  },
  {
   "cell_type": "code",
   "execution_count": 32,
   "metadata": {},
   "outputs": [
    {
     "name": "stdout",
     "output_type": "stream",
     "text": [
      "Hello Dad, tonight I'll make an intimate dinner with our family. Would you like to come?\n"
     ]
    }
   ],
   "source": [
    "message = \"Hello \" + guest[3].title() + \",\" + \" tonight I'll make an intimate dinner with our family. Would you like to come?\"\n",
    "print(message)"
   ]
  },
  {
   "cell_type": "code",
   "execution_count": 33,
   "metadata": {},
   "outputs": [
    {
     "name": "stdout",
     "output_type": "stream",
     "text": [
      "Hello Uncle, tonight I'll make an intimate dinner with our family. Would you like to come?\n"
     ]
    }
   ],
   "source": [
    "message = \"Hello \" + guest[4].title() + \",\" + \" tonight I'll make an intimate dinner with our family. Would you like to come?\"\n",
    "print(message)"
   ]
  },
  {
   "cell_type": "code",
   "execution_count": 34,
   "metadata": {},
   "outputs": [
    {
     "name": "stdout",
     "output_type": "stream",
     "text": [
      "Hello Cousin, tonight I'll make an intimate dinner with our family. Would you like to come?\n"
     ]
    }
   ],
   "source": [
    "message = \"Hello \" + guest[5].title() + \",\" + \" tonight I'll make an intimate dinner with our family. Would you like to come?\"\n",
    "print(message)"
   ]
  },
  {
   "cell_type": "markdown",
   "metadata": {},
   "source": [
    "#### 3-7. Shrinking Guest List: You just found out that your new dinner table won't arrive in time for the dinner, and you have space for only two guests."
   ]
  },
  {
   "cell_type": "code",
   "execution_count": 137,
   "metadata": {},
   "outputs": [
    {
     "name": "stdout",
     "output_type": "stream",
     "text": [
      "Oh, no! I've a bad news. For some reason, I just can invite two person. I'm sorry  aunty , mom , nephew , dad , uncle , and cousin\n"
     ]
    }
   ],
   "source": [
    "print(\"Oh, no! I've a bad news. For some reason, I just can invite two person. I'm sorry \", guest[0], \",\", guest[1],\",\", guest[2],\",\", guest[3],\",\", guest[4],\", and\", guest[5])"
   ]
  },
  {
   "cell_type": "code",
   "execution_count": 35,
   "metadata": {},
   "outputs": [
    {
     "name": "stdout",
     "output_type": "stream",
     "text": [
      "Sorry aunty , because I can't invite you to dinner\n"
     ]
    },
    {
     "data": {
      "text/plain": [
       "'aunty'"
      ]
     },
     "execution_count": 35,
     "metadata": {},
     "output_type": "execute_result"
    }
   ],
   "source": [
    "#Menghapus elemen di List guest\n",
    "\n",
    "print(\"Sorry\", guest[0], \", because I can't invite you to dinner\")\n",
    "guest.pop(0)"
   ]
  },
  {
   "cell_type": "code",
   "execution_count": 36,
   "metadata": {},
   "outputs": [
    {
     "name": "stdout",
     "output_type": "stream",
     "text": [
      "Sorry nephew , because I can't invite you to dinner\n"
     ]
    },
    {
     "data": {
      "text/plain": [
       "'nephew'"
      ]
     },
     "execution_count": 36,
     "metadata": {},
     "output_type": "execute_result"
    }
   ],
   "source": [
    "print(\"Sorry\", guest[1], \", because I can't invite you to dinner\")\n",
    "guest.pop(1)"
   ]
  },
  {
   "cell_type": "code",
   "execution_count": 37,
   "metadata": {
    "scrolled": true
   },
   "outputs": [
    {
     "name": "stdout",
     "output_type": "stream",
     "text": [
      "Sorry uncle , because I can't invite you to dinner\n"
     ]
    },
    {
     "data": {
      "text/plain": [
       "'uncle'"
      ]
     },
     "execution_count": 37,
     "metadata": {},
     "output_type": "execute_result"
    }
   ],
   "source": [
    "print(\"Sorry\", guest[2], \", because I can't invite you to dinner\")\n",
    "guest.pop(2)"
   ]
  },
  {
   "cell_type": "code",
   "execution_count": 38,
   "metadata": {
    "scrolled": true
   },
   "outputs": [
    {
     "name": "stdout",
     "output_type": "stream",
     "text": [
      "['mom', 'dad', 'cousin']\n"
     ]
    }
   ],
   "source": [
    "print(guest)"
   ]
  },
  {
   "cell_type": "code",
   "execution_count": 39,
   "metadata": {},
   "outputs": [
    {
     "name": "stdout",
     "output_type": "stream",
     "text": [
      "Sorry cousin , because I can't invite you to dinner\n"
     ]
    },
    {
     "data": {
      "text/plain": [
       "'cousin'"
      ]
     },
     "execution_count": 39,
     "metadata": {},
     "output_type": "execute_result"
    }
   ],
   "source": [
    "print(\"Sorry\", guest[2], \", because I can't invite you to dinner\")\n",
    "guest.pop(2)"
   ]
  },
  {
   "cell_type": "code",
   "execution_count": 40,
   "metadata": {},
   "outputs": [
    {
     "name": "stdout",
     "output_type": "stream",
     "text": [
      "Hello  mom and dad . Please come to my house to dinner tonight.\n"
     ]
    }
   ],
   "source": [
    "#Keluarkan hasil pesan kepada 2 tamu yang diundang\n",
    "\n",
    "print(\"Hello \", guest[0], \"and\", guest[1],\". Please come to my house to dinner tonight.\")"
   ]
  },
  {
   "cell_type": "code",
   "execution_count": 41,
   "metadata": {},
   "outputs": [
    {
     "name": "stdout",
     "output_type": "stream",
     "text": [
      "['dad']\n"
     ]
    }
   ],
   "source": [
    "#Menghapus elemen di List guest\n",
    "\n",
    "del guest[0]\n",
    "print(guest)"
   ]
  },
  {
   "cell_type": "code",
   "execution_count": 42,
   "metadata": {},
   "outputs": [
    {
     "name": "stdout",
     "output_type": "stream",
     "text": [
      "[]\n"
     ]
    }
   ],
   "source": [
    "del guest[0]\n",
    "print(guest)"
   ]
  },
  {
   "cell_type": "markdown",
   "metadata": {},
   "source": [
    "#### 3-8. Seeing the World: Think of at least five places in the world you'd like to visit."
   ]
  },
  {
   "cell_type": "code",
   "execution_count": 1,
   "metadata": {},
   "outputs": [
    {
     "name": "stdout",
     "output_type": "stream",
     "text": [
      "['makkah', 'swis', 'maldives', 'lombok', 'london']\n"
     ]
    }
   ],
   "source": [
    "#Membuat List place\n",
    "\n",
    "place = ['makkah', 'swis', 'maldives', 'lombok', 'london']\n",
    "print(place)"
   ]
  },
  {
   "cell_type": "code",
   "execution_count": 2,
   "metadata": {},
   "outputs": [
    {
     "name": "stdout",
     "output_type": "stream",
     "text": [
      "['lombok', 'london', 'makkah', 'maldives', 'swis']\n",
      "['makkah', 'swis', 'maldives', 'lombok', 'london']\n"
     ]
    }
   ],
   "source": [
    "#Mengurutkan elemen List sementara\n",
    "print(sorted(place))\n",
    "\n",
    "#Original list\n",
    "print(place)"
   ]
  },
  {
   "cell_type": "code",
   "execution_count": 3,
   "metadata": {},
   "outputs": [
    {
     "name": "stdout",
     "output_type": "stream",
     "text": [
      "['swis', 'maldives', 'makkah', 'london', 'lombok']\n"
     ]
    }
   ],
   "source": [
    "#Membalik List place yang telah diurutkan\n",
    "place = ['makkah', 'swis', 'maldives', 'lombok', 'london']\n",
    "print(sorted(place,reverse=True))"
   ]
  },
  {
   "cell_type": "code",
   "execution_count": 4,
   "metadata": {},
   "outputs": [
    {
     "name": "stdout",
     "output_type": "stream",
     "text": [
      "['makkah', 'swis', 'maldives', 'lombok', 'london']\n"
     ]
    }
   ],
   "source": [
    "#Original List\n",
    "print(place)"
   ]
  },
  {
   "cell_type": "code",
   "execution_count": 5,
   "metadata": {},
   "outputs": [
    {
     "name": "stdout",
     "output_type": "stream",
     "text": [
      "['london', 'lombok', 'maldives', 'swis', 'makkah']\n"
     ]
    }
   ],
   "source": [
    "#Membalik List place dengan fungsi reverse()\n",
    "place.reverse()\n",
    "print(place)"
   ]
  },
  {
   "cell_type": "code",
   "execution_count": 6,
   "metadata": {},
   "outputs": [
    {
     "name": "stdout",
     "output_type": "stream",
     "text": [
      "['makkah', 'swis', 'maldives', 'lombok', 'london']\n"
     ]
    }
   ],
   "source": [
    "#Membalik List place menjadi original List\n",
    "place.reverse()\n",
    "print(place)"
   ]
  },
  {
   "cell_type": "code",
   "execution_count": 7,
   "metadata": {},
   "outputs": [
    {
     "name": "stdout",
     "output_type": "stream",
     "text": [
      "['lombok', 'london', 'makkah', 'maldives', 'swis']\n"
     ]
    }
   ],
   "source": [
    "#Mengurutkan List place dengan sort()\n",
    "place.sort()\n",
    "print(place)"
   ]
  },
  {
   "cell_type": "code",
   "execution_count": 8,
   "metadata": {},
   "outputs": [
    {
     "name": "stdout",
     "output_type": "stream",
     "text": [
      "['swis', 'maldives', 'makkah', 'london', 'lombok']\n"
     ]
    }
   ],
   "source": [
    "#Membalik List place yang telah diurutkan\n",
    "place.sort(reverse=True)\n",
    "print(place)"
   ]
  },
  {
   "cell_type": "markdown",
   "metadata": {},
   "source": [
    "#### 3-9. Dinner Guests: Working with one of the programs from Exercises 3-4 through 3-7, use len() to print a message indicating the number of people you are inviting to dinner"
   ]
  },
  {
   "cell_type": "code",
   "execution_count": 50,
   "metadata": {},
   "outputs": [
    {
     "name": "stdout",
     "output_type": "stream",
     "text": [
      "Banyaknya tamu yang diundang adalah 3 orang.\n"
     ]
    }
   ],
   "source": [
    "guest = ['mom', 'dad', 'sister']\n",
    "print('Banyaknya tamu yang diundang adalah',len(guest), 'orang.')"
   ]
  },
  {
   "cell_type": "markdown",
   "metadata": {},
   "source": [
    "#### 3-10. Every Function: Think of something you could store in a list. Write a program that creates a list containing these items and then uses each function introduced in this chapter at least once"
   ]
  },
  {
   "cell_type": "code",
   "execution_count": 51,
   "metadata": {},
   "outputs": [
    {
     "data": {
      "text/plain": [
       "5"
      ]
     },
     "execution_count": 51,
     "metadata": {},
     "output_type": "execute_result"
    }
   ],
   "source": [
    "animal = ['cat', 'dog', 'lion', 'giraffe', 'rabbit']\n",
    "len(animal)"
   ]
  },
  {
   "cell_type": "code",
   "execution_count": 52,
   "metadata": {},
   "outputs": [
    {
     "name": "stdout",
     "output_type": "stream",
     "text": [
      "['rabbit', 'lion', 'giraffe', 'dog', 'cat']\n"
     ]
    }
   ],
   "source": [
    "print(sorted(animal,reverse=True))"
   ]
  },
  {
   "cell_type": "code",
   "execution_count": 53,
   "metadata": {},
   "outputs": [
    {
     "name": "stdout",
     "output_type": "stream",
     "text": [
      "['cat', 'dog', 'lion', 'giraffe', 'rabbit']\n"
     ]
    }
   ],
   "source": [
    "sorted(animal)\n",
    "print(animal)"
   ]
  }
 ],
 "metadata": {
  "kernelspec": {
   "display_name": "Python 3",
   "language": "python",
   "name": "python3"
  },
  "language_info": {
   "codemirror_mode": {
    "name": "ipython",
    "version": 3
   },
   "file_extension": ".py",
   "mimetype": "text/x-python",
   "name": "python",
   "nbconvert_exporter": "python",
   "pygments_lexer": "ipython3",
   "version": "3.7.4"
  }
 },
 "nbformat": 4,
 "nbformat_minor": 2
}
