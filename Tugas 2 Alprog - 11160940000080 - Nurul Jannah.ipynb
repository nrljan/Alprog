{
 "cells": [
  {
   "cell_type": "markdown",
   "metadata": {},
   "source": [
    "<center><strong><h1>Tugas 2 Algoritma dan Pemrograman</h1></strong></center>\n",
    "<p style=\"margin-left:40%;font-size:20px;font-weight:600;color:blue;\"> Nurul Jannah</p>\n",
    "<p style=\"margin-left:38.5%;font-size:20px;font-weight:600;color:blue;\"> 11160940000080</p> "
   ]
  },
  {
   "cell_type": "markdown",
   "metadata": {},
   "source": [
    "#### 4-1. Pizzas: Think of at least three kinds of your favorite pizza. Store these pizza names in a list, and then use a _for_ loop to print the name of each pizza."
   ]
  },
  {
   "cell_type": "code",
   "execution_count": 34,
   "metadata": {},
   "outputs": [
    {
     "name": "stdout",
     "output_type": "stream",
     "text": [
      "My favorite pizzas are:\n",
      "- Pepperoni Pizza\n",
      "- Meat Pizza\n",
      "- Cheesy Pizza\n"
     ]
    }
   ],
   "source": [
    "pizza = ['pepperoni', 'meat', 'cheesy']\n",
    "\n",
    "print(\"My favorite pizzas are:\")\n",
    "for i in pizza:\n",
    "    print(\"- \" + i.title() + \" Pizza\")"
   ]
  },
  {
   "cell_type": "markdown",
   "metadata": {},
   "source": [
    "* __Modify your _for_ loop to print a sentence using the name of the pizza instead of printing just the name of the pizza. For each pizza you should have one line of output containing a simple statement.__"
   ]
  },
  {
   "cell_type": "code",
   "execution_count": 2,
   "metadata": {},
   "outputs": [
    {
     "name": "stdout",
     "output_type": "stream",
     "text": [
      "I like pepperoni pizza\n",
      "I like meat pizza\n",
      "I like cheesy pizza\n"
     ]
    }
   ],
   "source": [
    "for i in pizza:\n",
    "    print('I like ' + i + ' pizza')"
   ]
  },
  {
   "cell_type": "markdown",
   "metadata": {},
   "source": [
    "* __Add a line at the end of your program, outside the _for_ loop, that states how much you like pizza. The output should consist of three or more lines about the kinds of pizza you like and then an additional sentence.__"
   ]
  },
  {
   "cell_type": "code",
   "execution_count": 3,
   "metadata": {},
   "outputs": [
    {
     "name": "stdout",
     "output_type": "stream",
     "text": [
      "I like pepperoni pizza\n",
      "I like meat pizza\n",
      "I like cheesy pizza\n",
      "\n",
      "I really love pizza!\n"
     ]
    }
   ],
   "source": [
    "for i in pizza:\n",
    "    print('I like ' + i + ' pizza')\n",
    "    \n",
    "print('\\nI really love pizza!')"
   ]
  },
  {
   "cell_type": "markdown",
   "metadata": {},
   "source": [
    "#### 4-2. Animals: Think of at least three different animals that have a common characteristic. Store the names of these animals in a list, and then use a _for_ loop to print out the name of each animal."
   ]
  },
  {
   "cell_type": "code",
   "execution_count": 4,
   "metadata": {},
   "outputs": [
    {
     "name": "stdout",
     "output_type": "stream",
     "text": [
      "cat\n",
      "dog\n",
      "rabbit\n"
     ]
    }
   ],
   "source": [
    "animal = ['cat', 'dog', 'rabbit']\n",
    "\n",
    "for x in animal:\n",
    "    print(x)"
   ]
  },
  {
   "cell_type": "markdown",
   "metadata": {},
   "source": [
    "* __Modify your program to print a statement about each animal__"
   ]
  },
  {
   "cell_type": "code",
   "execution_count": 5,
   "metadata": {},
   "outputs": [
    {
     "name": "stdout",
     "output_type": "stream",
     "text": [
      "A cat would make a great pet.\n",
      "A dog would make a great pet.\n",
      "A rabbit would make a great pet.\n"
     ]
    }
   ],
   "source": [
    "for x in animal:\n",
    "    print('A ' + x + ' would make a great pet.')"
   ]
  },
  {
   "cell_type": "markdown",
   "metadata": {},
   "source": [
    "* __Add a line ot the end of your program stating what these animal have in common__"
   ]
  },
  {
   "cell_type": "code",
   "execution_count": 6,
   "metadata": {},
   "outputs": [
    {
     "name": "stdout",
     "output_type": "stream",
     "text": [
      "A cat would make a great pet.\n",
      "A dog would make a great pet.\n",
      "A rabbit would make a great pet.\n",
      "\n",
      "Any of these animals would make a great pet!\n"
     ]
    }
   ],
   "source": [
    "for x in animal:\n",
    "    print('A ' + x + ' would make a great pet.')\n",
    "    \n",
    "print('\\nAny of these animals would make a great pet!')"
   ]
  },
  {
   "cell_type": "markdown",
   "metadata": {},
   "source": [
    "#### 4-3. Counting to Twenty: Use a _for_ loop to print the numbers from 1 to 20, inclusive."
   ]
  },
  {
   "cell_type": "code",
   "execution_count": 7,
   "metadata": {},
   "outputs": [
    {
     "name": "stdout",
     "output_type": "stream",
     "text": [
      "1 2 3 4 5 6 7 8 9 10 11 12 13 14 15 16 17 18 19 20 "
     ]
    }
   ],
   "source": [
    "for number in range(1,21):\n",
    "    print(number, end=' ')"
   ]
  },
  {
   "cell_type": "markdown",
   "metadata": {},
   "source": [
    "#### 4-4. One Million: Make a list of the numbers from one to one million, and then use a _for_ loop to print the numbers."
   ]
  },
  {
   "cell_type": "code",
   "execution_count": null,
   "metadata": {
    "scrolled": false
   },
   "outputs": [],
   "source": [
    "numbers = list(range(1, 1000001))\n",
    "\n",
    "for number in numbers:\n",
    "    print(number, end=' ')"
   ]
  },
  {
   "cell_type": "markdown",
   "metadata": {},
   "source": [
    "#### 4-5. Summing a Million: Make a list of the numbers from one to one million, and then use min() and max() to make sure your list actually starts at one and ends at one million. Also, use the sum() function to see how quickly Python can add a million numbers."
   ]
  },
  {
   "cell_type": "code",
   "execution_count": 35,
   "metadata": {},
   "outputs": [
    {
     "name": "stdout",
     "output_type": "stream",
     "text": [
      "Nilai terkecil:  1\n",
      "Nilai terbesar:  1000000\n",
      "Jumlah:  500000500000\n"
     ]
    }
   ],
   "source": [
    "print('Nilai terkecil: ', min(numbers))\n",
    "print('Nilai terbesar: ', max(numbers))\n",
    "print('Jumlah: ', sum(numbers))"
   ]
  },
  {
   "cell_type": "markdown",
   "metadata": {},
   "source": [
    "#### 4-6. Odd Numbers: Use the third argument of the range() function to make a list of the odd numbers from 1 to 20. Use a _for_ loop to print each number."
   ]
  },
  {
   "cell_type": "code",
   "execution_count": 11,
   "metadata": {},
   "outputs": [
    {
     "name": "stdout",
     "output_type": "stream",
     "text": [
      "1 3 5 7 9 11 13 15 17 19 "
     ]
    }
   ],
   "source": [
    "for odd_number in list(range(1,21,2)):\n",
    "    print(odd_number, end=' ')"
   ]
  },
  {
   "cell_type": "markdown",
   "metadata": {},
   "source": [
    "#### 4-7. Threes: Make a list of the multiples of 3 from 3 to 30. Use a _for_ loop to print the numbers in your list"
   ]
  },
  {
   "cell_type": "code",
   "execution_count": 13,
   "metadata": {},
   "outputs": [
    {
     "name": "stdout",
     "output_type": "stream",
     "text": [
      "3 6 9 12 15 18 21 24 27 30 "
     ]
    }
   ],
   "source": [
    "for threes in list(range(3,31,3)):\n",
    "    print(threes, end=' ')"
   ]
  },
  {
   "cell_type": "markdown",
   "metadata": {},
   "source": [
    "#### 4-8. Cubes: A number raised to the third power is called a _cube_. For example, the cube of 2 is written as 2**3 in Python. Make a list of the first 10 cubes (that is, the cube of each integer from 1 through 10), and use a _for_ loop to print out the value of each cube."
   ]
  },
  {
   "cell_type": "code",
   "execution_count": 15,
   "metadata": {},
   "outputs": [
    {
     "name": "stdout",
     "output_type": "stream",
     "text": [
      "[1, 8, 27, 64, 125, 216, 343, 512, 729, 1000]\n"
     ]
    }
   ],
   "source": [
    "cubes = []\n",
    "for number in range(1,11):\n",
    "    cube = number**3\n",
    "    cubes.append(cube)\n",
    "print(cubes)"
   ]
  },
  {
   "cell_type": "markdown",
   "metadata": {},
   "source": [
    "#### 4-9. Cube Comprehension: Use a list comprehension to generate a list of the first 10 cubes."
   ]
  },
  {
   "cell_type": "code",
   "execution_count": 16,
   "metadata": {},
   "outputs": [
    {
     "name": "stdout",
     "output_type": "stream",
     "text": [
      "[1, 8, 27, 64, 125, 216, 343, 512, 729, 1000]\n"
     ]
    }
   ],
   "source": [
    "cubes = [number**3 for number in range(1,11)]\n",
    "print(cubes)"
   ]
  },
  {
   "cell_type": "markdown",
   "metadata": {},
   "source": [
    "#### 4-10. Slices: Using one of the programs you wrote in this chapter, add several lines to the end of the program that do the following:\n",
    "\n",
    "* __Print the message, _The first three items in the list are:_. Then use a slice to print the first three items from that program's list.__"
   ]
  },
  {
   "cell_type": "code",
   "execution_count": 18,
   "metadata": {},
   "outputs": [
    {
     "name": "stdout",
     "output_type": "stream",
     "text": [
      "The first three items in the list are:  [1, 8, 27]\n"
     ]
    }
   ],
   "source": [
    "cubes = [number**3 for number in range(1,11)]\n",
    "print(\"The first three items in the list are: \", cubes[:3])"
   ]
  },
  {
   "cell_type": "markdown",
   "metadata": {},
   "source": [
    "* __Print the message, _Three items from the middle of the list are:_. Use a slice to print three items from the middle of the list.__"
   ]
  },
  {
   "cell_type": "code",
   "execution_count": 21,
   "metadata": {},
   "outputs": [
    {
     "name": "stdout",
     "output_type": "stream",
     "text": [
      "Three items from the middle of the list are:  [64, 125, 216]\n"
     ]
    }
   ],
   "source": [
    "print(\"Three items from the middle of the list are: \", cubes[3:6])"
   ]
  },
  {
   "cell_type": "markdown",
   "metadata": {},
   "source": [
    "* __Print the message, _The last three items in the list are:_. Use a slice to print the last three items in the list__"
   ]
  },
  {
   "cell_type": "code",
   "execution_count": 22,
   "metadata": {},
   "outputs": [
    {
     "name": "stdout",
     "output_type": "stream",
     "text": [
      "The last three item in the list are :  [512, 729, 1000]\n"
     ]
    }
   ],
   "source": [
    "print(\"The last three item in the list are : \", cubes[-3:])"
   ]
  },
  {
   "cell_type": "markdown",
   "metadata": {},
   "source": [
    "#### 4-11. My Pizzas, Your Pizzas: Start with your program from Exercise 4-1. Make a copy of the list of pizzas, and call it friend_pizzas. Then, do the following:"
   ]
  },
  {
   "cell_type": "code",
   "execution_count": 23,
   "metadata": {},
   "outputs": [
    {
     "name": "stdout",
     "output_type": "stream",
     "text": [
      "My favorite pizzas are:  ['pepperoni', 'meat', 'cheesy']\n",
      "My friend's favorite pizzas are:  ['pepperoni', 'meat', 'cheesy']\n"
     ]
    }
   ],
   "source": [
    "pizza = ['pepperoni', 'meat', 'cheesy']\n",
    "friend_pizzas = pizza[:]\n",
    "\n",
    "print(\"My favorite pizzas are: \", pizza)\n",
    "print(\"My friend's favorite pizzas are: \", friend_pizzas)"
   ]
  },
  {
   "cell_type": "markdown",
   "metadata": {},
   "source": [
    "* __Add a new pizza to the original list.__"
   ]
  },
  {
   "cell_type": "code",
   "execution_count": 24,
   "metadata": {},
   "outputs": [],
   "source": [
    "pizza.append('chicken')"
   ]
  },
  {
   "cell_type": "markdown",
   "metadata": {},
   "source": [
    "* __Add a different pizza to the list friend_pizzas.__"
   ]
  },
  {
   "cell_type": "code",
   "execution_count": 25,
   "metadata": {},
   "outputs": [],
   "source": [
    "friend_pizzas.append('veggie')"
   ]
  },
  {
   "cell_type": "markdown",
   "metadata": {},
   "source": [
    "* __Prove that you have two separate lists. Print the message, _My favorite pizzas are:_ , and then use a _for_ loop to print the first list. Print the message, _My friend's favorite pizzas are:_ , and the use a _for_ loop to print the second list. Make sure each new pizza is stored in the appropriate list.__"
   ]
  },
  {
   "cell_type": "code",
   "execution_count": 28,
   "metadata": {},
   "outputs": [
    {
     "name": "stdout",
     "output_type": "stream",
     "text": [
      "My favorite pizzas are:\n",
      "- Pepperoni\n",
      "- Meat\n",
      "- Cheesy\n",
      "- Chicken\n",
      "\n",
      "My friend's favorite pizzas are:\n",
      "- Pepperoni\n",
      "- Meat\n",
      "- Cheesy\n",
      "- Veggie\n"
     ]
    }
   ],
   "source": [
    "print(\"My favorite pizzas are:\")\n",
    "for i in pizza :\n",
    "    print(\"- \" + i.title())\n",
    "    \n",
    "print(\"\\nMy friend's favorite pizzas are:\")\n",
    "for x in friend_pizzas :\n",
    "    print(\"- \" + x.title())"
   ]
  },
  {
   "cell_type": "markdown",
   "metadata": {},
   "source": [
    "#### 4-13. Buffet: A buffet-style restaurant offers only five basic foods. Think of five simple foods, and store them in a tuple.\n",
    "\n",
    "* __Use a _for_ loop to print each food the restaurant offers.__"
   ]
  },
  {
   "cell_type": "code",
   "execution_count": 29,
   "metadata": {},
   "outputs": [
    {
     "name": "stdout",
     "output_type": "stream",
     "text": [
      "You can choose from the following menu items:\n",
      "-  Sandwich\n",
      "-  Nuggets\n",
      "-  Beef Burger\n",
      "-  Pepperoni Pizza\n",
      "-  Fruit Salad\n"
     ]
    }
   ],
   "source": [
    "buffet = ('sandwich', 'nuggets', 'beef burger', 'pepperoni pizza', 'fruit salad')\n",
    "\n",
    "print(\"You can choose from the following menu items:\")\n",
    "for food in buffet:\n",
    "    print(\"- \", food.title())"
   ]
  },
  {
   "cell_type": "markdown",
   "metadata": {},
   "source": [
    "* __Try to modify one of the items, and make sure that Python rejects the change.__"
   ]
  },
  {
   "cell_type": "code",
   "execution_count": 30,
   "metadata": {},
   "outputs": [
    {
     "ename": "TypeError",
     "evalue": "'tuple' object does not support item assignment",
     "output_type": "error",
     "traceback": [
      "\u001b[1;31m---------------------------------------------------------------------------\u001b[0m",
      "\u001b[1;31mTypeError\u001b[0m                                 Traceback (most recent call last)",
      "\u001b[1;32m<ipython-input-30-cc5c5dba2c26>\u001b[0m in \u001b[0;36m<module>\u001b[1;34m\u001b[0m\n\u001b[1;32m----> 1\u001b[1;33m \u001b[0mbuffet\u001b[0m\u001b[1;33m[\u001b[0m\u001b[1;36m1\u001b[0m\u001b[1;33m]\u001b[0m \u001b[1;33m=\u001b[0m \u001b[1;34m'smoked beef'\u001b[0m\u001b[1;33m\u001b[0m\u001b[1;33m\u001b[0m\u001b[0m\n\u001b[0m\u001b[0;32m      2\u001b[0m \u001b[0mprint\u001b[0m\u001b[1;33m(\u001b[0m\u001b[0mbuffet\u001b[0m\u001b[1;33m)\u001b[0m\u001b[1;33m\u001b[0m\u001b[1;33m\u001b[0m\u001b[0m\n",
      "\u001b[1;31mTypeError\u001b[0m: 'tuple' object does not support item assignment"
     ]
    }
   ],
   "source": [
    "buffet[1] = 'smoked beef'\n",
    "print(buffet)"
   ]
  },
  {
   "cell_type": "markdown",
   "metadata": {},
   "source": [
    "* __The restaurant changes its menu, replacing two of the items with different foods. Add a block of code that rewrites the tuple, and then use a _for_ loop to print each of the items on the revised menu.__"
   ]
  },
  {
   "cell_type": "code",
   "execution_count": 32,
   "metadata": {},
   "outputs": [
    {
     "name": "stdout",
     "output_type": "stream",
     "text": [
      "You can choose from the following menu items:\n",
      "-  Sandwich\n",
      "-  Nuggets\n",
      "-  Beef Burger\n",
      "-  Pepperoni Pizza\n",
      "-  Fruit Salad\n",
      "\n",
      "Our menu has been updated.\n",
      "You can choose from the following menu items:\n",
      "-  Sandwich\n",
      "-  Smoked Beef\n",
      "-  Beef Burger\n",
      "-  Cheesy Pizza\n",
      "-  Fruit Salad\n"
     ]
    }
   ],
   "source": [
    "buffet = ('sandwich', 'nuggets', 'beef burger', 'pepperoni pizza', 'fruit salad')\n",
    "\n",
    "print(\"You can choose from the following menu items:\")\n",
    "for food in buffet:\n",
    "    print(\"- \", food.title())\n",
    "\n",
    "print(\"\\nOur menu has been updated.\")\n",
    "buffet = ('sandwich', 'smoked beef', 'beef burger', 'cheesy pizza', 'fruit salad')\n",
    "print(\"You can choose from the following menu items:\")\n",
    "for food in buffet:\n",
    "    print(\"- \", food.title())"
   ]
  }
 ],
 "metadata": {
  "kernelspec": {
   "display_name": "Python 3",
   "language": "python",
   "name": "python3"
  },
  "language_info": {
   "codemirror_mode": {
    "name": "ipython",
    "version": 3
   },
   "file_extension": ".py",
   "mimetype": "text/x-python",
   "name": "python",
   "nbconvert_exporter": "python",
   "pygments_lexer": "ipython3",
   "version": "3.7.4"
  }
 },
 "nbformat": 4,
 "nbformat_minor": 2
}
