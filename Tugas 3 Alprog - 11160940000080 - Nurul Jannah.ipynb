{
 "cells": [
  {
   "cell_type": "markdown",
   "metadata": {},
   "source": [
    "<center><strong><h1>Tugas 3 Algoritma dan Pemrograman</h1></strong></center>\n",
    "<p style=\"margin-left:40%;font-size:20px;font-weight:600;color:blue;\"> Nurul Jannah</p>\n",
    "<p style=\"margin-left:38.5%;font-size:20px;font-weight:600;color:blue;\"> 11160940000080</p> "
   ]
  },
  {
   "cell_type": "markdown",
   "metadata": {},
   "source": [
    "#### 5-6. Stages of Life: Write an if-elif-else chain that determines a person's stage of life. Set a value for the variable age"
   ]
  },
  {
   "cell_type": "code",
   "execution_count": 1,
   "metadata": {},
   "outputs": [
    {
     "name": "stdout",
     "output_type": "stream",
     "text": [
      "You are an adult\n"
     ]
    }
   ],
   "source": [
    "age = 21\n",
    "\n",
    "if age < 2:\n",
    "    print(\"You are a baby\")\n",
    "elif age < 4:\n",
    "    print(\"You are a toddler\")\n",
    "elif age < 13:\n",
    "    print(\"You are a kid\")\n",
    "elif age < 20:\n",
    "    print(\"You are a teenager\")\n",
    "elif age < 65:\n",
    "    print(\"You are an adult\")\n",
    "else:\n",
    "    print(\"You are an elder\")"
   ]
  },
  {
   "cell_type": "markdown",
   "metadata": {},
   "source": [
    "#### 5-10. Checking Usernames: Do the following to create a program that simulates how websites ensure that everyone has a unique username.\n",
    "\n",
    "* __Make a list of five or more usernames called current_users.__\n",
    "* __Make another list of five usernames called new_users. Make sure one or two of the new usernames are also in the current_users list.__\n",
    "* __Loop through the new_users list to see if each new username has already been used. If it has, print a message that the person will need to enter a new username. If a username has not been used, print a message saying that the username is available.__\n",
    "* __Make sure your comparison is case insensitive. If 'John' has been used, 'JOHN' should not be accepted.__"
   ]
  },
  {
   "cell_type": "code",
   "execution_count": 3,
   "metadata": {},
   "outputs": [
    {
     "name": "stdout",
     "output_type": "stream",
     "text": [
      "Tutung is available.\n",
      "Milo is available.\n",
      "Cila is available.\n",
      "Sorry username JUNIOR already exists. Please choose another one.\n",
      "Sorry username bruno already exists. Please choose another one.\n"
     ]
    }
   ],
   "source": [
    "current_users = ['Junior', 'Bruno', 'cemong', 'Neko', 'moca']\n",
    "new_users = ['Tutung', 'Milo', 'Cila', 'JUNIOR', 'bruno']\n",
    "\n",
    "current_users_upper = [user.upper() for user in current_users]\n",
    "\n",
    "for new_user in new_users:\n",
    "    if new_user.upper() in current_users_upper:\n",
    "        print(\"Sorry username \" + new_user + \" already exists. Please choose another one.\")\n",
    "    else:\n",
    "        print(new_user + \" is available.\")"
   ]
  }
 ],
 "metadata": {
  "kernelspec": {
   "display_name": "Python 3",
   "language": "python",
   "name": "python3"
  },
  "language_info": {
   "codemirror_mode": {
    "name": "ipython",
    "version": 3
   },
   "file_extension": ".py",
   "mimetype": "text/x-python",
   "name": "python",
   "nbconvert_exporter": "python",
   "pygments_lexer": "ipython3",
   "version": "3.7.4"
  }
 },
 "nbformat": 4,
 "nbformat_minor": 2
}
