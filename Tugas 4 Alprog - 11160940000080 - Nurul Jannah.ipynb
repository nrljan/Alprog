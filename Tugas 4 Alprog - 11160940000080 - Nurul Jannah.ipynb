{
 "cells": [
  {
   "cell_type": "markdown",
   "metadata": {},
   "source": [
    "<center><strong><h1>Tugas 4 Algoritma dan Pemrograman</h1></strong></center>\n",
    "<p style=\"margin-left:40%;font-size:20px;font-weight:600;color:blue;\"> Nurul Jannah</p>\n",
    "<p style=\"margin-left:38.5%;font-size:20px;font-weight:600;color:blue;\"> 11160940000080</p> "
   ]
  },
  {
   "cell_type": "markdown",
   "metadata": {},
   "source": [
    "#### 6-1. Person: Use a dictionary to store information about a person you know. Store their first name, last name, age, and the city in which they live. You should have keys such as first_name, last_name, age, and city. Print each piece of information stored in your dictionary."
   ]
  },
  {
   "cell_type": "code",
   "execution_count": 3,
   "metadata": {},
   "outputs": [
    {
     "name": "stdout",
     "output_type": "stream",
     "text": [
      "Novia \n",
      "Indriyantie\n",
      "21\n",
      "Depok\n"
     ]
    }
   ],
   "source": [
    "person = {'first_name' : 'Novia ',\n",
    "         'last_name' : 'Indriyantie',\n",
    "         'age' : 21,\n",
    "         'city' : 'Depok'}\n",
    "\n",
    "print(person['first_name'])\n",
    "print(person['last_name'])\n",
    "print(person['age'])\n",
    "print(person['city'])"
   ]
  },
  {
   "cell_type": "markdown",
   "metadata": {},
   "source": [
    "#### 6-2. Favorite Numbers: Use a dictionary to store people's favorite numbers. Think of five names, and use them as keys in your dictionary. Think of a favorite number for each person, and store each as a value in your dictionary. Print each person's name and their favorite number. For even more fun, poll a few friends and get some actual data for your program."
   ]
  },
  {
   "cell_type": "code",
   "execution_count": 7,
   "metadata": {},
   "outputs": [
    {
     "name": "stdout",
     "output_type": "stream",
     "text": [
      "Mia favorite number is 6.\n",
      "Ami favorite number is 18.\n",
      "Nia favorite number is 100.\n",
      "Ani favorite number is 80.\n",
      "Ina favorite number is 5.\n"
     ]
    }
   ],
   "source": [
    "fav_numbers = {\n",
    "    'mia' : 6,\n",
    "    'ami' : 18,\n",
    "    'nia' : 100,\n",
    "    'ani' : 80,\n",
    "    'ina' : 5\n",
    "              }\n",
    "\n",
    "print('Mia favorite number is ' + str(fav_numbers['mia']) + '.')\n",
    "print('Ami favorite number is ' + str(fav_numbers['ami']) + '.')\n",
    "print('Nia favorite number is ' + str(fav_numbers['nia']) + '.')\n",
    "print('Ani favorite number is ' + str(fav_numbers['ani']) + '.')\n",
    "print('Ina favorite number is ' + str(fav_numbers['ina']) + '.')"
   ]
  },
  {
   "cell_type": "markdown",
   "metadata": {},
   "source": [
    "#### 6-3. Glossary: A Python dictionary can be used to model an actual dictionary. However, to avoid confusion, let's call it a glossary."
   ]
  },
  {
   "cell_type": "markdown",
   "metadata": {},
   "source": [
    "* __Think of five programming words you've learned about in the previous chapters. Use these words as the keys in your glossary, and store their maenings as values.__"
   ]
  },
  {
   "cell_type": "code",
   "execution_count": 13,
   "metadata": {},
   "outputs": [
    {
     "name": "stdout",
     "output_type": "stream",
     "text": [
      "Tuple : urutan objek Python yang tidak berubah.\n",
      "\n",
      "List : kumpulan dari item atau elemen yang memiliki urutan.\n",
      "\n",
      "Variabel : lokasi memori yang dicadangkan untuk menyimpan nilai-nilai.\n",
      "\n",
      "Tipe data : suatu media atau memori pada komputer yang digunakan untuk menampung informasi.\n",
      "\n",
      "Looping : mengeksekusi perintah tertentu secara berulang-ulang dan jumlah perulangan dapat diatur sesuai keinginan.\n",
      "\n"
     ]
    }
   ],
   "source": [
    "glossary = {\n",
    "    'Tuple' : 'urutan objek Python yang tidak berubah.',\n",
    "    'List' : 'kumpulan dari item atau elemen yang memiliki urutan.',\n",
    "    'Variabel' : 'lokasi memori yang dicadangkan untuk menyimpan nilai-nilai.',\n",
    "    'Tipe data' : 'suatu media atau memori pada komputer yang digunakan untuk menampung informasi.',\n",
    "    'Looping' : 'mengeksekusi perintah tertentu secara berulang-ulang dan jumlah perulangan dapat diatur sesuai keinginan.',\n",
    "    }\n",
    "\n",
    "for i,j in glossary.items():\n",
    "    print( i + ' :', j + '\\n')"
   ]
  },
  {
   "cell_type": "markdown",
   "metadata": {},
   "source": [
    "#### 6-7. People: Start with the program you wrote for Exercise 6-1. Make two new dictionaries representing different people, and store all three dictionaries in a list called _people. loop_ through your list of people. As you loop through the list, print everything you know about each person. "
   ]
  },
  {
   "cell_type": "code",
   "execution_count": 18,
   "metadata": {},
   "outputs": [
    {
     "name": "stdout",
     "output_type": "stream",
     "text": [
      "Novia  Indriyantie tinggal di Depok dan berusia 21tahun.\n",
      "Nurul  Jannah tinggal di Depok dan berusia 21tahun.\n",
      "Nabila  Sina tinggal di Jakarta Selatan dan berusia 22tahun.\n"
     ]
    }
   ],
   "source": [
    "person_0 = {'first_name' : 'Novia ',\n",
    "         'last_name' : 'Indriyantie',\n",
    "         'age' : 21,\n",
    "         'city' : 'Depok'}\n",
    "\n",
    "person_1 = {'first_name' : 'Nurul ',\n",
    "         'last_name' : 'Jannah',\n",
    "         'age' : 21,\n",
    "         'city' : 'Depok'}\n",
    "\n",
    "person_2 = {'first_name' : 'Nabila ',\n",
    "         'last_name' : 'Sina',\n",
    "         'age' : 22,\n",
    "         'city' : 'Jakarta Selatan'}\n",
    "\n",
    "people = [person_0, person_1, person_2]\n",
    "\n",
    "for person in people:\n",
    "    nama = person['first_name'] + \" \" + person['last_name']\n",
    "    age = str(person['age'])\n",
    "    city = person['city']\n",
    "    print(nama + \" tinggal di \" + city + \" dan berusia \" + age + \"tahun.\")"
   ]
  },
  {
   "cell_type": "markdown",
   "metadata": {},
   "source": [
    "#### 6-11. Cities: Make a dictionary called _cities_. Use the names of three cities as keys in your dictionary. Create a dictionary of information about each city and include the country that the city is in, its approximate population, and one fact about that city. The keys for each city's dictionary should be something lke _country, population,_ and _fact_. Print the name of each city and all of the information you have stored about it."
   ]
  },
  {
   "cell_type": "code",
   "execution_count": 21,
   "metadata": {},
   "outputs": [
    {
     "name": "stdout",
     "output_type": "stream",
     "text": [
      "\n",
      "Busan is in Korea Selatan.\n",
      " It has a population of about 10369593.\n",
      " The capital city of the country is Seoul.\n",
      "\n",
      "Bogor is in Indonesia.\n",
      " It has a population of about 10187595.\n",
      " The capital city of the country is Jakarta.\n",
      "\n",
      "Hamburg is in Jerman.\n",
      " It has a population of about 3520000.\n",
      " The capital city of the country is Berlin.\n"
     ]
    }
   ],
   "source": [
    "cities = {\n",
    "    'busan' : {\n",
    "        'country' : 'korea selatan',\n",
    "        'population' : 10369593,\n",
    "        'capital city' : 'seoul'\n",
    "    },\n",
    "    'bogor' : {\n",
    "        'country' : 'indonesia',\n",
    "        'population' : 10187595,\n",
    "        'capital city' : 'jakarta'\n",
    "    },\n",
    "    'hamburg' : {\n",
    "        'country' : 'jerman',\n",
    "        'population' : 3520000,\n",
    "        'capital city' : 'berlin'\n",
    "    }\n",
    "}\n",
    "\n",
    "for city, info in cities.items():\n",
    "    country = info['country'].title()\n",
    "    population = info['population']\n",
    "    capital_city = info['capital city'].title()\n",
    "    \n",
    "    print('\\n' + city.title() + ' is in ' + country + '.')\n",
    "    print(' It has a population of about ' + str(population) + '.')\n",
    "    print(' The capital city of the country is ' + capital_city.title() + '.')"
   ]
  }
 ],
 "metadata": {
  "kernelspec": {
   "display_name": "Python 3",
   "language": "python",
   "name": "python3"
  },
  "language_info": {
   "codemirror_mode": {
    "name": "ipython",
    "version": 3
   },
   "file_extension": ".py",
   "mimetype": "text/x-python",
   "name": "python",
   "nbconvert_exporter": "python",
   "pygments_lexer": "ipython3",
   "version": "3.7.4"
  }
 },
 "nbformat": 4,
 "nbformat_minor": 2
}
