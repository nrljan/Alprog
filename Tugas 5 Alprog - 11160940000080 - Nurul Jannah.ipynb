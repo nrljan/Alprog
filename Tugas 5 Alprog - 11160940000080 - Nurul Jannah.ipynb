{
 "cells": [
  {
   "cell_type": "markdown",
   "metadata": {},
   "source": [
    "<center><strong><h1>Tugas 5 Algoritma dan Pemrograman</h1></strong></center>\n",
    "<p style=\"margin-left:40%;font-size:20px;font-weight:600;color:blue;\"> Nurul Jannah</p>\n",
    "<p style=\"margin-left:38.5%;font-size:20px;font-weight:600;color:blue;\"> 11160940000080</p> "
   ]
  },
  {
   "cell_type": "markdown",
   "metadata": {},
   "source": [
    "#### 7-8. Deli: Make a list called sandwich_orders and fill it with the names of various sandwiches. Then make an empty list called finished_sandwiches. Loop through the list of sandwich orders and print a message for each order, such as _I made your tuna sandwich_. As each sandwich is made, move it to the list of finished sandwiches. After all the sandwich is made, move it to the list of finished sandwiches. After all the sandwiches have been made, print a message listing each sandwich that was made."
   ]
  },
  {
   "cell_type": "code",
   "execution_count": 11,
   "metadata": {},
   "outputs": [
    {
     "name": "stdout",
     "output_type": "stream",
     "text": [
      "I made your roast beef sandwich.\n",
      "I made your veggie sandwich.\n",
      "I made your tuna sandwich.\n",
      "\n",
      " Sandwich that was made :\n",
      "- Roast Beef Sandwich\n",
      "- Veggie Sandwich\n",
      "- Tuna Sandwich\n"
     ]
    }
   ],
   "source": [
    "sandwich_orders = ['tuna', 'veggie', 'roast beef']\n",
    "finished_sandwiches = []\n",
    "\n",
    "while sandwich_orders:\n",
    "    sandwich = sandwich_orders.pop()\n",
    "    print('I made your ' + sandwich + ' sandwich.')\n",
    "    finished_sandwiches.append(sandwich)\n",
    "\n",
    "print(\"\\n Sandwich that was made :\")\n",
    "for i in finished_sandwiches :\n",
    "    print(\"- \" + i.title() + \" Sandwich\")"
   ]
  },
  {
   "cell_type": "markdown",
   "metadata": {},
   "source": [
    "#### 7-9. No Pastrami: Using the list sandwich_orders from Exercise 7-8, make sure the sandwich 'pastrami' appears in the list at least three times. Add code near the beginning of your program to print a message saying the deli has run out pastrami, and then use a while loop to remove all occurrences of 'pastrami' from sandwich_orders. Make sure no pastrami sandwiches end up in finished_sanwiches."
   ]
  },
  {
   "cell_type": "code",
   "execution_count": 14,
   "metadata": {},
   "outputs": [
    {
     "name": "stdout",
     "output_type": "stream",
     "text": [
      "Pastrami sold out.\n",
      "\n",
      "I made your roast beef sandwich.\n",
      "I made your veggie sandwich.\n",
      "I made your tuna sandwich.\n",
      "\n",
      " Sandwich that was made :\n",
      "- Roast Beef Sandwich\n",
      "- Veggie Sandwich\n",
      "- Tuna Sandwich\n"
     ]
    }
   ],
   "source": [
    "sandwich_orders = ['pastrami', 'tuna', 'veggie', 'pastrami', 'roast beef', 'pastrami']\n",
    "finished_sandwiches = []\n",
    "\n",
    "print(\"Pastrami sold out.\\n\")\n",
    "while 'pastrami' in sandwich_orders:\n",
    "    sandwich_orders.remove('pastrami')\n",
    "    \n",
    "while sandwich_orders:\n",
    "    sandwich = sandwich_orders.pop()\n",
    "    print('I made your ' + sandwich + ' sandwich.')\n",
    "    finished_sandwiches.append(sandwich)\n",
    "    \n",
    "print(\"\\n Sandwich that was made :\")\n",
    "for i in finished_sandwiches :\n",
    "    print(\"- \" + i.title() + \" Sandwich\")"
   ]
  },
  {
   "cell_type": "markdown",
   "metadata": {},
   "source": [
    "#### The mathematician Srinivasa Ramanujan found an infinite series that can be used to generate a numerical approximation of 1/pi; Write a function called estimate_pi that uses this formula to compute and return an last term is smaller than 1e-15 (which is Python notation for 10^-15)."
   ]
  },
  {
   "cell_type": "code",
   "execution_count": 23,
   "metadata": {},
   "outputs": [
    {
     "name": "stdout",
     "output_type": "stream",
     "text": [
      "3.141592653589793\n"
     ]
    }
   ],
   "source": [
    "import math\n",
    "\n",
    "def factorial(n):\n",
    "    if n == 0:\n",
    "        return 1\n",
    "    else:\n",
    "        recurse = factorial(n-1)\n",
    "        result = n * recurse\n",
    "        return result\n",
    "    \n",
    "def estimate_pi():\n",
    "    total = 0\n",
    "    k = 0\n",
    "    factor = 2 * math.sqrt(2)/9801\n",
    "    while True:\n",
    "        num = factorial(4*k) * (1103 + 26390 * k)\n",
    "        den = factorial(k)**4 * 396**(4*k)\n",
    "        term = factor * num/den\n",
    "        total += term\n",
    "        \n",
    "        if abs(term) < 1e-15:\n",
    "            break\n",
    "        k += 1\n",
    "    return 1/total\n",
    "    \n",
    "print(estimate_pi())"
   ]
  },
  {
   "cell_type": "code",
   "execution_count": 24,
   "metadata": {},
   "outputs": [
    {
     "data": {
      "text/plain": [
       "3.141592653589793"
      ]
     },
     "execution_count": 24,
     "metadata": {},
     "output_type": "execute_result"
    }
   ],
   "source": [
    "import math\n",
    "math.pi"
   ]
  }
 ],
 "metadata": {
  "kernelspec": {
   "display_name": "Python 3",
   "language": "python",
   "name": "python3"
  },
  "language_info": {
   "codemirror_mode": {
    "name": "ipython",
    "version": 3
   },
   "file_extension": ".py",
   "mimetype": "text/x-python",
   "name": "python",
   "nbconvert_exporter": "python",
   "pygments_lexer": "ipython3",
   "version": "3.7.4"
  }
 },
 "nbformat": 4,
 "nbformat_minor": 2
}
