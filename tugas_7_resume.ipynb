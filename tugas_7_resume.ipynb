{
 "cells": [
  {
   "cell_type": "markdown",
   "metadata": {},
   "source": [
    "<center><strong><h1>Resume Pertemuan 8 </h1></strong></center>\n",
    "<center><strong><h1>Algoritma dan Pemrograman</h1></strong></center>\n",
    "<p style=\"margin-left:40%;font-size:20px;font-weight:600;color:blue;\"> Nurul Jannah</p>\n",
    "<p style=\"margin-left:38.5%;font-size:20px;font-weight:600;color:blue;\"> 11160940000080</p> "
   ]
  },
  {
   "cell_type": "markdown",
   "metadata": {},
   "source": [
    "## Object-Oriented Programming (OOP)"
   ]
  },
  {
   "cell_type": "markdown",
   "metadata": {},
   "source": [
    "### A. Apa itu Object-Oriented Programming?"
   ]
  },
  {
   "cell_type": "markdown",
   "metadata": {},
   "source": [
    "Pemrograman berorientasi objek, atau OOP singkatnya, adalah paradigma pemrograman atau teknik pemrograman dimana semua hal dalam program dimodelkan seperti objek dalam dunia nyata. Objek di dunia nyata memiliki ciri atau atribut dan juga aksi atau kelakuan. Misalnya, objek bisa mewakili seseorang dengan ciri nama, umur, alamat, dan lain-lain dengan perilaku seperti berjalan, berbicara, bernafas, dan berlari. "
   ]
  },
  {
   "cell_type": "markdown",
   "metadata": {},
   "source": [
    "Paradigma pemrograman umum lainnya adalah pemrograman prosedural yang menyusun program seperti resep karena menyediakan seperangkat langkah, dalam bentuk fungsi dan blok kode, yang dieksekusi secara berurutan untuk menyelesaikan tugas."
   ]
  },
  {
   "cell_type": "markdown",
   "metadata": {},
   "source": [
    "* **Catatan:** _Python merupakan bahasa pemrograman multi-paradigma. Untuk menyelesaikan suatu masalah, Anda dapat memilih paradigma yang paling sesuai dengan masalah yang ada, menggabungkan paradigma yang berbeda dalam satu program, dan/atau beralih dari satu paradigma ke paradigma lain._"
   ]
  },
  {
   "cell_type": "markdown",
   "metadata": {},
   "source": [
    "### B. Istilah-istilah Dalam OOP"
   ]
  },
  {
   "cell_type": "markdown",
   "metadata": {},
   "source": [
    "Berikut beberapa istilah dalam OOP yang perlu diketahui.\n",
    "\n",
    "* **Kelas** : cetak biru atau prototipe dari objek dimana kita mendefinisikan atribut dari suatu objek. Atribut ini terdiri dari data member (variabel) dan fungsi (metode).\n",
    "* **Variabel Kelas** : variabel yang dibagi oleh semua _instance_ (turunan) dari kelas. Variabel kelas didefiniskan di dalam kelas, tapi di luar metode-metode yang ada dalam kelas tersebut.\n",
    "* **Data Member** : variabel yang menyimpan data yang berhubungan dengan kelas dan objeknya.\n",
    "* **Overloading Fungsi** : fungsi yang memiliki nama yang sama di dalam kelas, tapi dengan jumlah dan tipe argumen yang berbeda sehingga dapat melakukan beberapa hal yang berbeda.\n",
    "* **Overloading Operator** : pembuatan beberapa fungsi atau kegunaan untuk suatu operator. Misalnya operator + dibuat tidak hanya untuk penjumlahan, tapi juga untuk fungsi lain.\n",
    "* **Variabel Instansiasi** : variabel yang didefinisikan di dalam suatu metode dan hanya menjadi milik dari _instance_ kelas.\n",
    "* **Pewarisan/Inheritansi** : pewarisan karakterisitik sebuah kelas ke kelas lain yang menjadi turunannya.\n",
    "* **_Instance_** : istilah lain dari objek suatu kelas. Sebuah objek yang dibuat dari prototipe kelas lingkaran misalnya disebut sebagai _instance_ dari kelas tersebut.\n",
    "* **Instansiasi** : pembuatan _instance_ /objek dari suatu kelas.\n",
    "* **Metode** : fungsi yang didefinisikan di dalam suatu kelas.\n",
    "* **Objek** : instansiasi atau perwujudan dari sebuah kelas. Bila kelas adalah prototipenya, dan objek adalah barang jadinya."
   ]
  },
  {
   "cell_type": "markdown",
   "metadata": {},
   "source": [
    "### C. _class_ dengan Python "
   ]
  },
  {
   "cell_type": "markdown",
   "metadata": {},
   "source": [
    "_class_ merupakan prototipe yang ditentukan pengguna untuk objek yang mendefinisikan seperangkat atribut yang menjadi ciri objek kelas apa pun. Atribut adalah data anggota (variabel kelas dan variabel contoh) dan metode, diakses melalui notasi titik. Contoh dari atribut misalnya meja, kursi, nama dan kemudiannya metodenya seperti diputar atau sebagainya."
   ]
  },
  {
   "cell_type": "markdown",
   "metadata": {},
   "source": [
    "Objek memiliki field berupa variabel objek dan method berupa fungsi objek. Keduanya disebut atribut objek. Class juga dapat memiliki field class (class variable) dan method class."
   ]
  },
  {
   "cell_type": "markdown",
   "metadata": {},
   "source": [
    "Dalam deklarasi method pada class terdapat perbedaan yaitu ada parameter pertama yang harus ditambahkan pada parameter fungsi. Parameter ini diberi nama _self_ , nilai parameter ini menunjuk ke objek/instance itu sendiri."
   ]
  },
  {
   "cell_type": "markdown",
   "metadata": {},
   "source": [
    "### D. Membuat _class_ dengan Python"
   ]
  },
  {
   "cell_type": "code",
   "execution_count": 1,
   "metadata": {},
   "outputs": [
    {
     "name": "stdout",
     "output_type": "stream",
     "text": [
      "sniper menyerang rikimaru\n",
      "rikimaru diserang sniper\n",
      "serangan terasa : 1.0\n",
      "darah rikimaru tersisa 99.0\n",
      "\n",
      "\n",
      "rikimaru menyerang sniper\n",
      "sniper diserang rikimaru\n",
      "serangan terasa : 4.0\n",
      "darah sniper tersisa 96.0\n"
     ]
    }
   ],
   "source": [
    "class Hero :  # template (1)\n",
    "\n",
    "    def __init__(self, name, health, attackPower, armorNumber) : # method (2)\n",
    "        self.name = name\n",
    "        self.health = health\n",
    "        self.attackPower = attackPower\n",
    "        self.armorNumber = armorNumber\n",
    "\n",
    "    def serang(self, lawan) : # method (3)\n",
    "        print(self.name + ' menyerang ' + lawan.name)\n",
    "        lawan.diserang(self, self.attackPower)\n",
    "\n",
    "    def diserang(self, lawan, attackPower_lawan) : # method (4)\n",
    "        print(self.name + ' diserang ' + lawan.name)\n",
    "        attack_diterima = attackPower_lawan/self.armorNumber\n",
    "        print('serangan terasa : ' + str(attack_diterima))\n",
    "        self.health -= attack_diterima\n",
    "        print('darah ' + self.name + ' tersisa ' + str(self.health))\n",
    "\n",
    "sniper = Hero('sniper', 100, 10, 5) # (5)\n",
    "rikimaru = Hero('rikimaru', 100, 20, 10)\n",
    "\n",
    "sniper.serang(rikimaru) # (6)\n",
    "print(\"\\n\")\n",
    "rikimaru.serang(sniper)"
   ]
  },
  {
   "cell_type": "markdown",
   "metadata": {},
   "source": [
    "* **Penjelasan:** \n",
    "(1) Mulai dengan kata kunci _class_ untuk menunjukkan bahwa Anda membuat sebuah _class_ kemudian diikuti dengan nama _class_ yang dimulai dengan huruf kapital.\n",
    "(2) Metode __ init __ () adalah metode konstruktor, yaitu metode khusus yang digunakan Python untuk menginisialisasi pembuatan objek dari kelas tersebut. Adapun konstruktor Hero memiliki parameter name, health, attackPower, dan armorNumber yang harus selalu diisi saat membuat objek. Di dalam konstruktor terdapat inisialisasi atribut untuk name, health, attackPower, dan armorNumber.\n",
    "(3) \n",
    "(4) Metode dibuat untuk melakukan aksi tertentu.\n",
    "(5) Membuat instance objek. Untuk membuat objek dari sebuah kelas, kita bisa memanggil nama kelas dengan argumen sesuai dengan fungsi __ init __ () pada saat kita mendefiniskannya.\n",
    "(6) Mengakses atribut. Kita bisa mengakses atribut objek dengan menggunakan operator titik. Variabel kelas bisa diakses dengan menggunakan nama kelasnya."
   ]
  },
  {
   "cell_type": "markdown",
   "metadata": {},
   "source": [
    "### E. Referensi"
   ]
  },
  {
   "cell_type": "markdown",
   "metadata": {},
   "source": [
    "[1] medium.com. Object-Oriented Programming (OOP) dengan Python 3. Diakses pada 10 Mei 2020, dari https://medium.com/@denihhandoko/object-oriented-programming-oop-dengan-python-3-9a618df7429e\n",
    "\n",
    "[2] pythonindo.com. Pemrograman Berorientasi Objek di Python. Diakses pada 12 Mei 2020, dari https://www.pythonindo.com/pemrograman-berorientasi-objek-di-python/\n",
    "\n",
    "[3] codepolitan.com. Membuat Class di Python. Diakses pada 12 Mei 2020, dari https://www.codepolitan.com/membuat-class-di-python-589528b4d558d"
   ]
  }
 ],
 "metadata": {
  "kernelspec": {
   "display_name": "Python 3",
   "language": "python",
   "name": "python3"
  },
  "language_info": {
   "codemirror_mode": {
    "name": "ipython",
    "version": 3
   },
   "file_extension": ".py",
   "mimetype": "text/x-python",
   "name": "python",
   "nbconvert_exporter": "python",
   "pygments_lexer": "ipython3",
   "version": "3.7.4"
  }
 },
 "nbformat": 4,
 "nbformat_minor": 2
}
