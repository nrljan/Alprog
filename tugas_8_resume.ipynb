{
 "cells": [
  {
   "cell_type": "markdown",
   "metadata": {},
   "source": [
    "<center><strong><h1>Resume Pertemuan 9 </h1></strong></center>\n",
    "<center><strong><h1>Algoritma dan Pemrograman</h1></strong></center>\n",
    "<p style=\"margin-left:40%;font-size:20px;font-weight:600;color:blue;\"> Nurul Jannah</p>\n",
    "<p style=\"margin-left:38.5%;font-size:20px;font-weight:600;color:blue;\"> 11160940000080</p> "
   ]
  },
  {
   "cell_type": "markdown",
   "metadata": {},
   "source": [
    "## NumPy"
   ]
  },
  {
   "cell_type": "markdown",
   "metadata": {},
   "source": [
    "### A. Apa itu NumPy?"
   ]
  },
  {
   "cell_type": "markdown",
   "metadata": {},
   "source": [
    "**NumPy** ( _Numerical Python_ ) adalah library Python yang fokus pada _scientific computing_ . NumPy memiliki kemampuan untuk membentuk objek N-dimensional _array_ , yang mirip dengan _list_ pada Python. Keunggulan NumPy array dibandingkan dengan _list_ pada Python adalah konsumsi _memory_ yang lebih kecil serta _runtime_ yang lebih cepat. NumPy juga memudahkan kita pada Aljabar Linear, terutama operasi pada Vector ( 1-d _array_ ) dan Matrix ( 2-d _array_ )."
   ]
  },
  {
   "cell_type": "markdown",
   "metadata": {},
   "source": [
    "_List_ pada Python tidak mendukung penuh kemudahan _scientific computing_ , berikut contoh operasi penjumlahan pada 2 _list_ ."
   ]
  },
  {
   "cell_type": "code",
   "execution_count": 1,
   "metadata": {},
   "outputs": [
    {
     "name": "stdout",
     "output_type": "stream",
     "text": [
      "[1, 2, 3, 4, 5, 6, 7, 8, 9, 10]\n"
     ]
    }
   ],
   "source": [
    "# List pada Python\n",
    "\n",
    "a = [1, 2, 3, 4, 5]\n",
    "b = [6, 7, 8, 9, 10]\n",
    "\n",
    "hasil = a + b\n",
    "print(hasil)"
   ]
  },
  {
   "cell_type": "markdown",
   "metadata": {},
   "source": [
    "Terlihat dari proses diatas, saat kita ingin menjumlahkan tiap elemen pada list a dan list b, hasilnya dengan operator + adalah penggabungan ( _concat_ ) keduanya. Tentu tidak sesuai dengan yang diharapkan."
   ]
  },
  {
   "cell_type": "markdown",
   "metadata": {},
   "source": [
    "### B. Pengenalan NumPy Arrays"
   ]
  },
  {
   "cell_type": "markdown",
   "metadata": {},
   "source": [
    "* **Membuat Array**"
   ]
  },
  {
   "cell_type": "code",
   "execution_count": 2,
   "metadata": {},
   "outputs": [
    {
     "name": "stdout",
     "output_type": "stream",
     "text": [
      "[1 2 3 4 5]\n"
     ]
    }
   ],
   "source": [
    "import numpy as np   # (1)\n",
    "\n",
    "a = np.array([1, 2, 3, 4, 5])  # (2)\n",
    "print(a)"
   ]
  },
  {
   "cell_type": "markdown",
   "metadata": {},
   "source": [
    "**Penjelasan**: (1) Lakukan _import_ terlebih dahulu library **numpy as np**. Penggunaan _as_ disini artinya kita menggantikan pemanggilan **numpy** dengan **np** untuk proses berikutnya. (2) Untuk membuat sebuah _array_ , kita menggunakan **array()** yang terdapat pada NumPy."
   ]
  },
  {
   "cell_type": "markdown",
   "metadata": {},
   "source": [
    "* **Membuat Vector dengan range()**"
   ]
  },
  {
   "cell_type": "code",
   "execution_count": 3,
   "metadata": {},
   "outputs": [
    {
     "name": "stdout",
     "output_type": "stream",
     "text": [
      "[1 3 5 7 9]\n"
     ]
    }
   ],
   "source": [
    "import numpy as np  # (1)\n",
    "\n",
    "c = np.arange(1, 10, 2)  # (2)\n",
    "print(c)"
   ]
  },
  {
   "cell_type": "markdown",
   "metadata": {},
   "source": [
    "**Penjelasan**: (1) Lakukan _import_ terlebih dahulu library **numpy as np**. (2) Digunakan **arange()** yang terdapat pada NumPy. **arange(1, 10, 2)** artinya akan dibuat vector mulai dari 1 sampai 10 dengan step 2"
   ]
  },
  {
   "cell_type": "markdown",
   "metadata": {},
   "source": [
    "* **Membuat Linear Space**"
   ]
  },
  {
   "cell_type": "code",
   "execution_count": 4,
   "metadata": {},
   "outputs": [
    {
     "name": "stdout",
     "output_type": "stream",
     "text": [
      "[ 1.  4.  7. 10.]\n"
     ]
    }
   ],
   "source": [
    "import numpy as np\n",
    "\n",
    "d = np.linspace(1, 10, 4)  # artinya menampilkan 4 angka dalam range 1 sampai 10 dalam jarak yang sama\n",
    "print(d)"
   ]
  },
  {
   "cell_type": "markdown",
   "metadata": {},
   "source": [
    "* **Membuat Array Multidimensi/Matrix**"
   ]
  },
  {
   "cell_type": "code",
   "execution_count": 5,
   "metadata": {},
   "outputs": [
    {
     "name": "stdout",
     "output_type": "stream",
     "text": [
      "[[2 3 4]\n",
      " [5 6 7]]\n"
     ]
    }
   ],
   "source": [
    "import numpy as np\n",
    "\n",
    "e = np.array([ (1, 2, 3), (4, 5, 6) ])\n",
    "print(e+1)"
   ]
  },
  {
   "cell_type": "code",
   "execution_count": 6,
   "metadata": {},
   "outputs": [
    {
     "name": "stdout",
     "output_type": "stream",
     "text": [
      "[[0. 0. 0. 0. 0.]\n",
      " [0. 0. 0. 0. 0.]\n",
      " [0. 0. 0. 0. 0.]\n",
      " [0. 0. 0. 0. 0.]\n",
      " [0. 0. 0. 0. 0.]]\n"
     ]
    }
   ],
   "source": [
    "# Matrix dengan nilai nol\n",
    "\n",
    "import numpy as np\n",
    "\n",
    "f = np.zeros((5, 5))\n",
    "print(f)"
   ]
  },
  {
   "cell_type": "code",
   "execution_count": 7,
   "metadata": {},
   "outputs": [
    {
     "name": "stdout",
     "output_type": "stream",
     "text": [
      "[[1. 1. 1. 1. 1.]\n",
      " [1. 1. 1. 1. 1.]\n",
      " [1. 1. 1. 1. 1.]\n",
      " [1. 1. 1. 1. 1.]\n",
      " [1. 1. 1. 1. 1.]]\n"
     ]
    }
   ],
   "source": [
    "# Matrix dengan nilai satu\n",
    "\n",
    "g = np.ones((5,5))\n",
    "print(g)"
   ]
  },
  {
   "cell_type": "code",
   "execution_count": 8,
   "metadata": {},
   "outputs": [
    {
     "name": "stdout",
     "output_type": "stream",
     "text": [
      "[[1. 0. 0. 0. 0.]\n",
      " [0. 1. 0. 0. 0.]\n",
      " [0. 0. 1. 0. 0.]\n",
      " [0. 0. 0. 1. 0.]\n",
      " [0. 0. 0. 0. 1.]]\n",
      "\n",
      " [[1. 0. 0. 0. 0.]\n",
      " [0. 1. 0. 0. 0.]\n",
      " [0. 0. 1. 0. 0.]\n",
      " [0. 0. 0. 1. 0.]\n",
      " [0. 0. 0. 0. 1.]]\n"
     ]
    }
   ],
   "source": [
    "# Matrix Identitas\n",
    "\n",
    "h1 = np.identity(5)  # Cara 1\n",
    "h2 = np.eye(5)       # Cara 2\n",
    "\n",
    "print(h1)\n",
    "print(\"\\n\",h2)"
   ]
  },
  {
   "cell_type": "markdown",
   "metadata": {},
   "source": [
    "### C. Operasi Aritmatika dengan NumPy"
   ]
  },
  {
   "cell_type": "markdown",
   "metadata": {},
   "source": [
    "NumPy memudahkan kita untuk operasi _elementwise_ pada Vektor dan Matriks seperti penjumlahan, perkalian, pangkat, dan operasi lainnya. Operasi _elementwise_ artinya operasi dilakukan per elemen."
   ]
  },
  {
   "cell_type": "markdown",
   "metadata": {},
   "source": [
    "* **Contoh Operasi Aritmatika dengan NumPy:**"
   ]
  },
  {
   "cell_type": "code",
   "execution_count": 9,
   "metadata": {},
   "outputs": [
    {
     "name": "stdout",
     "output_type": "stream",
     "text": [
      "Hasil penjumlahan dari anp dan bnp adalah \n",
      " [ 7  9 11 13 15]\n"
     ]
    }
   ],
   "source": [
    "import numpy as np\n",
    "\n",
    "# Membuat array\n",
    "\n",
    "anp = np.array([1, 2, 3, 4, 5])\n",
    "bnp = np.array([6, 7, 8, 9, 10])\n",
    "\n",
    "# Penjumlahan\n",
    "hasil = anp + bnp\n",
    "print(\"Hasil penjumlahan dari anp dan bnp adalah \\n\",hasil)"
   ]
  },
  {
   "cell_type": "code",
   "execution_count": 10,
   "metadata": {},
   "outputs": [
    {
     "name": "stdout",
     "output_type": "stream",
     "text": [
      "Hasil pengurangan dari anp dan bnp adalah \n",
      " [-5 -5 -5 -5 -5]\n"
     ]
    }
   ],
   "source": [
    "# Pengurangan\n",
    "\n",
    "hasil = anp - bnp\n",
    "print(\"Hasil pengurangan dari anp dan bnp adalah \\n\",hasil)"
   ]
  },
  {
   "cell_type": "code",
   "execution_count": 11,
   "metadata": {},
   "outputs": [
    {
     "name": "stdout",
     "output_type": "stream",
     "text": [
      "Hasil perkalian anp dan bnp adalah \n",
      " [ 6 14 24 36 50]\n"
     ]
    }
   ],
   "source": [
    "# Perkalian\n",
    "\n",
    "hasil = anp * bnp\n",
    "print(\"Hasil perkalian anp dan bnp adalah \\n\", hasil)"
   ]
  },
  {
   "cell_type": "code",
   "execution_count": 12,
   "metadata": {},
   "outputs": [
    {
     "name": "stdout",
     "output_type": "stream",
     "text": [
      "Hasil pembagian anp dan bnp adalah \n",
      " [0.16666667 0.28571429 0.375      0.44444444 0.5       ]\n"
     ]
    }
   ],
   "source": [
    "# Pembagian\n",
    "\n",
    "hasil = anp/bnp\n",
    "print(\"Hasil pembagian anp dan bnp adalah \\n\",hasil)"
   ]
  },
  {
   "cell_type": "code",
   "execution_count": 13,
   "metadata": {},
   "outputs": [
    {
     "name": "stdout",
     "output_type": "stream",
     "text": [
      "Hasil dari anp kuadrat adalah \n",
      " [ 1  4  9 16 25]\n"
     ]
    }
   ],
   "source": [
    "# Kuadrat\n",
    "\n",
    "hasil = anp**2\n",
    "print(\"Hasil dari anp kuadrat adalah \\n\", hasil)"
   ]
  },
  {
   "cell_type": "code",
   "execution_count": 14,
   "metadata": {},
   "outputs": [
    {
     "name": "stdout",
     "output_type": "stream",
     "text": [
      "[[  7  16  27]\n",
      " [ -4 -10 -18]]\n"
     ]
    }
   ],
   "source": [
    "# Multidimensi array NumPy\n",
    "\n",
    "c = np.array(( [1, 2, 3], [4, 5, 6] ))\n",
    "d = np.array(( [7, 8, 9], [-1, -2, -3] ))\n",
    "\n",
    "hasil = c * d  # ini bukan perkalian matrix\n",
    "print(hasil)"
   ]
  },
  {
   "cell_type": "markdown",
   "metadata": {},
   "source": [
    "### D. Indexing, Slicing, dan Iterasi"
   ]
  },
  {
   "cell_type": "markdown",
   "metadata": {},
   "source": [
    "#### Array Indexing"
   ]
  },
  {
   "cell_type": "markdown",
   "metadata": {},
   "source": [
    "Indeks pada suatu array dimulai pada indeks ke-0. Untuk mengakses elemen pada array, kita menggunakan indeks sebagai alamat elemen pada array."
   ]
  },
  {
   "cell_type": "markdown",
   "metadata": {},
   "source": [
    "#### Slicing"
   ]
  },
  {
   "cell_type": "markdown",
   "metadata": {},
   "source": [
    "Selain mengambil sebuah elemen array dengan cara _indexing_ , kita dapat melakukan _slicing_ , yaitu melakukan ekstraksi elemen atau beberapa elemen pada array, dengan menggunakan tanda **[:]**.\n",
    "\n",
    "**var[lower:upper:step]**\n",
    "\n",
    "Elemen pada **lower** akan dimasukkan hasil _slicing_ , sedangkan elemen pada **upper** TIDAK dimasukkan hasil _slicing_ , dan step adalah jarak antar elemen."
   ]
  },
  {
   "cell_type": "markdown",
   "metadata": {},
   "source": [
    "* **Contoh indexing, slicing, dan iterasi:**"
   ]
  },
  {
   "cell_type": "code",
   "execution_count": 15,
   "metadata": {},
   "outputs": [
    {
     "name": "stdout",
     "output_type": "stream",
     "text": [
      "[ 0  1  4  9 16 25 36 49 64 81]\n"
     ]
    }
   ],
   "source": [
    "import numpy as np\n",
    "\n",
    "a = np.arange(10)**2\n",
    "print(a)"
   ]
  },
  {
   "cell_type": "code",
   "execution_count": 16,
   "metadata": {},
   "outputs": [
    {
     "name": "stdout",
     "output_type": "stream",
     "text": [
      "Elemen ke-1 dari a adalah 0\n",
      "Elemen terakhir dari a adalah 81\n"
     ]
    }
   ],
   "source": [
    "# Mengambil nilai dengan indexing\n",
    "\n",
    "print(\"Elemen ke-1 dari a adalah\", a[0])\n",
    "print(\"Elemen terakhir dari a adalah\", a[-1])"
   ]
  },
  {
   "cell_type": "code",
   "execution_count": 17,
   "metadata": {},
   "outputs": [
    {
     "name": "stdout",
     "output_type": "stream",
     "text": [
      "Elemen dari 1-6 adalah [ 0  1  4  9 16 25]\n",
      "Elemen dari 4 sampai terakhir adalah [ 9 16 25 36 49 64 81]\n",
      "Elemen dari awal sampai 5 adalah [ 0  1  4  9 16]\n"
     ]
    }
   ],
   "source": [
    "# Slicing\n",
    "\n",
    "print(\"Elemen dari 1-6 adalah\", a[0:6])  # [start:end]\n",
    "print(\"Elemen dari 4 sampai terakhir adalah\", a[3:])\n",
    "print(\"Elemen dari awal sampai 5 adalah\", a[:5])"
   ]
  },
  {
   "cell_type": "code",
   "execution_count": 18,
   "metadata": {},
   "outputs": [
    {
     "name": "stdout",
     "output_type": "stream",
     "text": [
      "value =  0\n",
      "value =  1\n",
      "value =  4\n",
      "value =  9\n",
      "value =  16\n",
      "value =  25\n",
      "value =  36\n",
      "value =  49\n",
      "value =  64\n",
      "value =  81\n"
     ]
    }
   ],
   "source": [
    "# Iterasi\n",
    "\n",
    "for i in a :\n",
    "    print('value = ', i)"
   ]
  },
  {
   "cell_type": "markdown",
   "metadata": {},
   "source": [
    "### E. Perkalian Matriks"
   ]
  },
  {
   "cell_type": "code",
   "execution_count": 20,
   "metadata": {},
   "outputs": [
    {
     "name": "stdout",
     "output_type": "stream",
     "text": [
      "Matriks a: \n",
      "[[1 2]\n",
      " [3 4]]\n",
      "\n",
      " Matriks b: \n",
      "[[1. 1.]\n",
      " [1. 1.]]\n"
     ]
    }
   ],
   "source": [
    "# Membuat Matriks\n",
    "\n",
    "import numpy as np\n",
    "\n",
    "a = np.array(( [1, 2],\n",
    "               [3, 4]))\n",
    "b = np.ones([2, 2])\n",
    "\n",
    "print(\"Matriks a: \"),\n",
    "print(a)\n",
    "print(\"\\n Matriks b: \"),\n",
    "print(b)"
   ]
  },
  {
   "cell_type": "code",
   "execution_count": 22,
   "metadata": {},
   "outputs": [
    {
     "name": "stdout",
     "output_type": "stream",
     "text": [
      "[[3. 3.]\n",
      " [7. 7.]]\n",
      "\n",
      " [[3. 3.]\n",
      " [7. 7.]]\n"
     ]
    }
   ],
   "source": [
    "# Perkalian Matriks\n",
    "\n",
    "c1 = np.dot(a, b)   # Cara 1\n",
    "c2 = a.dot(b)       # Cara 2\n",
    "\n",
    "print(c1)\n",
    "print(\"\\n\",c2)"
   ]
  },
  {
   "cell_type": "markdown",
   "metadata": {},
   "source": [
    "### F. Manipulasi Matriks"
   ]
  },
  {
   "cell_type": "markdown",
   "metadata": {},
   "source": [
    "Fungsi **shape** pada array multi-dimensi menghasilkan _tuple_ berisikan (jumlah baris, jumlah kolom)."
   ]
  },
  {
   "cell_type": "code",
   "execution_count": 25,
   "metadata": {},
   "outputs": [
    {
     "name": "stdout",
     "output_type": "stream",
     "text": [
      "[[1 2 3]\n",
      " [4 5 6]]\n",
      "\n",
      "Ukuran matriks a adalah (2, 3)\n"
     ]
    }
   ],
   "source": [
    "import numpy as np\n",
    "\n",
    "a = np.array(( [1, 2, 3],\n",
    "               [4, 5, 6]\n",
    "             ))\n",
    "print(a)\n",
    "print(\"\\nUkuran matriks a adalah\", a.shape)\n"
   ]
  },
  {
   "cell_type": "code",
   "execution_count": 26,
   "metadata": {},
   "outputs": [
    {
     "name": "stdout",
     "output_type": "stream",
     "text": [
      "[[1 4]\n",
      " [2 5]\n",
      " [3 6]]\n",
      "\n",
      " [[1 4]\n",
      " [2 5]\n",
      " [3 6]]\n",
      "\n",
      " [[1 4]\n",
      " [2 5]\n",
      " [3 6]]\n"
     ]
    }
   ],
   "source": [
    "# Transpose Matriks\n",
    "\n",
    "print(a.transpose())        # Cara 1\n",
    "print(\"\\n\",np.transpose(a)) # Cara 2\n",
    "print(\"\\n\",a.T)             # Cara 3"
   ]
  },
  {
   "cell_type": "code",
   "execution_count": 27,
   "metadata": {},
   "outputs": [
    {
     "name": "stdout",
     "output_type": "stream",
     "text": [
      "[1 2 3 4 5 6]\n",
      "\n",
      " [1 2 3 4 5 6]\n"
     ]
    }
   ],
   "source": [
    "# Flatten array, vector baris\n",
    "\n",
    "print(a.ravel())    # Cara 1\n",
    "print(\"\\n\",np.ravel(a))  # Cara 2"
   ]
  },
  {
   "cell_type": "code",
   "execution_count": 28,
   "metadata": {},
   "outputs": [
    {
     "name": "stdout",
     "output_type": "stream",
     "text": [
      "[[1 2]\n",
      " [3 4]\n",
      " [5 6]]\n"
     ]
    }
   ],
   "source": [
    "# Reshape Matriks\n",
    "\n",
    "print(a.reshape(3,2))   # Jumlah elmennya harus sama dengan matriks yang didefinisikan sebelumnya"
   ]
  },
  {
   "cell_type": "code",
   "execution_count": 29,
   "metadata": {},
   "outputs": [
    {
     "name": "stdout",
     "output_type": "stream",
     "text": [
      "[[1 2 3]\n",
      " [4 5 6]]\n"
     ]
    }
   ],
   "source": [
    "print(a)"
   ]
  },
  {
   "cell_type": "markdown",
   "metadata": {},
   "source": [
    "**Catatan:** Matriks tidak akan berubah jika dikenakan fungsi **reshape**."
   ]
  },
  {
   "cell_type": "code",
   "execution_count": 30,
   "metadata": {},
   "outputs": [
    {
     "name": "stdout",
     "output_type": "stream",
     "text": [
      "[[1 2]\n",
      " [3 4]\n",
      " [5 6]]\n"
     ]
    }
   ],
   "source": [
    "# Resize Matriks\n",
    "\n",
    "a.resize(3, 2)\n",
    "print(a)"
   ]
  },
  {
   "cell_type": "markdown",
   "metadata": {},
   "source": [
    "Berbeda dengan fungsi **reshape** , matriks akan berubah jika dikenakan fungsi **resize**."
   ]
  },
  {
   "cell_type": "markdown",
   "metadata": {},
   "source": [
    "### G. Cara Advance Membuat Array"
   ]
  },
  {
   "cell_type": "code",
   "execution_count": 31,
   "metadata": {},
   "outputs": [
    {
     "name": "stdout",
     "output_type": "stream",
     "text": [
      "[[1. 2. 3.]\n",
      " [3. 4. 5.]]\n"
     ]
    }
   ],
   "source": [
    "import numpy as np\n",
    "\n",
    "# Membuat matriks dengan tipe data tertentu\n",
    "a = np.array(( [1, 2, 3], [3, 4, 5] ), dtype = float)\n",
    "print(a)"
   ]
  },
  {
   "cell_type": "code",
   "execution_count": 32,
   "metadata": {},
   "outputs": [
    {
     "name": "stdout",
     "output_type": "stream",
     "text": [
      "[[ 0  1  4  9 16 25 36 49 64 81]]\n",
      "\n",
      " [[0. 1. 2. 3.]\n",
      " [1. 2. 3. 4.]\n",
      " [2. 3. 4. 5.]\n",
      " [3. 4. 5. 6.]]\n"
     ]
    }
   ],
   "source": [
    "# Membuat matriks dengan menggunakan fungsi\n",
    "\n",
    "def kuadrat(baris, kolom) :\n",
    "    return kolom**2\n",
    "\n",
    "def jumlah(baris, kolom) :\n",
    "    return(kolom + baris)\n",
    "\n",
    "b = np.fromfunction(kuadrat, (1,10), dtype = int)\n",
    "c = np.fromfunction(jumlah, (4,4), dtype = float)\n",
    "\n",
    "print(b)\n",
    "print(\"\\n\",c)"
   ]
  },
  {
   "cell_type": "code",
   "execution_count": 35,
   "metadata": {},
   "outputs": [
    {
     "name": "stdout",
     "output_type": "stream",
     "text": [
      "[ 0  1  4  9 16]\n"
     ]
    }
   ],
   "source": [
    "# Membuat matriks dengan menggunakan iterable\n",
    "\n",
    "iterable = (x*x for x in range(5))  # x dikuadratkan untuk setiap x di range(5)\n",
    "d = np.fromiter(iterable, dtype = int)\n",
    "\n",
    "print(d)"
   ]
  },
  {
   "cell_type": "code",
   "execution_count": 39,
   "metadata": {},
   "outputs": [
    {
     "name": "stdout",
     "output_type": "stream",
     "text": [
      "[(b'ucup', 150) (b'otong', 160) (b'mario', 180)]\n",
      "(b'ucup', 150)\n"
     ]
    }
   ],
   "source": [
    "# Multitype Array\n",
    "\n",
    "dtipe = [('nama', 'S255'), ('tinggi', int)]\n",
    "data = [\n",
    "    ('ucup', 150),\n",
    "    ('otong', 160),\n",
    "    ('mario', 180)\n",
    "]\n",
    "e = np.array(data, dtype = dtipe)\n",
    "print(e)\n",
    "print(e[0])"
   ]
  },
  {
   "cell_type": "markdown",
   "metadata": {},
   "source": [
    "### H. Perkalian Vektor (dot dan cross)"
   ]
  },
  {
   "cell_type": "code",
   "execution_count": 40,
   "metadata": {},
   "outputs": [
    {
     "name": "stdout",
     "output_type": "stream",
     "text": [
      "5\n"
     ]
    }
   ],
   "source": [
    "# Perkalian dot\n",
    "\n",
    "import numpy as np\n",
    "\n",
    "a = np.array([1, 3])\n",
    "b = np.array([2, 1])\n",
    "\n",
    "c = np.dot(a,b)\n",
    "print(c)"
   ]
  },
  {
   "cell_type": "code",
   "execution_count": 43,
   "metadata": {},
   "outputs": [
    {
     "name": "stdout",
     "output_type": "stream",
     "text": [
      "[ 0  0 -3]\n",
      "[0 0 3]\n"
     ]
    }
   ],
   "source": [
    "# Perkalian cross\n",
    "\n",
    "import numpy as np\n",
    "\n",
    "a2 = np.array([1, 2, 0])\n",
    "b2 = np.array([2, 1, 0])\n",
    "\n",
    "c2 = np.cross(a2,b2)\n",
    "c3 = np.cross(b2,a2)\n",
    "print(c2)\n",
    "print(c3)"
   ]
  },
  {
   "cell_type": "markdown",
   "metadata": {},
   "source": [
    "### I. Solusi Persamaan Linear"
   ]
  },
  {
   "cell_type": "code",
   "execution_count": 45,
   "metadata": {},
   "outputs": [
    {
     "name": "stdout",
     "output_type": "stream",
     "text": [
      "Jadi solusi dari persamaan linear tersebut adalah [4. 5.]\n",
      "\n",
      "Jadi solusi dari persamaan linear tersebut adalah [4. 5.]\n"
     ]
    }
   ],
   "source": [
    "import numpy as np\n",
    "\n",
    "A = np.array([(2, 3), (1, 2)])\n",
    "Y = np.array([23, 14])\n",
    "\n",
    "A_inv = np.linalg.inv(A)\n",
    "X = np.dot(A_inv, Y)   # menyelesaikan persamaan linear\n",
    "\n",
    "print(\"Jadi solusi dari persamaan linear tersebut adalah\", X)\n",
    "\n",
    "# Cara Lain\n",
    "\n",
    "X2 = np.linalg.solve(A,Y)\n",
    "print(\"\\nJadi solusi dari persamaan linear tersebut adalah\", X2)"
   ]
  },
  {
   "cell_type": "markdown",
   "metadata": {},
   "source": [
    "### J. Plot dengan Matplotlib"
   ]
  },
  {
   "cell_type": "markdown",
   "metadata": {},
   "source": [
    "**Matplotlib** adalah library Python yang fokus pada visualisasi data seperti membuat plot grafik. Visualisasi dari matplotlib adalah sebuah gambar grafik yang terdapat satu sumbu atau lebih. Setiap sumbu memiliki sumbu horizontal (x) dan sumbu vertikal (y), dan data yang direpresentasikan menjadi warna dan _glyphs_ seperti _marker_ (contohnya bentuk lingkaran) atau _lines_ (garis) atau poligon."
   ]
  },
  {
   "cell_type": "code",
   "execution_count": 8,
   "metadata": {
    "scrolled": true
   },
   "outputs": [
    {
     "name": "stdout",
     "output_type": "stream",
     "text": [
      "[ 0  1  2  3  4  5  6  7  8  9 10]\n",
      "[ 3  5  7  9 11 13 15 17 19 21 23]\n"
     ]
    },
    {
     "data": {
      "image/png": "[encoded data removed]",
      "text/plain": [
       "<Figure size 432x288 with 1 Axes>"
      ]
     },
     "metadata": {
      "needs_background": "light"
     },
     "output_type": "display_data"
    }
   ],
   "source": [
    "import numpy as np\n",
    "import matplotlib.pyplot as plt\n",
    "\n",
    "# persamaan garis\n",
    "# y = 2x + 3\n",
    "\n",
    "x = np.arange(0, 11, 1)\n",
    "y = 2*x + 3\n",
    "\n",
    "print(x)\n",
    "print(y)\n",
    "\n",
    "plt.figure(1)\n",
    "plt.plot(x, y)\n",
    "plt.show()"
   ]
  },
  {
   "cell_type": "code",
   "execution_count": 10,
   "metadata": {},
   "outputs": [
    {
     "data": {
      "image/png": "[encoded data removed]",
      "text/plain": [
       "<Figure size 432x288 with 1 Axes>"
      ]
     },
     "metadata": {
      "needs_background": "light"
     },
     "output_type": "display_data"
    }
   ],
   "source": [
    "# lingkaran\n",
    "\n",
    "jari2 = 5\n",
    "\n",
    "sudut = np.linspace(0,2*np.pi, 100)\n",
    "x2 = jari2*np.cos(sudut)\n",
    "y2 = jari2*np.sin(sudut)\n",
    "\n",
    "plt.figure(2)\n",
    "plt.plot(x2,y2)\n",
    "plt.show()"
   ]
  }
 ],
 "metadata": {
  "kernelspec": {
   "display_name": "Python 3",
   "language": "python",
   "name": "python3"
  },
  "language_info": {
   "codemirror_mode": {
    "name": "ipython",
    "version": 3
   },
   "file_extension": ".py",
   "mimetype": "text/x-python",
   "name": "python",
   "nbconvert_exporter": "python",
   "pygments_lexer": "ipython3",
   "version": "3.7.4"
  }
 },
 "nbformat": 4,
 "nbformat_minor": 2
}
