{
 "cells": [
  {
   "cell_type": "markdown",
   "metadata": {},
   "source": [
    "<center><strong><h1>Resume Pertemuan 10 </h1></strong></center>\n",
    "<center><strong><h1>Algoritma dan Pemrograman</h1></strong></center>\n",
    "<p style=\"margin-left:40%;font-size:20px;font-weight:600;color:blue;\"> Nurul Jannah</p>\n",
    "<p style=\"margin-left:38.5%;font-size:20px;font-weight:600;color:blue;\"> 11160940000080</p> "
   ]
  },
  {
   "cell_type": "markdown",
   "metadata": {},
   "source": [
    "## Pandas"
   ]
  },
  {
   "cell_type": "markdown",
   "metadata": {},
   "source": [
    "### A. Apa itu Pandas?"
   ]
  },
  {
   "cell_type": "markdown",
   "metadata": {},
   "source": [
    "**Pandas** ( _Python for Data Analysis_ ) adalah library Python yang fokus untuk proses analisis data seperti manipulasi data, persiapan data, dan pembersihan data. Dalam **pandas** terdapat dua objek, yaitu _DataFrame_ dan _Series. DataFrame_ adalah objek yang memiliki struktur data tabular, berorientasi pada kolom dengan label baris dan kolom. Sedangkan _Series_ adalah objek array 1-dimensi yang memiliki label."
   ]
  },
  {
   "cell_type": "markdown",
   "metadata": {},
   "source": [
    "Untuk memulai, lakukan *import* terlebih dahulu library **pandas as pd**. Penggunaan *as* disini, artinya kita menggantikan pemanggilan **pandas** dengan *prefix* **pd** untuk proses berikutnya."
   ]
  },
  {
   "cell_type": "code",
   "execution_count": 1,
   "metadata": {},
   "outputs": [],
   "source": [
    "import pandas as pd"
   ]
  },
  {
   "cell_type": "markdown",
   "metadata": {},
   "source": [
    "### B. Mengenal DataFrame"
   ]
  },
  {
   "cell_type": "markdown",
   "metadata": {},
   "source": [
    "**DataFrame** merupakan tabel data yang terdapat kolom dan baris, dimana nilai-nilai yang terdapat di dalamnya dapat berupa tipe berbeda seperti _numeric, string, booelan,_ dll. DataFrame mirip dengan data 2-dimensi dengan adanya baris dan kolom. Selain itu, DataFrame bisa dikatakan gabungan dari _dictionary_ objek Series yang memiliki indeks yang sama."
   ]
  },
  {
   "cell_type": "markdown",
   "metadata": {},
   "source": [
    "Terdapat berbagai macam cara untuk membentuk objek DataFrame. Salah satu cara yang biasa dilakukan untuk membentuk objek DataFrame dengan menggunakan data masukan berupa *dictionary*."
   ]
  },
  {
   "cell_type": "markdown",
   "metadata": {},
   "source": [
    "**Membuat DataFrame sederhana**"
   ]
  },
  {
   "cell_type": "code",
   "execution_count": 2,
   "metadata": {},
   "outputs": [
    {
     "data": {
      "text/html": [
       "<div>\n",
       "<style scoped>\n",
       "    .dataframe tbody tr th:only-of-type {\n",
       "        vertical-align: middle;\n",
       "    }\n",
       "\n",
       "    .dataframe tbody tr th {\n",
       "        vertical-align: top;\n",
       "    }\n",
       "\n",
       "    .dataframe thead th {\n",
       "        text-align: right;\n",
       "    }\n",
       "</style>\n",
       "<table border=\"1\" class=\"dataframe\">\n",
       "  <thead>\n",
       "    <tr style=\"text-align: right;\">\n",
       "      <th></th>\n",
       "      <th>Minuman</th>\n",
       "      <th>Harga</th>\n",
       "    </tr>\n",
       "  </thead>\n",
       "  <tbody>\n",
       "    <tr>\n",
       "      <td>0</td>\n",
       "      <td>Bandrek</td>\n",
       "      <td>4500</td>\n",
       "    </tr>\n",
       "    <tr>\n",
       "      <td>1</td>\n",
       "      <td>Kopi Hitam</td>\n",
       "      <td>3200</td>\n",
       "    </tr>\n",
       "  </tbody>\n",
       "</table>\n",
       "</div>"
      ],
      "text/plain": [
       "      Minuman  Harga\n",
       "0     Bandrek   4500\n",
       "1  Kopi Hitam   3200"
      ]
     },
     "execution_count": 2,
     "metadata": {},
     "output_type": "execute_result"
    }
   ],
   "source": [
    "import pandas as pd\n",
    "\n",
    "pd.DataFrame(data = {'Minuman' : ['Bandrek', 'Kopi Hitam'],\n",
    "                    'Harga' : [4500, 3200] })"
   ]
  },
  {
   "cell_type": "markdown",
   "metadata": {},
   "source": [
    "**Mengenal index pada DataFrame**"
   ]
  },
  {
   "cell_type": "markdown",
   "metadata": {},
   "source": [
    "Untuk mengakses indeks dari DataFrame menggunakan fungsi **index**."
   ]
  },
  {
   "cell_type": "code",
   "execution_count": 3,
   "metadata": {},
   "outputs": [
    {
     "data": {
      "text/html": [
       "<div>\n",
       "<style scoped>\n",
       "    .dataframe tbody tr th:only-of-type {\n",
       "        vertical-align: middle;\n",
       "    }\n",
       "\n",
       "    .dataframe tbody tr th {\n",
       "        vertical-align: top;\n",
       "    }\n",
       "\n",
       "    .dataframe thead th {\n",
       "        text-align: right;\n",
       "    }\n",
       "</style>\n",
       "<table border=\"1\" class=\"dataframe\">\n",
       "  <thead>\n",
       "    <tr style=\"text-align: right;\">\n",
       "      <th></th>\n",
       "      <th>Budi</th>\n",
       "      <th>Wati</th>\n",
       "    </tr>\n",
       "  </thead>\n",
       "  <tbody>\n",
       "    <tr>\n",
       "      <td>Mangga</td>\n",
       "      <td>suka</td>\n",
       "      <td>tidak suka</td>\n",
       "    </tr>\n",
       "    <tr>\n",
       "      <td>Jambu</td>\n",
       "      <td>suka</td>\n",
       "      <td>suka</td>\n",
       "    </tr>\n",
       "  </tbody>\n",
       "</table>\n",
       "</div>"
      ],
      "text/plain": [
       "        Budi        Wati\n",
       "Mangga  suka  tidak suka\n",
       "Jambu   suka        suka"
      ]
     },
     "execution_count": 3,
     "metadata": {},
     "output_type": "execute_result"
    }
   ],
   "source": [
    "pd.DataFrame(data = {'Budi' : ['suka', 'suka'],\n",
    "                    'Wati' : ['tidak suka', 'suka']},\n",
    "            index = ['Mangga', 'Jambu'])  # mengganti indeks sesuai dengan yang diinginkan"
   ]
  },
  {
   "cell_type": "markdown",
   "metadata": {},
   "source": [
    "### C. Mengenal Series"
   ]
  },
  {
   "cell_type": "markdown",
   "metadata": {},
   "source": [
    "**Series** adalah objek 1-dimensi yang berisi *sequence* dan berasosiasi dengan label data, yang disebut indeks. Untuk membuat sebuah Series, kita dapat membentuknya dari sebuah array dengan memanggil fungsi **Series** pada **pandas**."
   ]
  },
  {
   "cell_type": "code",
   "execution_count": 4,
   "metadata": {},
   "outputs": [
    {
     "data": {
      "text/plain": [
       "0    100\n",
       "1    150\n",
       "2    200\n",
       "3    250\n",
       "4    300\n",
       "dtype: int64"
      ]
     },
     "execution_count": 4,
     "metadata": {},
     "output_type": "execute_result"
    }
   ],
   "source": [
    "pd.Series(data = [100, 150, 200, 250, 300])"
   ]
  },
  {
   "cell_type": "code",
   "execution_count": 5,
   "metadata": {},
   "outputs": [
    {
     "data": {
      "text/plain": [
       "Mangga     3000\n",
       "Pisang     3500\n",
       "Jambu     40000\n",
       "Name: Harga Buah, dtype: int64"
      ]
     },
     "execution_count": 5,
     "metadata": {},
     "output_type": "execute_result"
    }
   ],
   "source": [
    "pd.Series(data = [3000, 3500, 40000], index = ['Mangga', 'Pisang', 'Jambu'], name = 'Harga Buah')"
   ]
  },
  {
   "cell_type": "markdown",
   "metadata": {},
   "source": [
    "### D. Memuat File CSV ke dalam DataFrame"
   ]
  },
  {
   "cell_type": "code",
   "execution_count": 5,
   "metadata": {},
   "outputs": [
    {
     "data": {
      "text/html": [
       "<div>\n",
       "<style scoped>\n",
       "    .dataframe tbody tr th:only-of-type {\n",
       "        vertical-align: middle;\n",
       "    }\n",
       "\n",
       "    .dataframe tbody tr th {\n",
       "        vertical-align: top;\n",
       "    }\n",
       "\n",
       "    .dataframe thead th {\n",
       "        text-align: right;\n",
       "    }\n",
       "</style>\n",
       "<table border=\"1\" class=\"dataframe\">\n",
       "  <thead>\n",
       "    <tr style=\"text-align: right;\">\n",
       "      <th></th>\n",
       "      <th>order_id</th>\n",
       "      <th>order_date</th>\n",
       "      <th>customer_id</th>\n",
       "      <th>segment</th>\n",
       "      <th>category</th>\n",
       "      <th>sub_category</th>\n",
       "      <th>sales</th>\n",
       "      <th>quantity</th>\n",
       "      <th>profit</th>\n",
       "    </tr>\n",
       "  </thead>\n",
       "  <tbody>\n",
       "    <tr>\n",
       "      <td>0</td>\n",
       "      <td>CA-2016-152156</td>\n",
       "      <td>11/8/2016</td>\n",
       "      <td>CG-12520</td>\n",
       "      <td>Consumer</td>\n",
       "      <td>Furniture</td>\n",
       "      <td>Bookcases</td>\n",
       "      <td>261.9600</td>\n",
       "      <td>2</td>\n",
       "      <td>41.9136</td>\n",
       "    </tr>\n",
       "    <tr>\n",
       "      <td>1</td>\n",
       "      <td>CA-2016-152156</td>\n",
       "      <td>11/8/2016</td>\n",
       "      <td>CG-12520</td>\n",
       "      <td>Consumer</td>\n",
       "      <td>Furniture</td>\n",
       "      <td>Chairs</td>\n",
       "      <td>731.9400</td>\n",
       "      <td>3</td>\n",
       "      <td>219.5820</td>\n",
       "    </tr>\n",
       "    <tr>\n",
       "      <td>2</td>\n",
       "      <td>CA-2016-138688</td>\n",
       "      <td>6/12/2016</td>\n",
       "      <td>DV-13045</td>\n",
       "      <td>Corporate</td>\n",
       "      <td>Office Supplies</td>\n",
       "      <td>Labels</td>\n",
       "      <td>14.6200</td>\n",
       "      <td>2</td>\n",
       "      <td>6.8714</td>\n",
       "    </tr>\n",
       "    <tr>\n",
       "      <td>3</td>\n",
       "      <td>US-2015-108966</td>\n",
       "      <td>10/11/2015</td>\n",
       "      <td>SO-20335</td>\n",
       "      <td>Consumer</td>\n",
       "      <td>Furniture</td>\n",
       "      <td>Tables</td>\n",
       "      <td>957.5775</td>\n",
       "      <td>5</td>\n",
       "      <td>-383.0310</td>\n",
       "    </tr>\n",
       "    <tr>\n",
       "      <td>4</td>\n",
       "      <td>US-2015-108966</td>\n",
       "      <td>10/11/2015</td>\n",
       "      <td>SO-20335</td>\n",
       "      <td>Consumer</td>\n",
       "      <td>Office Supplies</td>\n",
       "      <td>Storage</td>\n",
       "      <td>22.3680</td>\n",
       "      <td>2</td>\n",
       "      <td>2.5164</td>\n",
       "    </tr>\n",
       "  </tbody>\n",
       "</table>\n",
       "</div>"
      ],
      "text/plain": [
       "         order_id  order_date customer_id    segment         category  \\\n",
       "0  CA-2016-152156   11/8/2016    CG-12520   Consumer        Furniture   \n",
       "1  CA-2016-152156   11/8/2016    CG-12520   Consumer        Furniture   \n",
       "2  CA-2016-138688   6/12/2016    DV-13045  Corporate  Office Supplies   \n",
       "3  US-2015-108966  10/11/2015    SO-20335   Consumer        Furniture   \n",
       "4  US-2015-108966  10/11/2015    SO-20335   Consumer  Office Supplies   \n",
       "\n",
       "  sub_category     sales  quantity    profit  \n",
       "0    Bookcases  261.9600         2   41.9136  \n",
       "1       Chairs  731.9400         3  219.5820  \n",
       "2       Labels   14.6200         2    6.8714  \n",
       "3       Tables  957.5775         5 -383.0310  \n",
       "4      Storage   22.3680         2    2.5164  "
      ]
     },
     "execution_count": 5,
     "metadata": {},
     "output_type": "execute_result"
    }
   ],
   "source": [
    "dataset = pd.read_csv('C:/Users/ASUS/OneDrive/Documents/dataset_superstore_simple.csv')\n",
    "dataset.head()   # menampilkan 5 data teratas"
   ]
  },
  {
   "cell_type": "code",
   "execution_count": 9,
   "metadata": {},
   "outputs": [
    {
     "data": {
      "text/html": [
       "<div>\n",
       "<style scoped>\n",
       "    .dataframe tbody tr th:only-of-type {\n",
       "        vertical-align: middle;\n",
       "    }\n",
       "\n",
       "    .dataframe tbody tr th {\n",
       "        vertical-align: top;\n",
       "    }\n",
       "\n",
       "    .dataframe thead th {\n",
       "        text-align: right;\n",
       "    }\n",
       "</style>\n",
       "<table border=\"1\" class=\"dataframe\">\n",
       "  <thead>\n",
       "    <tr style=\"text-align: right;\">\n",
       "      <th></th>\n",
       "      <th>order_id</th>\n",
       "      <th>order_date</th>\n",
       "      <th>customer_id</th>\n",
       "      <th>segment</th>\n",
       "      <th>category</th>\n",
       "      <th>sub_category</th>\n",
       "      <th>sales</th>\n",
       "      <th>quantity</th>\n",
       "      <th>profit</th>\n",
       "    </tr>\n",
       "  </thead>\n",
       "  <tbody>\n",
       "    <tr>\n",
       "      <td>0</td>\n",
       "      <td>CA-2016-152156</td>\n",
       "      <td>11/8/2016</td>\n",
       "      <td>CG-12520</td>\n",
       "      <td>Consumer</td>\n",
       "      <td>Furniture</td>\n",
       "      <td>Bookcases</td>\n",
       "      <td>261.9600</td>\n",
       "      <td>2</td>\n",
       "      <td>41.9136</td>\n",
       "    </tr>\n",
       "    <tr>\n",
       "      <td>1</td>\n",
       "      <td>CA-2016-152156</td>\n",
       "      <td>11/8/2016</td>\n",
       "      <td>CG-12520</td>\n",
       "      <td>Consumer</td>\n",
       "      <td>Furniture</td>\n",
       "      <td>Chairs</td>\n",
       "      <td>731.9400</td>\n",
       "      <td>3</td>\n",
       "      <td>219.5820</td>\n",
       "    </tr>\n",
       "    <tr>\n",
       "      <td>2</td>\n",
       "      <td>CA-2016-138688</td>\n",
       "      <td>6/12/2016</td>\n",
       "      <td>DV-13045</td>\n",
       "      <td>Corporate</td>\n",
       "      <td>Office Supplies</td>\n",
       "      <td>Labels</td>\n",
       "      <td>14.6200</td>\n",
       "      <td>2</td>\n",
       "      <td>6.8714</td>\n",
       "    </tr>\n",
       "    <tr>\n",
       "      <td>3</td>\n",
       "      <td>US-2015-108966</td>\n",
       "      <td>10/11/2015</td>\n",
       "      <td>SO-20335</td>\n",
       "      <td>Consumer</td>\n",
       "      <td>Furniture</td>\n",
       "      <td>Tables</td>\n",
       "      <td>957.5775</td>\n",
       "      <td>5</td>\n",
       "      <td>-383.0310</td>\n",
       "    </tr>\n",
       "    <tr>\n",
       "      <td>4</td>\n",
       "      <td>US-2015-108966</td>\n",
       "      <td>10/11/2015</td>\n",
       "      <td>SO-20335</td>\n",
       "      <td>Consumer</td>\n",
       "      <td>Office Supplies</td>\n",
       "      <td>Storage</td>\n",
       "      <td>22.3680</td>\n",
       "      <td>2</td>\n",
       "      <td>2.5164</td>\n",
       "    </tr>\n",
       "    <tr>\n",
       "      <td>5</td>\n",
       "      <td>CA-2014-115812</td>\n",
       "      <td>6/9/2014</td>\n",
       "      <td>BH-11710</td>\n",
       "      <td>Consumer</td>\n",
       "      <td>Furniture</td>\n",
       "      <td>Furnishings</td>\n",
       "      <td>48.8600</td>\n",
       "      <td>7</td>\n",
       "      <td>14.1694</td>\n",
       "    </tr>\n",
       "    <tr>\n",
       "      <td>6</td>\n",
       "      <td>CA-2014-115812</td>\n",
       "      <td>6/9/2014</td>\n",
       "      <td>BH-11710</td>\n",
       "      <td>Consumer</td>\n",
       "      <td>Office Supplies</td>\n",
       "      <td>Art</td>\n",
       "      <td>7.2800</td>\n",
       "      <td>4</td>\n",
       "      <td>1.9656</td>\n",
       "    </tr>\n",
       "    <tr>\n",
       "      <td>7</td>\n",
       "      <td>CA-2014-115812</td>\n",
       "      <td>6/9/2014</td>\n",
       "      <td>BH-11710</td>\n",
       "      <td>Consumer</td>\n",
       "      <td>Technology</td>\n",
       "      <td>Phones</td>\n",
       "      <td>907.1520</td>\n",
       "      <td>6</td>\n",
       "      <td>90.7152</td>\n",
       "    </tr>\n",
       "    <tr>\n",
       "      <td>8</td>\n",
       "      <td>CA-2014-115812</td>\n",
       "      <td>6/9/2014</td>\n",
       "      <td>BH-11710</td>\n",
       "      <td>Consumer</td>\n",
       "      <td>Office Supplies</td>\n",
       "      <td>Binders</td>\n",
       "      <td>18.5040</td>\n",
       "      <td>3</td>\n",
       "      <td>5.7825</td>\n",
       "    </tr>\n",
       "    <tr>\n",
       "      <td>9</td>\n",
       "      <td>CA-2014-115812</td>\n",
       "      <td>6/9/2014</td>\n",
       "      <td>BH-11710</td>\n",
       "      <td>Consumer</td>\n",
       "      <td>Office Supplies</td>\n",
       "      <td>Appliances</td>\n",
       "      <td>114.9000</td>\n",
       "      <td>5</td>\n",
       "      <td>34.4700</td>\n",
       "    </tr>\n",
       "  </tbody>\n",
       "</table>\n",
       "</div>"
      ],
      "text/plain": [
       "         order_id  order_date customer_id    segment         category  \\\n",
       "0  CA-2016-152156   11/8/2016    CG-12520   Consumer        Furniture   \n",
       "1  CA-2016-152156   11/8/2016    CG-12520   Consumer        Furniture   \n",
       "2  CA-2016-138688   6/12/2016    DV-13045  Corporate  Office Supplies   \n",
       "3  US-2015-108966  10/11/2015    SO-20335   Consumer        Furniture   \n",
       "4  US-2015-108966  10/11/2015    SO-20335   Consumer  Office Supplies   \n",
       "5  CA-2014-115812    6/9/2014    BH-11710   Consumer        Furniture   \n",
       "6  CA-2014-115812    6/9/2014    BH-11710   Consumer  Office Supplies   \n",
       "7  CA-2014-115812    6/9/2014    BH-11710   Consumer       Technology   \n",
       "8  CA-2014-115812    6/9/2014    BH-11710   Consumer  Office Supplies   \n",
       "9  CA-2014-115812    6/9/2014    BH-11710   Consumer  Office Supplies   \n",
       "\n",
       "  sub_category     sales  quantity    profit  \n",
       "0    Bookcases  261.9600         2   41.9136  \n",
       "1       Chairs  731.9400         3  219.5820  \n",
       "2       Labels   14.6200         2    6.8714  \n",
       "3       Tables  957.5775         5 -383.0310  \n",
       "4      Storage   22.3680         2    2.5164  \n",
       "5  Furnishings   48.8600         7   14.1694  \n",
       "6          Art    7.2800         4    1.9656  \n",
       "7       Phones  907.1520         6   90.7152  \n",
       "8      Binders   18.5040         3    5.7825  \n",
       "9   Appliances  114.9000         5   34.4700  "
      ]
     },
     "execution_count": 9,
     "metadata": {},
     "output_type": "execute_result"
    }
   ],
   "source": [
    "dataset.head(10)  # menampilkan 10 data teratas"
   ]
  },
  {
   "cell_type": "markdown",
   "metadata": {},
   "source": [
    "**Melihat dimensi DataFrame dengan attribute shape**"
   ]
  },
  {
   "cell_type": "markdown",
   "metadata": {},
   "source": [
    "Fungsi **shape** dapat digunakan untuk mengetahui jumlah baris dan kolom dari DataFrame. Fungsi **shape** pada DataFrame memiliki hasil keluaran yang sama dengan fungsi **shape** pada NumPy, dimana menghasilkan keluaran sebuah _tuple_ dari jumlah baris dan jumlah kolom."
   ]
  },
  {
   "cell_type": "code",
   "execution_count": 10,
   "metadata": {},
   "outputs": [
    {
     "data": {
      "text/plain": [
       "(9988, 9)"
      ]
     },
     "execution_count": 10,
     "metadata": {},
     "output_type": "execute_result"
    }
   ],
   "source": [
    "dataset.shape"
   ]
  },
  {
   "cell_type": "markdown",
   "metadata": {},
   "source": [
    "**Menggunakan salah satu kolom sebagai index**"
   ]
  },
  {
   "cell_type": "code",
   "execution_count": 11,
   "metadata": {},
   "outputs": [
    {
     "data": {
      "text/html": [
       "<div>\n",
       "<style scoped>\n",
       "    .dataframe tbody tr th:only-of-type {\n",
       "        vertical-align: middle;\n",
       "    }\n",
       "\n",
       "    .dataframe tbody tr th {\n",
       "        vertical-align: top;\n",
       "    }\n",
       "\n",
       "    .dataframe thead th {\n",
       "        text-align: right;\n",
       "    }\n",
       "</style>\n",
       "<table border=\"1\" class=\"dataframe\">\n",
       "  <thead>\n",
       "    <tr style=\"text-align: right;\">\n",
       "      <th></th>\n",
       "      <th>order_date</th>\n",
       "      <th>customer_id</th>\n",
       "      <th>segment</th>\n",
       "      <th>category</th>\n",
       "      <th>sub_category</th>\n",
       "      <th>sales</th>\n",
       "      <th>quantity</th>\n",
       "      <th>profit</th>\n",
       "    </tr>\n",
       "    <tr>\n",
       "      <th>order_id</th>\n",
       "      <th></th>\n",
       "      <th></th>\n",
       "      <th></th>\n",
       "      <th></th>\n",
       "      <th></th>\n",
       "      <th></th>\n",
       "      <th></th>\n",
       "      <th></th>\n",
       "    </tr>\n",
       "  </thead>\n",
       "  <tbody>\n",
       "    <tr>\n",
       "      <td>CA-2016-152156</td>\n",
       "      <td>11/8/2016</td>\n",
       "      <td>CG-12520</td>\n",
       "      <td>Consumer</td>\n",
       "      <td>Furniture</td>\n",
       "      <td>Bookcases</td>\n",
       "      <td>261.9600</td>\n",
       "      <td>2</td>\n",
       "      <td>41.9136</td>\n",
       "    </tr>\n",
       "    <tr>\n",
       "      <td>CA-2016-152156</td>\n",
       "      <td>11/8/2016</td>\n",
       "      <td>CG-12520</td>\n",
       "      <td>Consumer</td>\n",
       "      <td>Furniture</td>\n",
       "      <td>Chairs</td>\n",
       "      <td>731.9400</td>\n",
       "      <td>3</td>\n",
       "      <td>219.5820</td>\n",
       "    </tr>\n",
       "    <tr>\n",
       "      <td>CA-2016-138688</td>\n",
       "      <td>6/12/2016</td>\n",
       "      <td>DV-13045</td>\n",
       "      <td>Corporate</td>\n",
       "      <td>Office Supplies</td>\n",
       "      <td>Labels</td>\n",
       "      <td>14.6200</td>\n",
       "      <td>2</td>\n",
       "      <td>6.8714</td>\n",
       "    </tr>\n",
       "    <tr>\n",
       "      <td>US-2015-108966</td>\n",
       "      <td>10/11/2015</td>\n",
       "      <td>SO-20335</td>\n",
       "      <td>Consumer</td>\n",
       "      <td>Furniture</td>\n",
       "      <td>Tables</td>\n",
       "      <td>957.5775</td>\n",
       "      <td>5</td>\n",
       "      <td>-383.0310</td>\n",
       "    </tr>\n",
       "    <tr>\n",
       "      <td>US-2015-108966</td>\n",
       "      <td>10/11/2015</td>\n",
       "      <td>SO-20335</td>\n",
       "      <td>Consumer</td>\n",
       "      <td>Office Supplies</td>\n",
       "      <td>Storage</td>\n",
       "      <td>22.3680</td>\n",
       "      <td>2</td>\n",
       "      <td>2.5164</td>\n",
       "    </tr>\n",
       "  </tbody>\n",
       "</table>\n",
       "</div>"
      ],
      "text/plain": [
       "                order_date customer_id    segment         category  \\\n",
       "order_id                                                             \n",
       "CA-2016-152156   11/8/2016    CG-12520   Consumer        Furniture   \n",
       "CA-2016-152156   11/8/2016    CG-12520   Consumer        Furniture   \n",
       "CA-2016-138688   6/12/2016    DV-13045  Corporate  Office Supplies   \n",
       "US-2015-108966  10/11/2015    SO-20335   Consumer        Furniture   \n",
       "US-2015-108966  10/11/2015    SO-20335   Consumer  Office Supplies   \n",
       "\n",
       "               sub_category     sales  quantity    profit  \n",
       "order_id                                                   \n",
       "CA-2016-152156    Bookcases  261.9600         2   41.9136  \n",
       "CA-2016-152156       Chairs  731.9400         3  219.5820  \n",
       "CA-2016-138688       Labels   14.6200         2    6.8714  \n",
       "US-2015-108966       Tables  957.5775         5 -383.0310  \n",
       "US-2015-108966      Storage   22.3680         2    2.5164  "
      ]
     },
     "execution_count": 11,
     "metadata": {},
     "output_type": "execute_result"
    }
   ],
   "source": [
    "dataset = pd.read_csv('C:/Users/ASUS/OneDrive/Documents/dataset_superstore_simple.csv', index_col = 0)\n",
    "dataset.head()"
   ]
  },
  {
   "cell_type": "code",
   "execution_count": 12,
   "metadata": {},
   "outputs": [
    {
     "data": {
      "text/plain": [
       "(9988, 8)"
      ]
     },
     "execution_count": 12,
     "metadata": {},
     "output_type": "execute_result"
    }
   ],
   "source": [
    "dataset.shape"
   ]
  },
  {
   "cell_type": "markdown",
   "metadata": {},
   "source": [
    "### E. Menyimpan DataFrame ke dalam File CSV"
   ]
  },
  {
   "cell_type": "code",
   "execution_count": 13,
   "metadata": {},
   "outputs": [
    {
     "data": {
      "text/html": [
       "<div>\n",
       "<style scoped>\n",
       "    .dataframe tbody tr th:only-of-type {\n",
       "        vertical-align: middle;\n",
       "    }\n",
       "\n",
       "    .dataframe tbody tr th {\n",
       "        vertical-align: top;\n",
       "    }\n",
       "\n",
       "    .dataframe thead th {\n",
       "        text-align: right;\n",
       "    }\n",
       "</style>\n",
       "<table border=\"1\" class=\"dataframe\">\n",
       "  <thead>\n",
       "    <tr style=\"text-align: right;\">\n",
       "      <th></th>\n",
       "      <th>Minuman</th>\n",
       "      <th>Harga</th>\n",
       "    </tr>\n",
       "  </thead>\n",
       "  <tbody>\n",
       "    <tr>\n",
       "      <td>0</td>\n",
       "      <td>Bandrek</td>\n",
       "      <td>4500</td>\n",
       "    </tr>\n",
       "    <tr>\n",
       "      <td>1</td>\n",
       "      <td>Kopi Hitam</td>\n",
       "      <td>3200</td>\n",
       "    </tr>\n",
       "  </tbody>\n",
       "</table>\n",
       "</div>"
      ],
      "text/plain": [
       "      Minuman  Harga\n",
       "0     Bandrek   4500\n",
       "1  Kopi Hitam   3200"
      ]
     },
     "execution_count": 13,
     "metadata": {},
     "output_type": "execute_result"
    }
   ],
   "source": [
    "minuman_df = pd.DataFrame(data = {'Minuman' : ['Bandrek', 'Kopi Hitam'],\n",
    "                                 'Harga' : [4500, 3200]})\n",
    "minuman_df"
   ]
  },
  {
   "cell_type": "code",
   "execution_count": 15,
   "metadata": {},
   "outputs": [],
   "source": [
    "minuman_df.to_csv('C:/Users/ASUS/OneDrive/Documents/minuman.csv')"
   ]
  },
  {
   "cell_type": "markdown",
   "metadata": {},
   "source": [
    "**Menyimpan DataFrame ke dalam file CSV tanpa menyertakan index**"
   ]
  },
  {
   "cell_type": "code",
   "execution_count": 16,
   "metadata": {},
   "outputs": [],
   "source": [
    "minuman_df.to_csv('C:/Users/ASUS/OneDrive/Documents/minuman.csv', index = False)"
   ]
  },
  {
   "cell_type": "markdown",
   "metadata": {},
   "source": [
    "### F. Melakukan akses pada kolom DataFrame"
   ]
  },
  {
   "cell_type": "code",
   "execution_count": 19,
   "metadata": {},
   "outputs": [
    {
     "data": {
      "text/html": [
       "<div>\n",
       "<style scoped>\n",
       "    .dataframe tbody tr th:only-of-type {\n",
       "        vertical-align: middle;\n",
       "    }\n",
       "\n",
       "    .dataframe tbody tr th {\n",
       "        vertical-align: top;\n",
       "    }\n",
       "\n",
       "    .dataframe thead th {\n",
       "        text-align: right;\n",
       "    }\n",
       "</style>\n",
       "<table border=\"1\" class=\"dataframe\">\n",
       "  <thead>\n",
       "    <tr style=\"text-align: right;\">\n",
       "      <th></th>\n",
       "      <th>order_id</th>\n",
       "      <th>order_date</th>\n",
       "      <th>customer_id</th>\n",
       "      <th>segment</th>\n",
       "      <th>category</th>\n",
       "      <th>sub_category</th>\n",
       "      <th>sales</th>\n",
       "      <th>quantity</th>\n",
       "      <th>profit</th>\n",
       "    </tr>\n",
       "  </thead>\n",
       "  <tbody>\n",
       "    <tr>\n",
       "      <td>0</td>\n",
       "      <td>CA-2016-152156</td>\n",
       "      <td>11/8/2016</td>\n",
       "      <td>CG-12520</td>\n",
       "      <td>Consumer</td>\n",
       "      <td>Furniture</td>\n",
       "      <td>Bookcases</td>\n",
       "      <td>261.9600</td>\n",
       "      <td>2</td>\n",
       "      <td>41.9136</td>\n",
       "    </tr>\n",
       "    <tr>\n",
       "      <td>1</td>\n",
       "      <td>CA-2016-152156</td>\n",
       "      <td>11/8/2016</td>\n",
       "      <td>CG-12520</td>\n",
       "      <td>Consumer</td>\n",
       "      <td>Furniture</td>\n",
       "      <td>Chairs</td>\n",
       "      <td>731.9400</td>\n",
       "      <td>3</td>\n",
       "      <td>219.5820</td>\n",
       "    </tr>\n",
       "    <tr>\n",
       "      <td>2</td>\n",
       "      <td>CA-2016-138688</td>\n",
       "      <td>6/12/2016</td>\n",
       "      <td>DV-13045</td>\n",
       "      <td>Corporate</td>\n",
       "      <td>Office Supplies</td>\n",
       "      <td>Labels</td>\n",
       "      <td>14.6200</td>\n",
       "      <td>2</td>\n",
       "      <td>6.8714</td>\n",
       "    </tr>\n",
       "    <tr>\n",
       "      <td>3</td>\n",
       "      <td>US-2015-108966</td>\n",
       "      <td>10/11/2015</td>\n",
       "      <td>SO-20335</td>\n",
       "      <td>Consumer</td>\n",
       "      <td>Furniture</td>\n",
       "      <td>Tables</td>\n",
       "      <td>957.5775</td>\n",
       "      <td>5</td>\n",
       "      <td>-383.0310</td>\n",
       "    </tr>\n",
       "    <tr>\n",
       "      <td>4</td>\n",
       "      <td>US-2015-108966</td>\n",
       "      <td>10/11/2015</td>\n",
       "      <td>SO-20335</td>\n",
       "      <td>Consumer</td>\n",
       "      <td>Office Supplies</td>\n",
       "      <td>Storage</td>\n",
       "      <td>22.3680</td>\n",
       "      <td>2</td>\n",
       "      <td>2.5164</td>\n",
       "    </tr>\n",
       "  </tbody>\n",
       "</table>\n",
       "</div>"
      ],
      "text/plain": [
       "         order_id  order_date customer_id    segment         category  \\\n",
       "0  CA-2016-152156   11/8/2016    CG-12520   Consumer        Furniture   \n",
       "1  CA-2016-152156   11/8/2016    CG-12520   Consumer        Furniture   \n",
       "2  CA-2016-138688   6/12/2016    DV-13045  Corporate  Office Supplies   \n",
       "3  US-2015-108966  10/11/2015    SO-20335   Consumer        Furniture   \n",
       "4  US-2015-108966  10/11/2015    SO-20335   Consumer  Office Supplies   \n",
       "\n",
       "  sub_category     sales  quantity    profit  \n",
       "0    Bookcases  261.9600         2   41.9136  \n",
       "1       Chairs  731.9400         3  219.5820  \n",
       "2       Labels   14.6200         2    6.8714  \n",
       "3       Tables  957.5775         5 -383.0310  \n",
       "4      Storage   22.3680         2    2.5164  "
      ]
     },
     "execution_count": 19,
     "metadata": {},
     "output_type": "execute_result"
    }
   ],
   "source": [
    "dataset.head()"
   ]
  },
  {
   "cell_type": "markdown",
   "metadata": {},
   "source": [
    "Terkadang kita butuh mengakses kolom tertentu atau lebih spesifik elemen tertentu pada DataFrame. Untuk mengakses suatu data, alamat data tersebut adalah pada nama kolom sebagai petunjuk lokasi kolom dan indeks sebagai petunjuk lokasi baris."
   ]
  },
  {
   "cell_type": "markdown",
   "metadata": {},
   "source": [
    "Terdapat dua cara untuk melakukan akses kolom pada DataFrame"
   ]
  },
  {
   "cell_type": "markdown",
   "metadata": {},
   "source": [
    "* **Cara 1: Sebagai atribute**"
   ]
  },
  {
   "cell_type": "markdown",
   "metadata": {},
   "source": [
    "Untuk mengakses kolom pada DataFrame sebagai atribut, nama kolom tidak boleh mengandung spasi."
   ]
  },
  {
   "cell_type": "code",
   "execution_count": 21,
   "metadata": {},
   "outputs": [
    {
     "data": {
      "text/plain": [
       "0       CG-12520\n",
       "1       CG-12520\n",
       "2       DV-13045\n",
       "3       SO-20335\n",
       "4       SO-20335\n",
       "          ...   \n",
       "9983    TB-21400\n",
       "9984    DB-13060\n",
       "9985    DB-13060\n",
       "9986    DB-13060\n",
       "9987    CC-12220\n",
       "Name: customer_id, Length: 9988, dtype: object"
      ]
     },
     "execution_count": 21,
     "metadata": {},
     "output_type": "execute_result"
    }
   ],
   "source": [
    "dataset.customer_id"
   ]
  },
  {
   "cell_type": "markdown",
   "metadata": {},
   "source": [
    "* **Cara 2: Sebagai dictionary index**"
   ]
  },
  {
   "cell_type": "markdown",
   "metadata": {},
   "source": [
    "Jika mengakses kolom pada DataFrame sebagai dictionary index, maka nama kolom boleh mengandung spasi."
   ]
  },
  {
   "cell_type": "code",
   "execution_count": 22,
   "metadata": {
    "scrolled": false
   },
   "outputs": [
    {
     "data": {
      "text/plain": [
       "0       CG-12520\n",
       "1       CG-12520\n",
       "2       DV-13045\n",
       "3       SO-20335\n",
       "4       SO-20335\n",
       "          ...   \n",
       "9983    TB-21400\n",
       "9984    DB-13060\n",
       "9985    DB-13060\n",
       "9986    DB-13060\n",
       "9987    CC-12220\n",
       "Name: customer_id, Length: 9988, dtype: object"
      ]
     },
     "execution_count": 22,
     "metadata": {},
     "output_type": "execute_result"
    }
   ],
   "source": [
    "dataset['customer_id']"
   ]
  },
  {
   "cell_type": "code",
   "execution_count": 23,
   "metadata": {},
   "outputs": [
    {
     "data": {
      "text/plain": [
       "'CG-12520'"
      ]
     },
     "execution_count": 23,
     "metadata": {},
     "output_type": "execute_result"
    }
   ],
   "source": [
    "dataset['customer_id'][0]"
   ]
  },
  {
   "cell_type": "markdown",
   "metadata": {},
   "source": [
    "### G. Melakukan akses data pada DataFrame"
   ]
  },
  {
   "cell_type": "markdown",
   "metadata": {},
   "source": [
    "Terdapat dua mekanisme untuk melakukan akses data pada DataFrame:\n",
    "* index-based selection, dan\n",
    "* label-based selection.\n",
    "\n",
    "Kedua mekanisme akses ini mendahulukan baris ( _row_ ) baru diikuti kolom ( _column_ )."
   ]
  },
  {
   "cell_type": "markdown",
   "metadata": {},
   "source": [
    "**index-based selection**"
   ]
  },
  {
   "cell_type": "markdown",
   "metadata": {},
   "source": [
    "Mekanisme ini dapat dilakukan dengan memanfaatkan method iloc."
   ]
  },
  {
   "cell_type": "code",
   "execution_count": 24,
   "metadata": {},
   "outputs": [
    {
     "data": {
      "text/plain": [
       "order_id        CA-2016-152156\n",
       "order_date           11/8/2016\n",
       "customer_id           CG-12520\n",
       "segment               Consumer\n",
       "category             Furniture\n",
       "sub_category         Bookcases\n",
       "sales                   261.96\n",
       "quantity                     2\n",
       "profit                 41.9136\n",
       "Name: 0, dtype: object"
      ]
     },
     "execution_count": 24,
     "metadata": {},
     "output_type": "execute_result"
    }
   ],
   "source": [
    "# Mengakses data pada baris ke 0\n",
    "dataset.iloc[0]"
   ]
  },
  {
   "cell_type": "code",
   "execution_count": 25,
   "metadata": {},
   "outputs": [
    {
     "data": {
      "text/plain": [
       "'CA-2016-138688'"
      ]
     },
     "execution_count": 25,
     "metadata": {},
     "output_type": "execute_result"
    }
   ],
   "source": [
    "# Mengakses data pada baris ke 2 kolom ke 0\n",
    "dataset.iloc[2, 0]"
   ]
  },
  {
   "cell_type": "markdown",
   "metadata": {},
   "source": [
    "**Slicing pada iloc**"
   ]
  },
  {
   "cell_type": "code",
   "execution_count": 5,
   "metadata": {},
   "outputs": [
    {
     "data": {
      "text/plain": [
       "0       CA-2016-152156\n",
       "1       CA-2016-152156\n",
       "2       CA-2016-138688\n",
       "3       US-2015-108966\n",
       "4       US-2015-108966\n",
       "             ...      \n",
       "9983    CA-2014-110422\n",
       "9984    CA-2017-121258\n",
       "9985    CA-2017-121258\n",
       "9986    CA-2017-121258\n",
       "9987    CA-2017-119914\n",
       "Name: order_id, Length: 9988, dtype: object"
      ]
     },
     "execution_count": 5,
     "metadata": {},
     "output_type": "execute_result"
    }
   ],
   "source": [
    "# Mengakses data pada semua baris kolom ke 0\n",
    "dataset.iloc[:, 0]"
   ]
  },
  {
   "cell_type": "code",
   "execution_count": 6,
   "metadata": {},
   "outputs": [
    {
     "data": {
      "text/plain": [
       "order_id        CA-2016-152156\n",
       "order_date           11/8/2016\n",
       "customer_id           CG-12520\n",
       "segment               Consumer\n",
       "category             Furniture\n",
       "sub_category         Bookcases\n",
       "sales                   261.96\n",
       "Name: 0, dtype: object"
      ]
     },
     "execution_count": 6,
     "metadata": {},
     "output_type": "execute_result"
    }
   ],
   "source": [
    "# Mengakses data pada baris ke 0 tujuh kolom pertama\n",
    "dataset.iloc[0, :7]"
   ]
  },
  {
   "cell_type": "code",
   "execution_count": 7,
   "metadata": {},
   "outputs": [
    {
     "data": {
      "text/plain": [
       "1    CA-2016-152156\n",
       "2    CA-2016-138688\n",
       "Name: order_id, dtype: object"
      ]
     },
     "execution_count": 7,
     "metadata": {},
     "output_type": "execute_result"
    }
   ],
   "source": [
    "# Mengakses data pada baris index 1 sampai 3 kolom ke 0\n",
    "dataset.iloc[1:3, 0]"
   ]
  },
  {
   "cell_type": "markdown",
   "metadata": {},
   "source": [
    "**Melewatkan list untuk melakukan akses data pada baris dan kolom tertentu dari DataFrame**"
   ]
  },
  {
   "cell_type": "code",
   "execution_count": 8,
   "metadata": {},
   "outputs": [
    {
     "data": {
      "text/plain": [
       "0    CA-2016-152156\n",
       "3    US-2015-108966\n",
       "8    CA-2014-115812\n",
       "Name: order_id, dtype: object"
      ]
     },
     "execution_count": 8,
     "metadata": {},
     "output_type": "execute_result"
    }
   ],
   "source": [
    "dataset.iloc[[0, 3, 8], 0]"
   ]
  },
  {
   "cell_type": "markdown",
   "metadata": {},
   "source": [
    "**Menggunakan negative index untuk melakukan akses data pada baris dan kolom tertentu dari DataFrame**"
   ]
  },
  {
   "cell_type": "code",
   "execution_count": 9,
   "metadata": {},
   "outputs": [
    {
     "data": {
      "text/html": [
       "<div>\n",
       "<style scoped>\n",
       "    .dataframe tbody tr th:only-of-type {\n",
       "        vertical-align: middle;\n",
       "    }\n",
       "\n",
       "    .dataframe tbody tr th {\n",
       "        vertical-align: top;\n",
       "    }\n",
       "\n",
       "    .dataframe thead th {\n",
       "        text-align: right;\n",
       "    }\n",
       "</style>\n",
       "<table border=\"1\" class=\"dataframe\">\n",
       "  <thead>\n",
       "    <tr style=\"text-align: right;\">\n",
       "      <th></th>\n",
       "      <th>order_id</th>\n",
       "      <th>order_date</th>\n",
       "      <th>customer_id</th>\n",
       "      <th>segment</th>\n",
       "      <th>category</th>\n",
       "      <th>sub_category</th>\n",
       "      <th>sales</th>\n",
       "      <th>quantity</th>\n",
       "      <th>profit</th>\n",
       "    </tr>\n",
       "  </thead>\n",
       "  <tbody>\n",
       "    <tr>\n",
       "      <td>9983</td>\n",
       "      <td>CA-2014-110422</td>\n",
       "      <td>1/21/2014</td>\n",
       "      <td>TB-21400</td>\n",
       "      <td>Consumer</td>\n",
       "      <td>Furniture</td>\n",
       "      <td>Furnishings</td>\n",
       "      <td>25.248</td>\n",
       "      <td>3</td>\n",
       "      <td>4.1028</td>\n",
       "    </tr>\n",
       "    <tr>\n",
       "      <td>9984</td>\n",
       "      <td>CA-2017-121258</td>\n",
       "      <td>2/26/2017</td>\n",
       "      <td>DB-13060</td>\n",
       "      <td>Consumer</td>\n",
       "      <td>Furniture</td>\n",
       "      <td>Furnishings</td>\n",
       "      <td>91.960</td>\n",
       "      <td>2</td>\n",
       "      <td>15.6332</td>\n",
       "    </tr>\n",
       "    <tr>\n",
       "      <td>9985</td>\n",
       "      <td>CA-2017-121258</td>\n",
       "      <td>2/26/2017</td>\n",
       "      <td>DB-13060</td>\n",
       "      <td>Consumer</td>\n",
       "      <td>Technology</td>\n",
       "      <td>Phones</td>\n",
       "      <td>258.576</td>\n",
       "      <td>2</td>\n",
       "      <td>19.3932</td>\n",
       "    </tr>\n",
       "    <tr>\n",
       "      <td>9986</td>\n",
       "      <td>CA-2017-121258</td>\n",
       "      <td>2/26/2017</td>\n",
       "      <td>DB-13060</td>\n",
       "      <td>Consumer</td>\n",
       "      <td>Office Supplies</td>\n",
       "      <td>Paper</td>\n",
       "      <td>29.600</td>\n",
       "      <td>4</td>\n",
       "      <td>13.3200</td>\n",
       "    </tr>\n",
       "    <tr>\n",
       "      <td>9987</td>\n",
       "      <td>CA-2017-119914</td>\n",
       "      <td>5/4/2017</td>\n",
       "      <td>CC-12220</td>\n",
       "      <td>Consumer</td>\n",
       "      <td>Office Supplies</td>\n",
       "      <td>Appliances</td>\n",
       "      <td>243.160</td>\n",
       "      <td>2</td>\n",
       "      <td>72.9480</td>\n",
       "    </tr>\n",
       "  </tbody>\n",
       "</table>\n",
       "</div>"
      ],
      "text/plain": [
       "            order_id order_date customer_id   segment         category  \\\n",
       "9983  CA-2014-110422  1/21/2014    TB-21400  Consumer        Furniture   \n",
       "9984  CA-2017-121258  2/26/2017    DB-13060  Consumer        Furniture   \n",
       "9985  CA-2017-121258  2/26/2017    DB-13060  Consumer       Technology   \n",
       "9986  CA-2017-121258  2/26/2017    DB-13060  Consumer  Office Supplies   \n",
       "9987  CA-2017-119914   5/4/2017    CC-12220  Consumer  Office Supplies   \n",
       "\n",
       "     sub_category    sales  quantity   profit  \n",
       "9983  Furnishings   25.248         3   4.1028  \n",
       "9984  Furnishings   91.960         2  15.6332  \n",
       "9985       Phones  258.576         2  19.3932  \n",
       "9986        Paper   29.600         4  13.3200  \n",
       "9987   Appliances  243.160         2  72.9480  "
      ]
     },
     "execution_count": 9,
     "metadata": {},
     "output_type": "execute_result"
    }
   ],
   "source": [
    "# Mengakses data 5 baris terakhir\n",
    "dataset.iloc[-5:]"
   ]
  },
  {
   "cell_type": "markdown",
   "metadata": {},
   "source": [
    "**label-based selection**"
   ]
  },
  {
   "cell_type": "markdown",
   "metadata": {},
   "source": [
    "Mekanisme ini dapat dilakukan dengan memanfaatkan method loc."
   ]
  },
  {
   "cell_type": "code",
   "execution_count": 10,
   "metadata": {},
   "outputs": [
    {
     "data": {
      "text/plain": [
       "'CG-12520'"
      ]
     },
     "execution_count": 10,
     "metadata": {},
     "output_type": "execute_result"
    }
   ],
   "source": [
    "# Mengakses baris ke 0 pada kolom customer_id\n",
    "dataset.loc[0, 'customer_id']"
   ]
  },
  {
   "cell_type": "code",
   "execution_count": 11,
   "metadata": {},
   "outputs": [
    {
     "data": {
      "text/plain": [
       "0    CG-12520\n",
       "1    CG-12520\n",
       "2    DV-13045\n",
       "3    SO-20335\n",
       "4    SO-20335\n",
       "5    BH-11710\n",
       "Name: customer_id, dtype: object"
      ]
     },
     "execution_count": 11,
     "metadata": {},
     "output_type": "execute_result"
    }
   ],
   "source": [
    "dataset.loc[0:5, 'customer_id']"
   ]
  },
  {
   "cell_type": "code",
   "execution_count": 12,
   "metadata": {},
   "outputs": [
    {
     "data": {
      "text/html": [
       "<div>\n",
       "<style scoped>\n",
       "    .dataframe tbody tr th:only-of-type {\n",
       "        vertical-align: middle;\n",
       "    }\n",
       "\n",
       "    .dataframe tbody tr th {\n",
       "        vertical-align: top;\n",
       "    }\n",
       "\n",
       "    .dataframe thead th {\n",
       "        text-align: right;\n",
       "    }\n",
       "</style>\n",
       "<table border=\"1\" class=\"dataframe\">\n",
       "  <thead>\n",
       "    <tr style=\"text-align: right;\">\n",
       "      <th></th>\n",
       "      <th>order_id</th>\n",
       "      <th>customer_id</th>\n",
       "      <th>sales</th>\n",
       "    </tr>\n",
       "  </thead>\n",
       "  <tbody>\n",
       "    <tr>\n",
       "      <td>0</td>\n",
       "      <td>CA-2016-152156</td>\n",
       "      <td>CG-12520</td>\n",
       "      <td>261.9600</td>\n",
       "    </tr>\n",
       "    <tr>\n",
       "      <td>1</td>\n",
       "      <td>CA-2016-152156</td>\n",
       "      <td>CG-12520</td>\n",
       "      <td>731.9400</td>\n",
       "    </tr>\n",
       "    <tr>\n",
       "      <td>2</td>\n",
       "      <td>CA-2016-138688</td>\n",
       "      <td>DV-13045</td>\n",
       "      <td>14.6200</td>\n",
       "    </tr>\n",
       "    <tr>\n",
       "      <td>3</td>\n",
       "      <td>US-2015-108966</td>\n",
       "      <td>SO-20335</td>\n",
       "      <td>957.5775</td>\n",
       "    </tr>\n",
       "    <tr>\n",
       "      <td>4</td>\n",
       "      <td>US-2015-108966</td>\n",
       "      <td>SO-20335</td>\n",
       "      <td>22.3680</td>\n",
       "    </tr>\n",
       "  </tbody>\n",
       "</table>\n",
       "</div>"
      ],
      "text/plain": [
       "         order_id customer_id     sales\n",
       "0  CA-2016-152156    CG-12520  261.9600\n",
       "1  CA-2016-152156    CG-12520  731.9400\n",
       "2  CA-2016-138688    DV-13045   14.6200\n",
       "3  US-2015-108966    SO-20335  957.5775\n",
       "4  US-2015-108966    SO-20335   22.3680"
      ]
     },
     "execution_count": 12,
     "metadata": {},
     "output_type": "execute_result"
    }
   ],
   "source": [
    "# Mengakses semua baris dengan kolom tertentu\n",
    "dataset.loc[:, ['order_id', 'customer_id', 'sales']].head()"
   ]
  },
  {
   "cell_type": "markdown",
   "metadata": {},
   "source": [
    "### Alternatif lain"
   ]
  },
  {
   "cell_type": "markdown",
   "metadata": {},
   "source": [
    "Alternatif lain untuk melakukan akses data dapat dilakukan dengan model akses kolom-baris (column-row)"
   ]
  },
  {
   "cell_type": "code",
   "execution_count": 13,
   "metadata": {},
   "outputs": [
    {
     "data": {
      "text/html": [
       "<div>\n",
       "<style scoped>\n",
       "    .dataframe tbody tr th:only-of-type {\n",
       "        vertical-align: middle;\n",
       "    }\n",
       "\n",
       "    .dataframe tbody tr th {\n",
       "        vertical-align: top;\n",
       "    }\n",
       "\n",
       "    .dataframe thead th {\n",
       "        text-align: right;\n",
       "    }\n",
       "</style>\n",
       "<table border=\"1\" class=\"dataframe\">\n",
       "  <thead>\n",
       "    <tr style=\"text-align: right;\">\n",
       "      <th></th>\n",
       "      <th>customer_id</th>\n",
       "      <th>sales</th>\n",
       "    </tr>\n",
       "  </thead>\n",
       "  <tbody>\n",
       "    <tr>\n",
       "      <td>0</td>\n",
       "      <td>CG-12520</td>\n",
       "      <td>261.9600</td>\n",
       "    </tr>\n",
       "    <tr>\n",
       "      <td>1</td>\n",
       "      <td>CG-12520</td>\n",
       "      <td>731.9400</td>\n",
       "    </tr>\n",
       "    <tr>\n",
       "      <td>2</td>\n",
       "      <td>DV-13045</td>\n",
       "      <td>14.6200</td>\n",
       "    </tr>\n",
       "    <tr>\n",
       "      <td>3</td>\n",
       "      <td>SO-20335</td>\n",
       "      <td>957.5775</td>\n",
       "    </tr>\n",
       "    <tr>\n",
       "      <td>4</td>\n",
       "      <td>SO-20335</td>\n",
       "      <td>22.3680</td>\n",
       "    </tr>\n",
       "  </tbody>\n",
       "</table>\n",
       "</div>"
      ],
      "text/plain": [
       "  customer_id     sales\n",
       "0    CG-12520  261.9600\n",
       "1    CG-12520  731.9400\n",
       "2    DV-13045   14.6200\n",
       "3    SO-20335  957.5775\n",
       "4    SO-20335   22.3680"
      ]
     },
     "execution_count": 13,
     "metadata": {},
     "output_type": "execute_result"
    }
   ],
   "source": [
    "dataset[['customer_id', 'sales']][:].head()"
   ]
  },
  {
   "cell_type": "code",
   "execution_count": 14,
   "metadata": {},
   "outputs": [
    {
     "data": {
      "text/html": [
       "<div>\n",
       "<style scoped>\n",
       "    .dataframe tbody tr th:only-of-type {\n",
       "        vertical-align: middle;\n",
       "    }\n",
       "\n",
       "    .dataframe tbody tr th {\n",
       "        vertical-align: top;\n",
       "    }\n",
       "\n",
       "    .dataframe thead th {\n",
       "        text-align: right;\n",
       "    }\n",
       "</style>\n",
       "<table border=\"1\" class=\"dataframe\">\n",
       "  <thead>\n",
       "    <tr style=\"text-align: right;\">\n",
       "      <th></th>\n",
       "      <th>customer_id</th>\n",
       "      <th>sales</th>\n",
       "    </tr>\n",
       "  </thead>\n",
       "  <tbody>\n",
       "    <tr>\n",
       "      <td>0</td>\n",
       "      <td>CG-12520</td>\n",
       "      <td>261.9600</td>\n",
       "    </tr>\n",
       "    <tr>\n",
       "      <td>1</td>\n",
       "      <td>CG-12520</td>\n",
       "      <td>731.9400</td>\n",
       "    </tr>\n",
       "    <tr>\n",
       "      <td>2</td>\n",
       "      <td>DV-13045</td>\n",
       "      <td>14.6200</td>\n",
       "    </tr>\n",
       "    <tr>\n",
       "      <td>3</td>\n",
       "      <td>SO-20335</td>\n",
       "      <td>957.5775</td>\n",
       "    </tr>\n",
       "    <tr>\n",
       "      <td>4</td>\n",
       "      <td>SO-20335</td>\n",
       "      <td>22.3680</td>\n",
       "    </tr>\n",
       "  </tbody>\n",
       "</table>\n",
       "</div>"
      ],
      "text/plain": [
       "  customer_id     sales\n",
       "0    CG-12520  261.9600\n",
       "1    CG-12520  731.9400\n",
       "2    DV-13045   14.6200\n",
       "3    SO-20335  957.5775\n",
       "4    SO-20335   22.3680"
      ]
     },
     "execution_count": 14,
     "metadata": {},
     "output_type": "execute_result"
    }
   ],
   "source": [
    "dataset[['customer_id', 'sales']][:5]"
   ]
  },
  {
   "cell_type": "markdown",
   "metadata": {},
   "source": [
    "### Mengganti index"
   ]
  },
  {
   "cell_type": "code",
   "execution_count": 3,
   "metadata": {},
   "outputs": [
    {
     "data": {
      "text/html": [
       "<div>\n",
       "<style scoped>\n",
       "    .dataframe tbody tr th:only-of-type {\n",
       "        vertical-align: middle;\n",
       "    }\n",
       "\n",
       "    .dataframe tbody tr th {\n",
       "        vertical-align: top;\n",
       "    }\n",
       "\n",
       "    .dataframe thead th {\n",
       "        text-align: right;\n",
       "    }\n",
       "</style>\n",
       "<table border=\"1\" class=\"dataframe\">\n",
       "  <thead>\n",
       "    <tr style=\"text-align: right;\">\n",
       "      <th></th>\n",
       "      <th>order_date</th>\n",
       "      <th>customer_id</th>\n",
       "      <th>segment</th>\n",
       "      <th>category</th>\n",
       "      <th>sub_category</th>\n",
       "      <th>sales</th>\n",
       "      <th>quantity</th>\n",
       "      <th>profit</th>\n",
       "    </tr>\n",
       "    <tr>\n",
       "      <th>order_id</th>\n",
       "      <th></th>\n",
       "      <th></th>\n",
       "      <th></th>\n",
       "      <th></th>\n",
       "      <th></th>\n",
       "      <th></th>\n",
       "      <th></th>\n",
       "      <th></th>\n",
       "    </tr>\n",
       "  </thead>\n",
       "  <tbody>\n",
       "    <tr>\n",
       "      <td>CA-2016-152156</td>\n",
       "      <td>11/8/2016</td>\n",
       "      <td>CG-12520</td>\n",
       "      <td>Consumer</td>\n",
       "      <td>Furniture</td>\n",
       "      <td>Bookcases</td>\n",
       "      <td>261.9600</td>\n",
       "      <td>2</td>\n",
       "      <td>41.9136</td>\n",
       "    </tr>\n",
       "    <tr>\n",
       "      <td>CA-2016-152156</td>\n",
       "      <td>11/8/2016</td>\n",
       "      <td>CG-12520</td>\n",
       "      <td>Consumer</td>\n",
       "      <td>Furniture</td>\n",
       "      <td>Chairs</td>\n",
       "      <td>731.9400</td>\n",
       "      <td>3</td>\n",
       "      <td>219.5820</td>\n",
       "    </tr>\n",
       "    <tr>\n",
       "      <td>CA-2016-138688</td>\n",
       "      <td>6/12/2016</td>\n",
       "      <td>DV-13045</td>\n",
       "      <td>Corporate</td>\n",
       "      <td>Office Supplies</td>\n",
       "      <td>Labels</td>\n",
       "      <td>14.6200</td>\n",
       "      <td>2</td>\n",
       "      <td>6.8714</td>\n",
       "    </tr>\n",
       "    <tr>\n",
       "      <td>US-2015-108966</td>\n",
       "      <td>10/11/2015</td>\n",
       "      <td>SO-20335</td>\n",
       "      <td>Consumer</td>\n",
       "      <td>Furniture</td>\n",
       "      <td>Tables</td>\n",
       "      <td>957.5775</td>\n",
       "      <td>5</td>\n",
       "      <td>-383.0310</td>\n",
       "    </tr>\n",
       "    <tr>\n",
       "      <td>US-2015-108966</td>\n",
       "      <td>10/11/2015</td>\n",
       "      <td>SO-20335</td>\n",
       "      <td>Consumer</td>\n",
       "      <td>Office Supplies</td>\n",
       "      <td>Storage</td>\n",
       "      <td>22.3680</td>\n",
       "      <td>2</td>\n",
       "      <td>2.5164</td>\n",
       "    </tr>\n",
       "  </tbody>\n",
       "</table>\n",
       "</div>"
      ],
      "text/plain": [
       "                order_date customer_id    segment         category  \\\n",
       "order_id                                                             \n",
       "CA-2016-152156   11/8/2016    CG-12520   Consumer        Furniture   \n",
       "CA-2016-152156   11/8/2016    CG-12520   Consumer        Furniture   \n",
       "CA-2016-138688   6/12/2016    DV-13045  Corporate  Office Supplies   \n",
       "US-2015-108966  10/11/2015    SO-20335   Consumer        Furniture   \n",
       "US-2015-108966  10/11/2015    SO-20335   Consumer  Office Supplies   \n",
       "\n",
       "               sub_category     sales  quantity    profit  \n",
       "order_id                                                   \n",
       "CA-2016-152156    Bookcases  261.9600         2   41.9136  \n",
       "CA-2016-152156       Chairs  731.9400         3  219.5820  \n",
       "CA-2016-138688       Labels   14.6200         2    6.8714  \n",
       "US-2015-108966       Tables  957.5775         5 -383.0310  \n",
       "US-2015-108966      Storage   22.3680         2    2.5164  "
      ]
     },
     "execution_count": 3,
     "metadata": {},
     "output_type": "execute_result"
    }
   ],
   "source": [
    "dataset.set_index('order_id').head()\n",
    "# df = dataset.set_index('order_id')  # Menghasilkan dataframe baru\n",
    "# dataset.set_index('order_id', inplace = True) # tidak menghasilkan dataframe baru"
   ]
  },
  {
   "cell_type": "code",
   "execution_count": 4,
   "metadata": {},
   "outputs": [
    {
     "data": {
      "text/html": [
       "<div>\n",
       "<style scoped>\n",
       "    .dataframe tbody tr th:only-of-type {\n",
       "        vertical-align: middle;\n",
       "    }\n",
       "\n",
       "    .dataframe tbody tr th {\n",
       "        vertical-align: top;\n",
       "    }\n",
       "\n",
       "    .dataframe thead th {\n",
       "        text-align: right;\n",
       "    }\n",
       "</style>\n",
       "<table border=\"1\" class=\"dataframe\">\n",
       "  <thead>\n",
       "    <tr style=\"text-align: right;\">\n",
       "      <th></th>\n",
       "      <th>index</th>\n",
       "      <th>order_id</th>\n",
       "      <th>order_date</th>\n",
       "      <th>customer_id</th>\n",
       "      <th>segment</th>\n",
       "      <th>category</th>\n",
       "      <th>sub_category</th>\n",
       "      <th>sales</th>\n",
       "      <th>quantity</th>\n",
       "      <th>profit</th>\n",
       "    </tr>\n",
       "  </thead>\n",
       "  <tbody>\n",
       "    <tr>\n",
       "      <td>0</td>\n",
       "      <td>0</td>\n",
       "      <td>CA-2016-152156</td>\n",
       "      <td>11/8/2016</td>\n",
       "      <td>CG-12520</td>\n",
       "      <td>Consumer</td>\n",
       "      <td>Furniture</td>\n",
       "      <td>Bookcases</td>\n",
       "      <td>261.9600</td>\n",
       "      <td>2</td>\n",
       "      <td>41.9136</td>\n",
       "    </tr>\n",
       "    <tr>\n",
       "      <td>1</td>\n",
       "      <td>1</td>\n",
       "      <td>CA-2016-152156</td>\n",
       "      <td>11/8/2016</td>\n",
       "      <td>CG-12520</td>\n",
       "      <td>Consumer</td>\n",
       "      <td>Furniture</td>\n",
       "      <td>Chairs</td>\n",
       "      <td>731.9400</td>\n",
       "      <td>3</td>\n",
       "      <td>219.5820</td>\n",
       "    </tr>\n",
       "    <tr>\n",
       "      <td>2</td>\n",
       "      <td>2</td>\n",
       "      <td>CA-2016-138688</td>\n",
       "      <td>6/12/2016</td>\n",
       "      <td>DV-13045</td>\n",
       "      <td>Corporate</td>\n",
       "      <td>Office Supplies</td>\n",
       "      <td>Labels</td>\n",
       "      <td>14.6200</td>\n",
       "      <td>2</td>\n",
       "      <td>6.8714</td>\n",
       "    </tr>\n",
       "    <tr>\n",
       "      <td>3</td>\n",
       "      <td>3</td>\n",
       "      <td>US-2015-108966</td>\n",
       "      <td>10/11/2015</td>\n",
       "      <td>SO-20335</td>\n",
       "      <td>Consumer</td>\n",
       "      <td>Furniture</td>\n",
       "      <td>Tables</td>\n",
       "      <td>957.5775</td>\n",
       "      <td>5</td>\n",
       "      <td>-383.0310</td>\n",
       "    </tr>\n",
       "    <tr>\n",
       "      <td>4</td>\n",
       "      <td>4</td>\n",
       "      <td>US-2015-108966</td>\n",
       "      <td>10/11/2015</td>\n",
       "      <td>SO-20335</td>\n",
       "      <td>Consumer</td>\n",
       "      <td>Office Supplies</td>\n",
       "      <td>Storage</td>\n",
       "      <td>22.3680</td>\n",
       "      <td>2</td>\n",
       "      <td>2.5164</td>\n",
       "    </tr>\n",
       "  </tbody>\n",
       "</table>\n",
       "</div>"
      ],
      "text/plain": [
       "   index        order_id  order_date customer_id    segment         category  \\\n",
       "0      0  CA-2016-152156   11/8/2016    CG-12520   Consumer        Furniture   \n",
       "1      1  CA-2016-152156   11/8/2016    CG-12520   Consumer        Furniture   \n",
       "2      2  CA-2016-138688   6/12/2016    DV-13045  Corporate  Office Supplies   \n",
       "3      3  US-2015-108966  10/11/2015    SO-20335   Consumer        Furniture   \n",
       "4      4  US-2015-108966  10/11/2015    SO-20335   Consumer  Office Supplies   \n",
       "\n",
       "  sub_category     sales  quantity    profit  \n",
       "0    Bookcases  261.9600         2   41.9136  \n",
       "1       Chairs  731.9400         3  219.5820  \n",
       "2       Labels   14.6200         2    6.8714  \n",
       "3       Tables  957.5775         5 -383.0310  \n",
       "4      Storage   22.3680         2    2.5164  "
      ]
     },
     "execution_count": 4,
     "metadata": {},
     "output_type": "execute_result"
    }
   ],
   "source": [
    "dataset.reset_index().head()"
   ]
  },
  {
   "cell_type": "markdown",
   "metadata": {},
   "source": [
    "### H. Seleksi data pada DataFrame"
   ]
  },
  {
   "cell_type": "markdown",
   "metadata": {},
   "source": [
    "**Conditional Selection**"
   ]
  },
  {
   "cell_type": "code",
   "execution_count": 10,
   "metadata": {},
   "outputs": [
    {
     "data": {
      "text/plain": [
       "0       False\n",
       "1       False\n",
       "2        True\n",
       "3       False\n",
       "4       False\n",
       "        ...  \n",
       "9983    False\n",
       "9984    False\n",
       "9985    False\n",
       "9986    False\n",
       "9987    False\n",
       "Name: segment, Length: 9988, dtype: bool"
      ]
     },
     "execution_count": 10,
     "metadata": {},
     "output_type": "execute_result"
    }
   ],
   "source": [
    "# Mengakses kolom tertentu dengan nilai tertentu\n",
    "dataset['segment'] == 'Corporate'"
   ]
  },
  {
   "cell_type": "code",
   "execution_count": 11,
   "metadata": {},
   "outputs": [
    {
     "data": {
      "text/html": [
       "<div>\n",
       "<style scoped>\n",
       "    .dataframe tbody tr th:only-of-type {\n",
       "        vertical-align: middle;\n",
       "    }\n",
       "\n",
       "    .dataframe tbody tr th {\n",
       "        vertical-align: top;\n",
       "    }\n",
       "\n",
       "    .dataframe thead th {\n",
       "        text-align: right;\n",
       "    }\n",
       "</style>\n",
       "<table border=\"1\" class=\"dataframe\">\n",
       "  <thead>\n",
       "    <tr style=\"text-align: right;\">\n",
       "      <th></th>\n",
       "      <th>order_id</th>\n",
       "      <th>order_date</th>\n",
       "      <th>customer_id</th>\n",
       "      <th>segment</th>\n",
       "      <th>category</th>\n",
       "      <th>sub_category</th>\n",
       "      <th>sales</th>\n",
       "      <th>quantity</th>\n",
       "      <th>profit</th>\n",
       "    </tr>\n",
       "  </thead>\n",
       "  <tbody>\n",
       "    <tr>\n",
       "      <td>2</td>\n",
       "      <td>CA-2016-138688</td>\n",
       "      <td>6/12/2016</td>\n",
       "      <td>DV-13045</td>\n",
       "      <td>Corporate</td>\n",
       "      <td>Office Supplies</td>\n",
       "      <td>Labels</td>\n",
       "      <td>14.620</td>\n",
       "      <td>2</td>\n",
       "      <td>6.8714</td>\n",
       "    </tr>\n",
       "    <tr>\n",
       "      <td>21</td>\n",
       "      <td>CA-2016-137330</td>\n",
       "      <td>12/9/2016</td>\n",
       "      <td>KB-16585</td>\n",
       "      <td>Corporate</td>\n",
       "      <td>Office Supplies</td>\n",
       "      <td>Art</td>\n",
       "      <td>19.460</td>\n",
       "      <td>7</td>\n",
       "      <td>5.0596</td>\n",
       "    </tr>\n",
       "    <tr>\n",
       "      <td>22</td>\n",
       "      <td>CA-2016-137330</td>\n",
       "      <td>12/9/2016</td>\n",
       "      <td>KB-16585</td>\n",
       "      <td>Corporate</td>\n",
       "      <td>Office Supplies</td>\n",
       "      <td>Appliances</td>\n",
       "      <td>60.340</td>\n",
       "      <td>7</td>\n",
       "      <td>15.6884</td>\n",
       "    </tr>\n",
       "    <tr>\n",
       "      <td>35</td>\n",
       "      <td>CA-2016-117590</td>\n",
       "      <td>12/8/2016</td>\n",
       "      <td>GH-14485</td>\n",
       "      <td>Corporate</td>\n",
       "      <td>Technology</td>\n",
       "      <td>Phones</td>\n",
       "      <td>1097.544</td>\n",
       "      <td>7</td>\n",
       "      <td>123.4737</td>\n",
       "    </tr>\n",
       "    <tr>\n",
       "      <td>36</td>\n",
       "      <td>CA-2016-117590</td>\n",
       "      <td>12/8/2016</td>\n",
       "      <td>GH-14485</td>\n",
       "      <td>Corporate</td>\n",
       "      <td>Furniture</td>\n",
       "      <td>Furnishings</td>\n",
       "      <td>190.920</td>\n",
       "      <td>5</td>\n",
       "      <td>-147.9630</td>\n",
       "    </tr>\n",
       "  </tbody>\n",
       "</table>\n",
       "</div>"
      ],
      "text/plain": [
       "          order_id order_date customer_id    segment         category  \\\n",
       "2   CA-2016-138688  6/12/2016    DV-13045  Corporate  Office Supplies   \n",
       "21  CA-2016-137330  12/9/2016    KB-16585  Corporate  Office Supplies   \n",
       "22  CA-2016-137330  12/9/2016    KB-16585  Corporate  Office Supplies   \n",
       "35  CA-2016-117590  12/8/2016    GH-14485  Corporate       Technology   \n",
       "36  CA-2016-117590  12/8/2016    GH-14485  Corporate        Furniture   \n",
       "\n",
       "   sub_category     sales  quantity    profit  \n",
       "2        Labels    14.620         2    6.8714  \n",
       "21          Art    19.460         7    5.0596  \n",
       "22   Appliances    60.340         7   15.6884  \n",
       "35       Phones  1097.544         7  123.4737  \n",
       "36  Furnishings   190.920         5 -147.9630  "
      ]
     },
     "execution_count": 11,
     "metadata": {},
     "output_type": "execute_result"
    }
   ],
   "source": [
    "dataset.loc[dataset['segment'] == 'Corporate'].head()"
   ]
  },
  {
   "cell_type": "code",
   "execution_count": 12,
   "metadata": {
    "scrolled": true
   },
   "outputs": [
    {
     "data": {
      "text/html": [
       "<div>\n",
       "<style scoped>\n",
       "    .dataframe tbody tr th:only-of-type {\n",
       "        vertical-align: middle;\n",
       "    }\n",
       "\n",
       "    .dataframe tbody tr th {\n",
       "        vertical-align: top;\n",
       "    }\n",
       "\n",
       "    .dataframe thead th {\n",
       "        text-align: right;\n",
       "    }\n",
       "</style>\n",
       "<table border=\"1\" class=\"dataframe\">\n",
       "  <thead>\n",
       "    <tr style=\"text-align: right;\">\n",
       "      <th></th>\n",
       "      <th>order_id</th>\n",
       "      <th>order_date</th>\n",
       "      <th>customer_id</th>\n",
       "      <th>segment</th>\n",
       "      <th>category</th>\n",
       "      <th>sub_category</th>\n",
       "      <th>sales</th>\n",
       "      <th>quantity</th>\n",
       "      <th>profit</th>\n",
       "    </tr>\n",
       "  </thead>\n",
       "  <tbody>\n",
       "    <tr>\n",
       "      <td>21</td>\n",
       "      <td>CA-2016-137330</td>\n",
       "      <td>12/9/2016</td>\n",
       "      <td>KB-16585</td>\n",
       "      <td>Corporate</td>\n",
       "      <td>Office Supplies</td>\n",
       "      <td>Art</td>\n",
       "      <td>19.460</td>\n",
       "      <td>7</td>\n",
       "      <td>5.0596</td>\n",
       "    </tr>\n",
       "    <tr>\n",
       "      <td>22</td>\n",
       "      <td>CA-2016-137330</td>\n",
       "      <td>12/9/2016</td>\n",
       "      <td>KB-16585</td>\n",
       "      <td>Corporate</td>\n",
       "      <td>Office Supplies</td>\n",
       "      <td>Appliances</td>\n",
       "      <td>60.340</td>\n",
       "      <td>7</td>\n",
       "      <td>15.6884</td>\n",
       "    </tr>\n",
       "    <tr>\n",
       "      <td>35</td>\n",
       "      <td>CA-2016-117590</td>\n",
       "      <td>12/8/2016</td>\n",
       "      <td>GH-14485</td>\n",
       "      <td>Corporate</td>\n",
       "      <td>Technology</td>\n",
       "      <td>Phones</td>\n",
       "      <td>1097.544</td>\n",
       "      <td>7</td>\n",
       "      <td>123.4737</td>\n",
       "    </tr>\n",
       "    <tr>\n",
       "      <td>36</td>\n",
       "      <td>CA-2016-117590</td>\n",
       "      <td>12/8/2016</td>\n",
       "      <td>GH-14485</td>\n",
       "      <td>Corporate</td>\n",
       "      <td>Furniture</td>\n",
       "      <td>Furnishings</td>\n",
       "      <td>190.920</td>\n",
       "      <td>5</td>\n",
       "      <td>-147.9630</td>\n",
       "    </tr>\n",
       "    <tr>\n",
       "      <td>53</td>\n",
       "      <td>CA-2016-105816</td>\n",
       "      <td>12/11/2016</td>\n",
       "      <td>JM-15265</td>\n",
       "      <td>Corporate</td>\n",
       "      <td>Office Supplies</td>\n",
       "      <td>Fasteners</td>\n",
       "      <td>15.260</td>\n",
       "      <td>7</td>\n",
       "      <td>6.2566</td>\n",
       "    </tr>\n",
       "  </tbody>\n",
       "</table>\n",
       "</div>"
      ],
      "text/plain": [
       "          order_id  order_date customer_id    segment         category  \\\n",
       "21  CA-2016-137330   12/9/2016    KB-16585  Corporate  Office Supplies   \n",
       "22  CA-2016-137330   12/9/2016    KB-16585  Corporate  Office Supplies   \n",
       "35  CA-2016-117590   12/8/2016    GH-14485  Corporate       Technology   \n",
       "36  CA-2016-117590   12/8/2016    GH-14485  Corporate        Furniture   \n",
       "53  CA-2016-105816  12/11/2016    JM-15265  Corporate  Office Supplies   \n",
       "\n",
       "   sub_category     sales  quantity    profit  \n",
       "21          Art    19.460         7    5.0596  \n",
       "22   Appliances    60.340         7   15.6884  \n",
       "35       Phones  1097.544         7  123.4737  \n",
       "36  Furnishings   190.920         5 -147.9630  \n",
       "53    Fasteners    15.260         7    6.2566  "
      ]
     },
     "execution_count": 12,
     "metadata": {},
     "output_type": "execute_result"
    }
   ],
   "source": [
    "dataset.loc[(dataset['segment'] == 'Corporate') & (dataset['quantity'] >=5)].head()"
   ]
  },
  {
   "cell_type": "code",
   "execution_count": 13,
   "metadata": {},
   "outputs": [
    {
     "data": {
      "text/html": [
       "<div>\n",
       "<style scoped>\n",
       "    .dataframe tbody tr th:only-of-type {\n",
       "        vertical-align: middle;\n",
       "    }\n",
       "\n",
       "    .dataframe tbody tr th {\n",
       "        vertical-align: top;\n",
       "    }\n",
       "\n",
       "    .dataframe thead th {\n",
       "        text-align: right;\n",
       "    }\n",
       "</style>\n",
       "<table border=\"1\" class=\"dataframe\">\n",
       "  <thead>\n",
       "    <tr style=\"text-align: right;\">\n",
       "      <th></th>\n",
       "      <th>order_id</th>\n",
       "      <th>order_date</th>\n",
       "      <th>customer_id</th>\n",
       "      <th>segment</th>\n",
       "      <th>category</th>\n",
       "      <th>sub_category</th>\n",
       "      <th>sales</th>\n",
       "      <th>quantity</th>\n",
       "      <th>profit</th>\n",
       "    </tr>\n",
       "  </thead>\n",
       "  <tbody>\n",
       "    <tr>\n",
       "      <td>21</td>\n",
       "      <td>CA-2016-137330</td>\n",
       "      <td>12/9/2016</td>\n",
       "      <td>KB-16585</td>\n",
       "      <td>Corporate</td>\n",
       "      <td>Office Supplies</td>\n",
       "      <td>Art</td>\n",
       "      <td>19.460</td>\n",
       "      <td>7</td>\n",
       "      <td>5.0596</td>\n",
       "    </tr>\n",
       "    <tr>\n",
       "      <td>22</td>\n",
       "      <td>CA-2016-137330</td>\n",
       "      <td>12/9/2016</td>\n",
       "      <td>KB-16585</td>\n",
       "      <td>Corporate</td>\n",
       "      <td>Office Supplies</td>\n",
       "      <td>Appliances</td>\n",
       "      <td>60.340</td>\n",
       "      <td>7</td>\n",
       "      <td>15.6884</td>\n",
       "    </tr>\n",
       "    <tr>\n",
       "      <td>35</td>\n",
       "      <td>CA-2016-117590</td>\n",
       "      <td>12/8/2016</td>\n",
       "      <td>GH-14485</td>\n",
       "      <td>Corporate</td>\n",
       "      <td>Technology</td>\n",
       "      <td>Phones</td>\n",
       "      <td>1097.544</td>\n",
       "      <td>7</td>\n",
       "      <td>123.4737</td>\n",
       "    </tr>\n",
       "    <tr>\n",
       "      <td>36</td>\n",
       "      <td>CA-2016-117590</td>\n",
       "      <td>12/8/2016</td>\n",
       "      <td>GH-14485</td>\n",
       "      <td>Corporate</td>\n",
       "      <td>Furniture</td>\n",
       "      <td>Furnishings</td>\n",
       "      <td>190.920</td>\n",
       "      <td>5</td>\n",
       "      <td>-147.9630</td>\n",
       "    </tr>\n",
       "    <tr>\n",
       "      <td>53</td>\n",
       "      <td>CA-2016-105816</td>\n",
       "      <td>12/11/2016</td>\n",
       "      <td>JM-15265</td>\n",
       "      <td>Corporate</td>\n",
       "      <td>Office Supplies</td>\n",
       "      <td>Fasteners</td>\n",
       "      <td>15.260</td>\n",
       "      <td>7</td>\n",
       "      <td>6.2566</td>\n",
       "    </tr>\n",
       "  </tbody>\n",
       "</table>\n",
       "</div>"
      ],
      "text/plain": [
       "          order_id  order_date customer_id    segment         category  \\\n",
       "21  CA-2016-137330   12/9/2016    KB-16585  Corporate  Office Supplies   \n",
       "22  CA-2016-137330   12/9/2016    KB-16585  Corporate  Office Supplies   \n",
       "35  CA-2016-117590   12/8/2016    GH-14485  Corporate       Technology   \n",
       "36  CA-2016-117590   12/8/2016    GH-14485  Corporate        Furniture   \n",
       "53  CA-2016-105816  12/11/2016    JM-15265  Corporate  Office Supplies   \n",
       "\n",
       "   sub_category     sales  quantity    profit  \n",
       "21          Art    19.460         7    5.0596  \n",
       "22   Appliances    60.340         7   15.6884  \n",
       "35       Phones  1097.544         7  123.4737  \n",
       "36  Furnishings   190.920         5 -147.9630  \n",
       "53    Fasteners    15.260         7    6.2566  "
      ]
     },
     "execution_count": 13,
     "metadata": {},
     "output_type": "execute_result"
    }
   ],
   "source": [
    "dataset[(dataset['segment'] == 'Corporate') & (dataset['quantity'] >= 5)].head()"
   ]
  },
  {
   "cell_type": "markdown",
   "metadata": {},
   "source": [
    "### I. Mengenal beberapa built-in method"
   ]
  },
  {
   "cell_type": "markdown",
   "metadata": {},
   "source": [
    "**Mengenal method isin**"
   ]
  },
  {
   "cell_type": "code",
   "execution_count": 14,
   "metadata": {},
   "outputs": [
    {
     "data": {
      "text/html": [
       "<div>\n",
       "<style scoped>\n",
       "    .dataframe tbody tr th:only-of-type {\n",
       "        vertical-align: middle;\n",
       "    }\n",
       "\n",
       "    .dataframe tbody tr th {\n",
       "        vertical-align: top;\n",
       "    }\n",
       "\n",
       "    .dataframe thead th {\n",
       "        text-align: right;\n",
       "    }\n",
       "</style>\n",
       "<table border=\"1\" class=\"dataframe\">\n",
       "  <thead>\n",
       "    <tr style=\"text-align: right;\">\n",
       "      <th></th>\n",
       "      <th>order_id</th>\n",
       "      <th>order_date</th>\n",
       "      <th>customer_id</th>\n",
       "      <th>segment</th>\n",
       "      <th>category</th>\n",
       "      <th>sub_category</th>\n",
       "      <th>sales</th>\n",
       "      <th>quantity</th>\n",
       "      <th>profit</th>\n",
       "    </tr>\n",
       "  </thead>\n",
       "  <tbody>\n",
       "    <tr>\n",
       "      <td>0</td>\n",
       "      <td>CA-2016-152156</td>\n",
       "      <td>11/8/2016</td>\n",
       "      <td>CG-12520</td>\n",
       "      <td>Consumer</td>\n",
       "      <td>Furniture</td>\n",
       "      <td>Bookcases</td>\n",
       "      <td>261.9600</td>\n",
       "      <td>2</td>\n",
       "      <td>41.9136</td>\n",
       "    </tr>\n",
       "    <tr>\n",
       "      <td>1</td>\n",
       "      <td>CA-2016-152156</td>\n",
       "      <td>11/8/2016</td>\n",
       "      <td>CG-12520</td>\n",
       "      <td>Consumer</td>\n",
       "      <td>Furniture</td>\n",
       "      <td>Chairs</td>\n",
       "      <td>731.9400</td>\n",
       "      <td>3</td>\n",
       "      <td>219.5820</td>\n",
       "    </tr>\n",
       "    <tr>\n",
       "      <td>2</td>\n",
       "      <td>CA-2016-138688</td>\n",
       "      <td>6/12/2016</td>\n",
       "      <td>DV-13045</td>\n",
       "      <td>Corporate</td>\n",
       "      <td>Office Supplies</td>\n",
       "      <td>Labels</td>\n",
       "      <td>14.6200</td>\n",
       "      <td>2</td>\n",
       "      <td>6.8714</td>\n",
       "    </tr>\n",
       "    <tr>\n",
       "      <td>3</td>\n",
       "      <td>US-2015-108966</td>\n",
       "      <td>10/11/2015</td>\n",
       "      <td>SO-20335</td>\n",
       "      <td>Consumer</td>\n",
       "      <td>Furniture</td>\n",
       "      <td>Tables</td>\n",
       "      <td>957.5775</td>\n",
       "      <td>5</td>\n",
       "      <td>-383.0310</td>\n",
       "    </tr>\n",
       "    <tr>\n",
       "      <td>4</td>\n",
       "      <td>US-2015-108966</td>\n",
       "      <td>10/11/2015</td>\n",
       "      <td>SO-20335</td>\n",
       "      <td>Consumer</td>\n",
       "      <td>Office Supplies</td>\n",
       "      <td>Storage</td>\n",
       "      <td>22.3680</td>\n",
       "      <td>2</td>\n",
       "      <td>2.5164</td>\n",
       "    </tr>\n",
       "  </tbody>\n",
       "</table>\n",
       "</div>"
      ],
      "text/plain": [
       "         order_id  order_date customer_id    segment         category  \\\n",
       "0  CA-2016-152156   11/8/2016    CG-12520   Consumer        Furniture   \n",
       "1  CA-2016-152156   11/8/2016    CG-12520   Consumer        Furniture   \n",
       "2  CA-2016-138688   6/12/2016    DV-13045  Corporate  Office Supplies   \n",
       "3  US-2015-108966  10/11/2015    SO-20335   Consumer        Furniture   \n",
       "4  US-2015-108966  10/11/2015    SO-20335   Consumer  Office Supplies   \n",
       "\n",
       "  sub_category     sales  quantity    profit  \n",
       "0    Bookcases  261.9600         2   41.9136  \n",
       "1       Chairs  731.9400         3  219.5820  \n",
       "2       Labels   14.6200         2    6.8714  \n",
       "3       Tables  957.5775         5 -383.0310  \n",
       "4      Storage   22.3680         2    2.5164  "
      ]
     },
     "execution_count": 14,
     "metadata": {},
     "output_type": "execute_result"
    }
   ],
   "source": [
    "# Mengakses data dengan category Furniture atau Office Supplies\n",
    "dataset.loc[dataset['category'].isin(['Furniture', 'Office Supplies'])].head()"
   ]
  },
  {
   "cell_type": "markdown",
   "metadata": {},
   "source": [
    "**Mengenal method isna dan notna**"
   ]
  },
  {
   "cell_type": "code",
   "execution_count": 15,
   "metadata": {
    "scrolled": true
   },
   "outputs": [
    {
     "data": {
      "text/html": [
       "<div>\n",
       "<style scoped>\n",
       "    .dataframe tbody tr th:only-of-type {\n",
       "        vertical-align: middle;\n",
       "    }\n",
       "\n",
       "    .dataframe tbody tr th {\n",
       "        vertical-align: top;\n",
       "    }\n",
       "\n",
       "    .dataframe thead th {\n",
       "        text-align: right;\n",
       "    }\n",
       "</style>\n",
       "<table border=\"1\" class=\"dataframe\">\n",
       "  <thead>\n",
       "    <tr style=\"text-align: right;\">\n",
       "      <th></th>\n",
       "      <th>order_id</th>\n",
       "      <th>order_date</th>\n",
       "      <th>customer_id</th>\n",
       "      <th>segment</th>\n",
       "      <th>category</th>\n",
       "      <th>sub_category</th>\n",
       "      <th>sales</th>\n",
       "      <th>quantity</th>\n",
       "      <th>profit</th>\n",
       "    </tr>\n",
       "  </thead>\n",
       "  <tbody>\n",
       "  </tbody>\n",
       "</table>\n",
       "</div>"
      ],
      "text/plain": [
       "Empty DataFrame\n",
       "Columns: [order_id, order_date, customer_id, segment, category, sub_category, sales, quantity, profit]\n",
       "Index: []"
      ]
     },
     "execution_count": 15,
     "metadata": {},
     "output_type": "execute_result"
    }
   ],
   "source": [
    "# Mengidentifikasi nilai kosong (missing value)\n",
    "# isna (is not available)\n",
    "dataset[dataset['sales'].isna()].head()"
   ]
  },
  {
   "cell_type": "markdown",
   "metadata": {},
   "source": [
    "Tidak ada _missing value_ pada dataset"
   ]
  },
  {
   "cell_type": "code",
   "execution_count": 4,
   "metadata": {
    "scrolled": true
   },
   "outputs": [
    {
     "data": {
      "text/html": [
       "<div>\n",
       "<style scoped>\n",
       "    .dataframe tbody tr th:only-of-type {\n",
       "        vertical-align: middle;\n",
       "    }\n",
       "\n",
       "    .dataframe tbody tr th {\n",
       "        vertical-align: top;\n",
       "    }\n",
       "\n",
       "    .dataframe thead th {\n",
       "        text-align: right;\n",
       "    }\n",
       "</style>\n",
       "<table border=\"1\" class=\"dataframe\">\n",
       "  <thead>\n",
       "    <tr style=\"text-align: right;\">\n",
       "      <th></th>\n",
       "      <th>order_id</th>\n",
       "      <th>order_date</th>\n",
       "      <th>customer_id</th>\n",
       "      <th>segment</th>\n",
       "      <th>category</th>\n",
       "      <th>sub_category</th>\n",
       "      <th>sales</th>\n",
       "      <th>quantity</th>\n",
       "      <th>profit</th>\n",
       "    </tr>\n",
       "  </thead>\n",
       "  <tbody>\n",
       "    <tr>\n",
       "      <td>0</td>\n",
       "      <td>CA-2016-152156</td>\n",
       "      <td>11/8/2016</td>\n",
       "      <td>CG-12520</td>\n",
       "      <td>Consumer</td>\n",
       "      <td>Furniture</td>\n",
       "      <td>Bookcases</td>\n",
       "      <td>261.9600</td>\n",
       "      <td>2</td>\n",
       "      <td>41.9136</td>\n",
       "    </tr>\n",
       "    <tr>\n",
       "      <td>1</td>\n",
       "      <td>CA-2016-152156</td>\n",
       "      <td>11/8/2016</td>\n",
       "      <td>CG-12520</td>\n",
       "      <td>Consumer</td>\n",
       "      <td>Furniture</td>\n",
       "      <td>Chairs</td>\n",
       "      <td>731.9400</td>\n",
       "      <td>3</td>\n",
       "      <td>219.5820</td>\n",
       "    </tr>\n",
       "    <tr>\n",
       "      <td>2</td>\n",
       "      <td>CA-2016-138688</td>\n",
       "      <td>6/12/2016</td>\n",
       "      <td>DV-13045</td>\n",
       "      <td>Corporate</td>\n",
       "      <td>Office Supplies</td>\n",
       "      <td>Labels</td>\n",
       "      <td>14.6200</td>\n",
       "      <td>2</td>\n",
       "      <td>6.8714</td>\n",
       "    </tr>\n",
       "    <tr>\n",
       "      <td>3</td>\n",
       "      <td>US-2015-108966</td>\n",
       "      <td>10/11/2015</td>\n",
       "      <td>SO-20335</td>\n",
       "      <td>Consumer</td>\n",
       "      <td>Furniture</td>\n",
       "      <td>Tables</td>\n",
       "      <td>957.5775</td>\n",
       "      <td>5</td>\n",
       "      <td>-383.0310</td>\n",
       "    </tr>\n",
       "    <tr>\n",
       "      <td>4</td>\n",
       "      <td>US-2015-108966</td>\n",
       "      <td>10/11/2015</td>\n",
       "      <td>SO-20335</td>\n",
       "      <td>Consumer</td>\n",
       "      <td>Office Supplies</td>\n",
       "      <td>Storage</td>\n",
       "      <td>22.3680</td>\n",
       "      <td>2</td>\n",
       "      <td>2.5164</td>\n",
       "    </tr>\n",
       "  </tbody>\n",
       "</table>\n",
       "</div>"
      ],
      "text/plain": [
       "         order_id  order_date customer_id    segment         category  \\\n",
       "0  CA-2016-152156   11/8/2016    CG-12520   Consumer        Furniture   \n",
       "1  CA-2016-152156   11/8/2016    CG-12520   Consumer        Furniture   \n",
       "2  CA-2016-138688   6/12/2016    DV-13045  Corporate  Office Supplies   \n",
       "3  US-2015-108966  10/11/2015    SO-20335   Consumer        Furniture   \n",
       "4  US-2015-108966  10/11/2015    SO-20335   Consumer  Office Supplies   \n",
       "\n",
       "  sub_category     sales  quantity    profit  \n",
       "0    Bookcases  261.9600         2   41.9136  \n",
       "1       Chairs  731.9400         3  219.5820  \n",
       "2       Labels   14.6200         2    6.8714  \n",
       "3       Tables  957.5775         5 -383.0310  \n",
       "4      Storage   22.3680         2    2.5164  "
      ]
     },
     "execution_count": 4,
     "metadata": {},
     "output_type": "execute_result"
    }
   ],
   "source": [
    "# Mengakses semua data yang kolom salesnya tidak kosong\n",
    "dataset[dataset['sales'].notna()].head()"
   ]
  },
  {
   "cell_type": "markdown",
   "metadata": {},
   "source": [
    "### J. Menambah kolom baru pada DataFrame"
   ]
  },
  {
   "cell_type": "markdown",
   "metadata": {},
   "source": [
    "* Mendata seluruh kolom yang tersedia dengan attribute columns"
   ]
  },
  {
   "cell_type": "code",
   "execution_count": 16,
   "metadata": {},
   "outputs": [
    {
     "data": {
      "text/plain": [
       "Index(['order_id', 'order_date', 'customer_id', 'segment', 'category',\n",
       "       'sub_category', 'sales', 'quantity', 'profit'],\n",
       "      dtype='object')"
      ]
     },
     "execution_count": 16,
     "metadata": {},
     "output_type": "execute_result"
    }
   ],
   "source": [
    "# Mengakses daftar nama kolom\n",
    "dataset.columns "
   ]
  },
  {
   "cell_type": "markdown",
   "metadata": {},
   "source": [
    "* Menambah kolom baru dengan nama rating dan diberi nilai satisfied"
   ]
  },
  {
   "cell_type": "code",
   "execution_count": 17,
   "metadata": {},
   "outputs": [
    {
     "data": {
      "text/plain": [
       "0    satisfied\n",
       "1    satisfied\n",
       "2    satisfied\n",
       "3    satisfied\n",
       "4    satisfied\n",
       "5    satisfied\n",
       "6    satisfied\n",
       "7    satisfied\n",
       "8    satisfied\n",
       "9    satisfied\n",
       "Name: rating, dtype: object"
      ]
     },
     "execution_count": 17,
     "metadata": {},
     "output_type": "execute_result"
    }
   ],
   "source": [
    "dataset['rating'] = 'satisfied'\n",
    "dataset['rating'].head(10)"
   ]
  },
  {
   "cell_type": "code",
   "execution_count": 18,
   "metadata": {},
   "outputs": [
    {
     "data": {
      "text/plain": [
       "Index(['order_id', 'order_date', 'customer_id', 'segment', 'category',\n",
       "       'sub_category', 'sales', 'quantity', 'profit', 'rating'],\n",
       "      dtype='object')"
      ]
     },
     "execution_count": 18,
     "metadata": {},
     "output_type": "execute_result"
    }
   ],
   "source": [
    "dataset.columns"
   ]
  },
  {
   "cell_type": "markdown",
   "metadata": {},
   "source": [
    "* Menambah kolom baru dengan index_backwards dan diberi nilai bilangan bulat dari besar ke kecil sesuai dengan banyaknya jumlah baris"
   ]
  },
  {
   "cell_type": "code",
   "execution_count": 19,
   "metadata": {},
   "outputs": [
    {
     "data": {
      "text/plain": [
       "0    9988\n",
       "1    9987\n",
       "2    9986\n",
       "3    9985\n",
       "4    9984\n",
       "Name: index_backwards, dtype: int32"
      ]
     },
     "execution_count": 19,
     "metadata": {},
     "output_type": "execute_result"
    }
   ],
   "source": [
    "dataset['index_backwards'] = range(len(dataset), 0, -1)\n",
    "dataset['index_backwards'].head()"
   ]
  },
  {
   "cell_type": "markdown",
   "metadata": {},
   "source": [
    "### K. Menghasilkan ringkasan (summary) data pada DataFrame"
   ]
  },
  {
   "cell_type": "markdown",
   "metadata": {},
   "source": [
    "**Mengenal method describe, mean, unique, value_counts**"
   ]
  },
  {
   "cell_type": "code",
   "execution_count": 20,
   "metadata": {},
   "outputs": [
    {
     "data": {
      "text/html": [
       "<div>\n",
       "<style scoped>\n",
       "    .dataframe tbody tr th:only-of-type {\n",
       "        vertical-align: middle;\n",
       "    }\n",
       "\n",
       "    .dataframe tbody tr th {\n",
       "        vertical-align: top;\n",
       "    }\n",
       "\n",
       "    .dataframe thead th {\n",
       "        text-align: right;\n",
       "    }\n",
       "</style>\n",
       "<table border=\"1\" class=\"dataframe\">\n",
       "  <thead>\n",
       "    <tr style=\"text-align: right;\">\n",
       "      <th></th>\n",
       "      <th>sales</th>\n",
       "      <th>quantity</th>\n",
       "      <th>profit</th>\n",
       "      <th>index_backwards</th>\n",
       "    </tr>\n",
       "  </thead>\n",
       "  <tbody>\n",
       "    <tr>\n",
       "      <td>count</td>\n",
       "      <td>9988.000000</td>\n",
       "      <td>9988.000000</td>\n",
       "      <td>9988.000000</td>\n",
       "      <td>9988.000000</td>\n",
       "    </tr>\n",
       "    <tr>\n",
       "      <td>mean</td>\n",
       "      <td>221.952598</td>\n",
       "      <td>3.789147</td>\n",
       "      <td>27.105341</td>\n",
       "      <td>4994.500000</td>\n",
       "    </tr>\n",
       "    <tr>\n",
       "      <td>std</td>\n",
       "      <td>514.818043</td>\n",
       "      <td>2.225586</td>\n",
       "      <td>186.115016</td>\n",
       "      <td>2883.431578</td>\n",
       "    </tr>\n",
       "    <tr>\n",
       "      <td>min</td>\n",
       "      <td>0.444000</td>\n",
       "      <td>1.000000</td>\n",
       "      <td>-3839.990400</td>\n",
       "      <td>1.000000</td>\n",
       "    </tr>\n",
       "    <tr>\n",
       "      <td>25%</td>\n",
       "      <td>17.248000</td>\n",
       "      <td>2.000000</td>\n",
       "      <td>1.730250</td>\n",
       "      <td>2497.750000</td>\n",
       "    </tr>\n",
       "    <tr>\n",
       "      <td>50%</td>\n",
       "      <td>54.376000</td>\n",
       "      <td>3.000000</td>\n",
       "      <td>8.652800</td>\n",
       "      <td>4994.500000</td>\n",
       "    </tr>\n",
       "    <tr>\n",
       "      <td>75%</td>\n",
       "      <td>209.814000</td>\n",
       "      <td>5.000000</td>\n",
       "      <td>29.345400</td>\n",
       "      <td>7491.250000</td>\n",
       "    </tr>\n",
       "    <tr>\n",
       "      <td>max</td>\n",
       "      <td>9892.740000</td>\n",
       "      <td>14.000000</td>\n",
       "      <td>4946.370000</td>\n",
       "      <td>9988.000000</td>\n",
       "    </tr>\n",
       "  </tbody>\n",
       "</table>\n",
       "</div>"
      ],
      "text/plain": [
       "             sales     quantity       profit  index_backwards\n",
       "count  9988.000000  9988.000000  9988.000000      9988.000000\n",
       "mean    221.952598     3.789147    27.105341      4994.500000\n",
       "std     514.818043     2.225586   186.115016      2883.431578\n",
       "min       0.444000     1.000000 -3839.990400         1.000000\n",
       "25%      17.248000     2.000000     1.730250      2497.750000\n",
       "50%      54.376000     3.000000     8.652800      4994.500000\n",
       "75%     209.814000     5.000000    29.345400      7491.250000\n",
       "max    9892.740000    14.000000  4946.370000      9988.000000"
      ]
     },
     "execution_count": 20,
     "metadata": {},
     "output_type": "execute_result"
    }
   ],
   "source": [
    "dataset.describe()\n",
    "# mengembalikan sebuah data statistik deskriptif untuk setiap kolom yang bertipe data numerik\n",
    "# count jumlah baris, mean rata-rata, std standar deviasi, min nilai terkecil, max nilai terbesar, 25% quartil pertama, 50% kedua, 75% ketiga"
   ]
  },
  {
   "cell_type": "code",
   "execution_count": 28,
   "metadata": {},
   "outputs": [
    {
     "data": {
      "text/plain": [
       "count    9988.000000\n",
       "mean      221.952598\n",
       "std       514.818043\n",
       "min         0.444000\n",
       "25%        17.248000\n",
       "50%        54.376000\n",
       "75%       209.814000\n",
       "max      9892.740000\n",
       "Name: sales, dtype: float64"
      ]
     },
     "execution_count": 28,
     "metadata": {},
     "output_type": "execute_result"
    }
   ],
   "source": [
    "# mengakses data deskriptif untuk kolom sales\n",
    "dataset['sales'].describe()"
   ]
  },
  {
   "cell_type": "code",
   "execution_count": 29,
   "metadata": {},
   "outputs": [
    {
     "data": {
      "text/plain": [
       "221.9525978474123"
      ]
     },
     "execution_count": 29,
     "metadata": {},
     "output_type": "execute_result"
    }
   ],
   "source": [
    "# mencari rata-rata untuk kolom sales\n",
    "dataset['sales'].mean()"
   ]
  },
  {
   "cell_type": "code",
   "execution_count": 30,
   "metadata": {},
   "outputs": [
    {
     "data": {
      "text/plain": [
       "count         9988\n",
       "unique         793\n",
       "top       WB-21850\n",
       "freq            37\n",
       "Name: customer_id, dtype: object"
      ]
     },
     "execution_count": 30,
     "metadata": {},
     "output_type": "execute_result"
    }
   ],
   "source": [
    "# method describe untuk kolom yang bertipe data non-numerik\n",
    "dataset['customer_id'].describe()\n",
    "# count jumlah baris, unique jumlah customer_id yg unique atau tidak terdapat duplikasi, top yang paling sering muncul"
   ]
  },
  {
   "cell_type": "code",
   "execution_count": 31,
   "metadata": {},
   "outputs": [
    {
     "data": {
      "text/plain": [
       "array(['CG-12520', 'DV-13045', 'SO-20335', 'BH-11710', 'AA-10480',\n",
       "       'IM-15070', 'HP-14815', 'PK-19075', 'AG-10270', 'ZD-21925',\n",
       "       'KB-16585', 'SF-20065', 'EB-13870', 'EH-13945', 'TB-21520',\n",
       "       'MA-17560', 'GH-14485', 'SN-20710', 'LC-16930', 'RA-19885',\n",
       "       'ES-14080', 'ON-18715', 'PO-18865', 'LH-16900', 'DP-13000',\n",
       "       'JM-15265', 'TB-21055', 'KM-16720', 'PS-18970', 'BS-11590',\n",
       "       'KD-16270', 'HM-14980', 'JE-15745', 'KB-16600', 'SC-20770',\n",
       "       'DN-13690', 'JC-16105', 'CS-12400', 'PG-18895', 'GM-14455',\n",
       "       'JS-15685', 'KB-16315', 'RB-19705', 'PN-18775', 'KD-16345',\n",
       "       'ER-13855', 'RB-19465', 'GZ-14470', 'LC-16870', 'JM-15250',\n",
       "       'PA-19060', 'CV-12805', 'CL-12565', 'RC-19960', 'DK-13090',\n",
       "       'GG-14650', 'SC-20725', 'AD-10180', 'PF-19165', 'TS-21610',\n",
       "       'LS-16975', 'DW-13585', 'LC-16885', 'JD-15895', 'SH-19975',\n",
       "       'SG-20080', 'HA-14920', 'MG-17680', 'JE-16165', 'TW-21025',\n",
       "       'SP-20650', 'NK-18490', 'DB-13060', 'NP-18670', 'TT-21070',\n",
       "       'EM-13960', 'RD-19900', 'MJ-17740', 'BM-11140', 'CS-12130',\n",
       "       'JB-15400', 'SJ-20500', 'JK-15640', 'DK-13150', 'RM-19675',\n",
       "       'SK-19990', 'FM-14290', 'AM-10360', 'MP-17470', 'MZ-17515',\n",
       "       'CB-12025', 'VM-21685', 'FH-14365', 'MB-17305', 'BS-11755',\n",
       "       'LC-17140', 'HK-14890', 'LE-16810', 'JH-15985', 'MS-17980',\n",
       "       'VW-21775', 'JH-15910', 'JB-15925', 'DS-13180', 'VD-21670',\n",
       "       'EA-14035', 'DB-13120', 'KL-16645', 'DW-13480', 'LH-17155',\n",
       "       'KC-16540', 'DL-13315', 'DR-12880', 'CC-12670', 'Dl-13600',\n",
       "       'SB-20290', 'RC-19825', 'AH-10210', 'CB-12535', 'CA-12310',\n",
       "       'KH-16690', 'BB-10990', 'AG-10495', 'JO-15280', 'AH-10195',\n",
       "       'NZ-18565', 'KL-16555', 'AS-10225', 'CR-12625', 'SH-20395',\n",
       "       'BP-11185', 'TS-21205', 'AG-10525', 'SP-20860', 'NM-18445',\n",
       "       'FA-14230', 'GK-14620', 'DJ-13510', 'PO-18850', 'JL-15850',\n",
       "       'DB-13615', 'AC-10420', 'CC-12550', 'TD-20995', 'AB-10060',\n",
       "       'JL-15505', 'VB-21745', 'KW-16435', 'JD-16060', 'MK-17905',\n",
       "       'GT-14755', 'AG-10900', 'MM-18280', 'AR-10405', 'RA-19915',\n",
       "       'AS-10285', 'LA-16780', 'DO-13435', 'DK-13225', 'NG-18430',\n",
       "       'MV-18190', 'JG-15115', 'BP-11095', 'VP-21730', 'SS-20140',\n",
       "       'AG-10675', 'LF-17185', 'RF-19840', 'KH-16510', 'KC-16675',\n",
       "       'CJ-12010', 'PB-19150', 'MP-17965', 'NF-18385', 'SD-20485',\n",
       "       'KH-16630', 'RB-19795', 'MK-18160', 'PO-19180', 'BB-11545',\n",
       "       'TB-21595', 'RB-19360', 'EB-13705', 'SC-20095', 'TN-21040',\n",
       "       'JS-15940', 'MH-17785', 'JP-15520', 'JE-15475', 'JG-15805',\n",
       "       'XP-21865', 'EM-14065', 'MT-18070', 'SA-20830', 'CW-11905',\n",
       "       'AJ-10960', 'SS-20590', 'RO-19780', 'MD-17350', 'MY-17380',\n",
       "       'CM-12385', 'LS-17245', 'BN-11515', 'DB-13210', 'MC-17605',\n",
       "       'BD-11605', 'PH-18790', 'MG-18145', 'KB-16240', 'JC-15340',\n",
       "       'RL-19615', 'AA-10375', 'EP-13915', 'DK-12985', 'BD-11500',\n",
       "       'LM-17065', 'AS-10135', 'BD-11320', 'GT-14710', 'AJ-10945',\n",
       "       'OT-18730', 'LP-17080', 'CA-12775', 'JF-15490', 'FP-14320',\n",
       "       'EB-13840', 'JF-15415', 'SF-20200', 'TG-21640', 'CS-11950',\n",
       "       'CC-12145', 'DV-13465', 'BD-11725', 'ZC-21910', 'MS-17830',\n",
       "       'LR-16915', 'TP-21130', 'CK-12205', 'AS-10240', 'AR-10510',\n",
       "       'NB-18655', 'GD-14590', 'CK-12595', 'NG-18355', 'CA-12265',\n",
       "       'SF-20965', 'MO-17800', 'AT-10735', 'FM-14380', 'DJ-13420',\n",
       "       'ME-17725', 'JD-16150', 'JL-15835', 'SC-20305', 'CC-12430',\n",
       "       'AR-10825', 'SR-20740', 'CR-12730', 'EH-14125', 'SP-20545',\n",
       "       'TH-21235', 'RP-19390', 'RB-19570', 'CD-11980', 'DJ-13630',\n",
       "       'GT-14635', 'MC-17845', 'RA-19285', 'NP-18325', 'AB-10165',\n",
       "       'JO-15550', 'JK-15370', 'BN-11470', 'DP-13165', 'TH-21550',\n",
       "       'AP-10915', 'RS-19765', 'SV-20365', 'CK-12325', 'RD-19810',\n",
       "       'MR-17545', 'SC-20695', 'JF-15355', 'EG-13900', 'DS-13030',\n",
       "       'PO-19195', 'SS-20875', 'PB-19105', 'RF-19735', 'YC-21895',\n",
       "       'DC-13285', 'CP-12340', 'BF-11020', 'LH-17020', 'CS-12250',\n",
       "       'AJ-10795', 'BV-11245', 'DL-12865', 'BM-11785', 'LT-17110',\n",
       "       'JK-15730', 'ES-14020', 'RH-19495', 'CD-11920', 'HW-14935',\n",
       "       'MC-18130', 'GM-14440', 'PJ-19015', 'BW-11110', 'TR-21325',\n",
       "       'PG-18820', 'JL-15175', 'BM-11650', 'EM-14095', 'AF-10885',\n",
       "       'GA-14725', 'CK-12760', 'DP-13105', 'BK-11260', 'SJ-20125',\n",
       "       'CM-12445', 'AJ-10780', 'LS-16945', 'GP-14740', 'PK-18910',\n",
       "       'SM-20005', 'AG-10765', 'PM-19135', 'LL-16840', 'JS-15595',\n",
       "       'EL-13735', 'PC-18745', 'HL-15040', 'MS-17365', 'GB-14530',\n",
       "       'JR-16210', 'BE-11335', 'SC-20050', 'RW-19630', 'SE-20110',\n",
       "       'AH-10075', 'JM-15535', 'JJ-15760', 'RK-19300', 'CG-12040',\n",
       "       'RP-19270', 'KC-16255', 'KH-16360', 'GH-14665', 'SW-20275',\n",
       "       'JA-15970', 'DL-12925', 'LW-16990', 'TB-21190', 'BS-11800',\n",
       "       'RW-19690', 'TZ-21580', 'AS-10630', 'TS-21340', 'SL-20155',\n",
       "       'MW-18235', 'RD-19585', 'RA-19945', 'MT-17815', 'VG-21790',\n",
       "       'JS-15880', 'KM-16225', 'HR-14770', 'DE-13255', 'AG-10390',\n",
       "       'JJ-15445', 'JH-15430', 'RD-19660', 'MO-17500', 'NS-18640',\n",
       "       'DG-13300', 'NF-18595', 'MG-17650', 'TS-21160', 'BD-11620',\n",
       "       'CM-12160', 'SN-20560', 'EH-14005', 'FO-14305', 'MS-17710',\n",
       "       'CC-12100', 'DW-13540', 'BT-11395', 'CY-12745', 'BT-11485',\n",
       "       'PS-19045', 'PV-18985', 'NM-18520', 'DL-13495', 'CS-12355',\n",
       "       'FH-14275', 'NC-18340', 'AA-10315', 'LT-16765', 'AP-10720',\n",
       "       'PM-18940', 'AT-10435', 'CA-12055', 'HR-14830', 'BT-11530',\n",
       "       'LH-16750', 'SW-20755', 'SP-20620', 'BF-11170', 'KT-16480',\n",
       "       'BG-11695', 'GM-14680', 'EJ-14155', 'NP-18700', 'MH-18115',\n",
       "       'JR-15700', 'SM-20950', 'CC-12220', 'PF-19225', 'DC-12850',\n",
       "       'BD-11770', 'GM-14500', 'TB-21355', 'JH-16180', 'EB-13975',\n",
       "       'QJ-19255', 'TC-21535', 'CS-12460', 'HG-14965', 'LW-16825',\n",
       "       'MC-17575', 'LP-17095', 'EB-14170', 'GZ-14545', 'CP-12085',\n",
       "       'FG-14260', 'LD-17005', 'AB-10255', 'MN-17935', 'JR-15670',\n",
       "       'JF-15190', 'CM-12115', 'AS-10045', 'BP-11290', 'ND-18370',\n",
       "       'LB-16735', 'KT-16465', 'HM-14860', 'AB-10600', 'SZ-20035',\n",
       "       'MG-17890', 'JK-16120', 'PP-18955', 'YS-21880', 'KM-16375',\n",
       "       'AB-10105', 'HA-14905', 'BT-11305', 'SV-20815', 'RW-19540',\n",
       "       'DK-12835', 'ST-20530', 'MM-17920', 'PW-19030', 'SC-20440',\n",
       "       'TS-21085', 'MC-17425', 'ME-17320', 'NH-18610', 'MB-18085',\n",
       "       'KD-16495', 'KN-16390', 'NP-18685', 'CS-12505', 'MS-17770',\n",
       "       'CM-12655', 'Co-12640', 'TS-21370', 'JW-15220', 'JD-15790',\n",
       "       'PC-19000', 'AR-10540', 'AI-10855', 'TB-21400', 'PL-18925',\n",
       "       'GH-14425', 'MP-18175', 'JM-15655', 'CL-11890', 'DB-13270',\n",
       "       'IG-15085', 'BO-11425', 'AB-10150', 'JW-16075', 'EB-13750',\n",
       "       'SG-20470', 'CM-12190', 'AW-10840', 'MC-18100', 'TT-21460',\n",
       "       'VG-21805', 'MY-18295', 'RD-19480', 'DP-13390', 'ML-17395',\n",
       "       'JC-15385', 'JG-15160', 'MC-17275', 'NW-18400', 'TB-21280',\n",
       "       'BS-11380', 'HH-15010', 'CD-12280', 'TH-21100', 'MM-18055',\n",
       "       'NS-18505', 'RB-19645', 'SW-20455', 'EB-13930', 'PS-18760',\n",
       "       'HF-14995', 'HZ-14950', 'CD-12790', 'JK-15205', 'FM-14215',\n",
       "       'ED-13885', 'DA-13450', 'JW-15955', 'RM-19375', 'ML-17755',\n",
       "       'CC-12685', 'JE-15610', 'RP-19855', 'TB-21175', 'BE-11455',\n",
       "       'JF-15565', 'PB-19210', 'BT-11680', 'JL-15235', 'CH-12070',\n",
       "       'ND-18460', 'BF-10975', 'KH-16330', 'GW-14605', 'NC-18625',\n",
       "       'ME-18010', 'BP-11230', 'JC-15775', 'AS-10090', 'AC-10450',\n",
       "       'MD-17860', 'DB-13660', 'EH-13990', 'EH-13765', 'SC-20230',\n",
       "       'JE-15715', 'AC-10615', 'JD-16015', 'CB-12415', 'JS-16030',\n",
       "       'LW-17215', 'SC-20800', 'AM-10705', 'RH-19510', 'CT-11995',\n",
       "       'MC-17590', 'CC-12610', 'KA-16525', 'TC-20980', 'BF-11080',\n",
       "       'MM-17260', 'AH-10120', 'BW-11200', 'SW-20245', 'BS-11665',\n",
       "       'RF-19345', 'WB-21850', 'TB-21625', 'AF-10870', 'RB-19435',\n",
       "       'KF-16285', 'JH-15820', 'IL-15100', 'PB-18805', 'RH-19600',\n",
       "       'AW-10930', 'ML-17410', 'DB-13555', 'MH-17620', 'DK-13375',\n",
       "       'BT-11440', 'DB-13405', 'TG-21310', 'BF-11005', 'JM-16195',\n",
       "       'MZ-17335', 'MW-18220', 'MV-17485', 'SM-20320', 'TP-21415',\n",
       "       'JK-15625', 'PJ-18835', 'RS-19420', 'SV-20935', 'BC-11125',\n",
       "       'EM-13825', 'BM-11575', 'KN-16705', 'KW-16570', 'SC-20260',\n",
       "       'CV-12295', 'SG-20605', 'TM-21010', 'EM-13810', 'ML-18040',\n",
       "       'CR-12580', 'AZ-10750', 'PW-19240', 'SC-20380', 'CM-11935',\n",
       "       'GM-14695', 'TB-21250', 'JM-15865', 'SC-20575', 'LS-17200',\n",
       "       'RR-19315', 'DB-12910', 'TT-21220', 'LO-17170', 'KD-16615',\n",
       "       'NB-18580', 'BD-11635', 'CM-12235', 'EN-13780', 'KN-16450',\n",
       "       'BO-11350', 'AG-10300', 'MC-17635', 'TA-21385', 'JF-15295',\n",
       "       'TT-21265', 'SB-20170', 'CL-12700', 'HG-15025', 'NL-18310',\n",
       "       'RR-19525', 'TC-21295', 'SV-20785', 'BE-11410', 'SC-20680',\n",
       "       'DF-13135', 'FH-14350', 'MS-17530', 'RH-19555', 'GA-14515',\n",
       "       'JP-16135', 'Dp-13240', 'MO-17950', 'DL-13330', 'MH-18025',\n",
       "       'DR-12940', 'DM-13015', 'CA-11965', 'AC-10660', 'DM-13345',\n",
       "       'VF-21715', 'CC-12370', 'BF-11275', 'HG-14845', 'BP-11155',\n",
       "       'EM-14140', 'MA-17995', 'AY-10555', 'GB-14575', 'JB-16045',\n",
       "       'MG-17875', 'SR-20425', 'JB-16000', 'DM-12955', 'TC-21475',\n",
       "       'SW-20350', 'RE-19450', 'BF-11215', 'KB-16405', 'JG-15310',\n",
       "       'EC-14050', 'EB-14110', 'JP-15460', 'CS-11845', 'GH-14410',\n",
       "       'PT-19090', 'JL-15130', 'AH-10030', 'CC-12475', 'DW-13195',\n",
       "       'SJ-20215', 'BG-11740', 'LB-16795', 'CM-11815', 'EH-14185',\n",
       "       'TS-21505', 'PR-18880', 'LC-17050', 'CS-12490', 'DH-13075',\n",
       "       'JO-15145', 'AH-10690', 'HJ-14875', 'MH-17455', 'RD-19930',\n",
       "       'SC-20020', 'SU-20665', 'FC-14335', 'RB-19330', 'NC-18535',\n",
       "       'DB-12970', 'MF-17665', 'RM-19750', 'VM-21835', 'EJ-13720',\n",
       "       'NC-18415', 'LS-17230', 'KE-16420', 'DH-13675', 'PF-19120',\n",
       "       'VT-21700', 'MG-17695', 'SP-20920', 'CS-12175', 'DK-12895',\n",
       "       'KM-16660', 'AA-10645', 'DD-13570', 'AH-10465', 'TP-21565',\n",
       "       'EK-13795', 'CR-12820', 'SG-20890', 'AH-10585', 'NF-18475',\n",
       "       'BS-11365', 'SH-20635', 'RD-19720', 'AG-10330', 'GR-14560',\n",
       "       'VS-21820', 'TM-21490', 'TS-21430', 'DB-13360', 'NR-18550',\n",
       "       'CS-11860', 'MF-18250', 'LW-17125', 'AR-10345', 'KS-16300',\n",
       "       'AB-10015', 'LR-17035', 'SS-20410', 'JM-15580', 'JK-15325',\n",
       "       'DM-13525', 'ML-18265', 'MH-17290', 'FC-14245', 'TH-21115',\n",
       "       'JK-16090', 'SB-20185', 'BG-11035', 'BW-11065', 'MG-18205',\n",
       "       'DO-13645', 'BP-11050', 'TS-21655', 'EM-14200', 'AO-10810',\n",
       "       'MH-17440', 'SS-20515', 'LD-16855', 'VP-21760', 'TC-21145',\n",
       "       'IM-15055', 'AR-10570', 'CM-12715', 'FW-14395', 'LC-16960',\n",
       "       'HE-14800', 'BD-11560', 'HD-14785', 'CJ-11875', 'RS-19870',\n",
       "       'SC-20845', 'RE-19405', 'SM-20905'], dtype=object)"
      ]
     },
     "execution_count": 31,
     "metadata": {},
     "output_type": "execute_result"
    }
   ],
   "source": [
    "dataset['customer_id'].unique()"
   ]
  },
  {
   "cell_type": "code",
   "execution_count": 32,
   "metadata": {},
   "outputs": [
    {
     "data": {
      "text/plain": [
       "WB-21850    37\n",
       "PP-18955    34\n",
       "MA-17560    34\n",
       "JL-15835    34\n",
       "CK-12205    32\n",
       "Name: customer_id, dtype: int64"
      ]
     },
     "execution_count": 32,
     "metadata": {},
     "output_type": "execute_result"
    }
   ],
   "source": [
    "# mengetahui jumlah kemunculan nama untuk setiap namanya\n",
    "dataset['customer_id'].value_counts().head()"
   ]
  },
  {
   "cell_type": "markdown",
   "metadata": {},
   "source": [
    "### L. Mengenal Mapping"
   ]
  },
  {
   "cell_type": "markdown",
   "metadata": {},
   "source": [
    "Terdapat dua mekanisme mapping pada DataFrame, yaitu: dengan memanfaatkan method **map** dan method **apply**."
   ]
  },
  {
   "cell_type": "markdown",
   "metadata": {},
   "source": [
    "* **Mengenal method map**"
   ]
  },
  {
   "cell_type": "markdown",
   "metadata": {},
   "source": [
    "Diterapkan di tingkat Series artinya diterapkan pada satu kolom saja"
   ]
  },
  {
   "cell_type": "code",
   "execution_count": 33,
   "metadata": {},
   "outputs": [
    {
     "data": {
      "text/plain": [
       "0        40.007402\n",
       "1       509.987402\n",
       "2      -207.332598\n",
       "3       735.624902\n",
       "4      -199.584598\n",
       "           ...    \n",
       "9983   -196.704598\n",
       "9984   -129.992598\n",
       "9985     36.623402\n",
       "9986   -192.352598\n",
       "9987     21.207402\n",
       "Name: sales, Length: 9988, dtype: float64"
      ]
     },
     "execution_count": 33,
     "metadata": {},
     "output_type": "execute_result"
    }
   ],
   "source": [
    "sales_mean = dataset['sales'].mean()\n",
    "dataset['sales'].map(lambda p: p - sales_mean)"
   ]
  },
  {
   "cell_type": "markdown",
   "metadata": {},
   "source": [
    "* **Mengenal method apply**"
   ]
  },
  {
   "cell_type": "markdown",
   "metadata": {},
   "source": [
    "Diterapkan di tingkat DataFrame"
   ]
  },
  {
   "cell_type": "code",
   "execution_count": 34,
   "metadata": {},
   "outputs": [
    {
     "data": {
      "text/html": [
       "<div>\n",
       "<style scoped>\n",
       "    .dataframe tbody tr th:only-of-type {\n",
       "        vertical-align: middle;\n",
       "    }\n",
       "\n",
       "    .dataframe tbody tr th {\n",
       "        vertical-align: top;\n",
       "    }\n",
       "\n",
       "    .dataframe thead th {\n",
       "        text-align: right;\n",
       "    }\n",
       "</style>\n",
       "<table border=\"1\" class=\"dataframe\">\n",
       "  <thead>\n",
       "    <tr style=\"text-align: right;\">\n",
       "      <th></th>\n",
       "      <th>order_id</th>\n",
       "      <th>order_date</th>\n",
       "      <th>customer_id</th>\n",
       "      <th>segment</th>\n",
       "      <th>category</th>\n",
       "      <th>sub_category</th>\n",
       "      <th>sales</th>\n",
       "      <th>quantity</th>\n",
       "      <th>profit</th>\n",
       "      <th>rating</th>\n",
       "      <th>index_backwards</th>\n",
       "    </tr>\n",
       "  </thead>\n",
       "  <tbody>\n",
       "    <tr>\n",
       "      <td>0</td>\n",
       "      <td>CA-2016-152156</td>\n",
       "      <td>11/8/2016</td>\n",
       "      <td>CG-12520</td>\n",
       "      <td>Consumer</td>\n",
       "      <td>Furniture</td>\n",
       "      <td>Bookcases</td>\n",
       "      <td>40.007402</td>\n",
       "      <td>2</td>\n",
       "      <td>41.9136</td>\n",
       "      <td>satisfied</td>\n",
       "      <td>9988</td>\n",
       "    </tr>\n",
       "    <tr>\n",
       "      <td>1</td>\n",
       "      <td>CA-2016-152156</td>\n",
       "      <td>11/8/2016</td>\n",
       "      <td>CG-12520</td>\n",
       "      <td>Consumer</td>\n",
       "      <td>Furniture</td>\n",
       "      <td>Chairs</td>\n",
       "      <td>509.987402</td>\n",
       "      <td>3</td>\n",
       "      <td>219.5820</td>\n",
       "      <td>satisfied</td>\n",
       "      <td>9987</td>\n",
       "    </tr>\n",
       "    <tr>\n",
       "      <td>2</td>\n",
       "      <td>CA-2016-138688</td>\n",
       "      <td>6/12/2016</td>\n",
       "      <td>DV-13045</td>\n",
       "      <td>Corporate</td>\n",
       "      <td>Office Supplies</td>\n",
       "      <td>Labels</td>\n",
       "      <td>-207.332598</td>\n",
       "      <td>2</td>\n",
       "      <td>6.8714</td>\n",
       "      <td>satisfied</td>\n",
       "      <td>9986</td>\n",
       "    </tr>\n",
       "    <tr>\n",
       "      <td>3</td>\n",
       "      <td>US-2015-108966</td>\n",
       "      <td>10/11/2015</td>\n",
       "      <td>SO-20335</td>\n",
       "      <td>Consumer</td>\n",
       "      <td>Furniture</td>\n",
       "      <td>Tables</td>\n",
       "      <td>735.624902</td>\n",
       "      <td>5</td>\n",
       "      <td>-383.0310</td>\n",
       "      <td>satisfied</td>\n",
       "      <td>9985</td>\n",
       "    </tr>\n",
       "    <tr>\n",
       "      <td>4</td>\n",
       "      <td>US-2015-108966</td>\n",
       "      <td>10/11/2015</td>\n",
       "      <td>SO-20335</td>\n",
       "      <td>Consumer</td>\n",
       "      <td>Office Supplies</td>\n",
       "      <td>Storage</td>\n",
       "      <td>-199.584598</td>\n",
       "      <td>2</td>\n",
       "      <td>2.5164</td>\n",
       "      <td>satisfied</td>\n",
       "      <td>9984</td>\n",
       "    </tr>\n",
       "  </tbody>\n",
       "</table>\n",
       "</div>"
      ],
      "text/plain": [
       "         order_id  order_date customer_id    segment         category  \\\n",
       "0  CA-2016-152156   11/8/2016    CG-12520   Consumer        Furniture   \n",
       "1  CA-2016-152156   11/8/2016    CG-12520   Consumer        Furniture   \n",
       "2  CA-2016-138688   6/12/2016    DV-13045  Corporate  Office Supplies   \n",
       "3  US-2015-108966  10/11/2015    SO-20335   Consumer        Furniture   \n",
       "4  US-2015-108966  10/11/2015    SO-20335   Consumer  Office Supplies   \n",
       "\n",
       "  sub_category       sales  quantity    profit     rating  index_backwards  \n",
       "0    Bookcases   40.007402         2   41.9136  satisfied             9988  \n",
       "1       Chairs  509.987402         3  219.5820  satisfied             9987  \n",
       "2       Labels -207.332598         2    6.8714  satisfied             9986  \n",
       "3       Tables  735.624902         5 -383.0310  satisfied             9985  \n",
       "4      Storage -199.584598         2    2.5164  satisfied             9984  "
      ]
     },
     "execution_count": 34,
     "metadata": {},
     "output_type": "execute_result"
    }
   ],
   "source": [
    "sales_mean = dataset['sales'].mean()\n",
    "\n",
    "def remean_sales(row):\n",
    "    row['sales'] = row['sales'] - sales_mean\n",
    "    return row\n",
    "\n",
    "dataset.apply(remean_sales, axis = 'columns').head()"
   ]
  },
  {
   "cell_type": "markdown",
   "metadata": {},
   "source": [
    "### Alternatif lain dengan built-in operations"
   ]
  },
  {
   "cell_type": "markdown",
   "metadata": {},
   "source": [
    "Mekanisme ini lebih cepat dan efisien (bila dibandingkan map dan apply) tetapi tidak bisa menangani pemrosesan yang kompleks."
   ]
  },
  {
   "cell_type": "code",
   "execution_count": 35,
   "metadata": {},
   "outputs": [
    {
     "data": {
      "text/plain": [
       "0        40.007402\n",
       "1       509.987402\n",
       "2      -207.332598\n",
       "3       735.624902\n",
       "4      -199.584598\n",
       "           ...    \n",
       "9983   -196.704598\n",
       "9984   -129.992598\n",
       "9985     36.623402\n",
       "9986   -192.352598\n",
       "9987     21.207402\n",
       "Name: sales, Length: 9988, dtype: float64"
      ]
     },
     "execution_count": 35,
     "metadata": {},
     "output_type": "execute_result"
    }
   ],
   "source": [
    "sales_mean = dataset['sales'].mean()\n",
    "dataset['sales'] - sales_mean"
   ]
  },
  {
   "cell_type": "code",
   "execution_count": 36,
   "metadata": {},
   "outputs": [
    {
     "data": {
      "text/plain": [
       "0              Furniture - Bookcases\n",
       "1                 Furniture - Chairs\n",
       "2           Office Supplies - Labels\n",
       "3                 Furniture - Tables\n",
       "4          Office Supplies - Storage\n",
       "                    ...             \n",
       "9983         Furniture - Furnishings\n",
       "9984         Furniture - Furnishings\n",
       "9985             Technology - Phones\n",
       "9986         Office Supplies - Paper\n",
       "9987    Office Supplies - Appliances\n",
       "Length: 9988, dtype: object"
      ]
     },
     "execution_count": 36,
     "metadata": {},
     "output_type": "execute_result"
    }
   ],
   "source": [
    "dataset['category'] + ' - ' + dataset['sub_category']"
   ]
  },
  {
   "cell_type": "markdown",
   "metadata": {},
   "source": [
    "**Kasus: Mencari customer_id dengan proporsi quantity/sales tertinggi dengan memanfaatkan method idmax**"
   ]
  },
  {
   "cell_type": "code",
   "execution_count": 37,
   "metadata": {},
   "outputs": [
    {
     "data": {
      "text/plain": [
       "'LO-17170'"
      ]
     },
     "execution_count": 37,
     "metadata": {},
     "output_type": "execute_result"
    }
   ],
   "source": [
    "# artinya mencari perbandingan proporsi quantity terhadap sales kemudian mencari nilai terbesar namun kita ingin tahu id dari nilai terbesar tersebut\n",
    "dataset.loc[(dataset['quantity']/dataset['sales']).idxmax(), 'customer_id']"
   ]
  },
  {
   "cell_type": "code",
   "execution_count": 38,
   "metadata": {},
   "outputs": [
    {
     "data": {
      "text/plain": [
       "'LO-17170'"
      ]
     },
     "execution_count": 38,
     "metadata": {},
     "output_type": "execute_result"
    }
   ],
   "source": [
    "dataset['customer_id'][(dataset['quantity']/dataset['sales']).idxmax()]"
   ]
  },
  {
   "cell_type": "markdown",
   "metadata": {},
   "source": [
    "**Kasus: Mencari jumlah dari category furniture dan technology. Siapkan series untuk menampung jumlah dari kedua data**"
   ]
  },
  {
   "cell_type": "code",
   "execution_count": 39,
   "metadata": {
    "scrolled": true
   },
   "outputs": [
    {
     "data": {
      "text/plain": [
       "furniture     2121\n",
       "technology    1841\n",
       "dtype: int64"
      ]
     },
     "execution_count": 39,
     "metadata": {},
     "output_type": "execute_result"
    }
   ],
   "source": [
    "n_furniture = dataset['category'].map(lambda cat : 'Furniture' in cat).sum()\n",
    "n_technology = dataset['category'].map(lambda cat : 'Technology' in cat).sum()\n",
    "pd.Series([n_furniture, n_technology], index = ['furniture', 'technology'])"
   ]
  },
  {
   "cell_type": "markdown",
   "metadata": {},
   "source": [
    "### Analisis terhadap sekelompok data"
   ]
  },
  {
   "cell_type": "markdown",
   "metadata": {},
   "source": [
    "**Kasus: Menghitung jumlah data (row/baris) untuk tiap segment**"
   ]
  },
  {
   "cell_type": "markdown",
   "metadata": {},
   "source": [
    "* Cara pertama: dengan memanfaatkan method value_counts"
   ]
  },
  {
   "cell_type": "code",
   "execution_count": 40,
   "metadata": {},
   "outputs": [
    {
     "data": {
      "text/plain": [
       "Consumer       5188\n",
       "Corporate      3019\n",
       "Home Office    1781\n",
       "Name: segment, dtype: int64"
      ]
     },
     "execution_count": 40,
     "metadata": {},
     "output_type": "execute_result"
    }
   ],
   "source": [
    "dataset['segment'].value_counts().head()"
   ]
  },
  {
   "cell_type": "markdown",
   "metadata": {},
   "source": [
    "* Cara kedua: mengelompokkan data pada DataFrame terlebih dahulu dengan memanfaatkan method groupby"
   ]
  },
  {
   "cell_type": "code",
   "execution_count": 41,
   "metadata": {},
   "outputs": [
    {
     "data": {
      "text/plain": [
       "segment\n",
       "Consumer       5188\n",
       "Corporate      3019\n",
       "Home Office    1781\n",
       "Name: segment, dtype: int64"
      ]
     },
     "execution_count": 41,
     "metadata": {},
     "output_type": "execute_result"
    }
   ],
   "source": [
    "dataset.groupby('segment')['segment'].count().head()"
   ]
  },
  {
   "cell_type": "markdown",
   "metadata": {},
   "source": [
    "**Kasus : mendata customer_id beserta jumlah transaksi yang pernah dilakukan**"
   ]
  },
  {
   "cell_type": "code",
   "execution_count": 42,
   "metadata": {},
   "outputs": [
    {
     "data": {
      "text/plain": [
       "customer_id\n",
       "AA-10315    11\n",
       "AA-10375    15\n",
       "AA-10480    12\n",
       "AA-10645    18\n",
       "AB-10015     6\n",
       "Name: customer_id, dtype: int64"
      ]
     },
     "execution_count": 42,
     "metadata": {},
     "output_type": "execute_result"
    }
   ],
   "source": [
    "dataset.groupby('customer_id')['customer_id'].count().head()"
   ]
  },
  {
   "cell_type": "markdown",
   "metadata": {},
   "source": [
    "**Kasus : Mencari sales terendah dari setiap customer_id**"
   ]
  },
  {
   "cell_type": "code",
   "execution_count": 45,
   "metadata": {},
   "outputs": [
    {
     "data": {
      "text/plain": [
       "customer_id\n",
       "AA-10315     2.304\n",
       "AA-10375     5.248\n",
       "AA-10480     7.640\n",
       "AA-10645     5.280\n",
       "AB-10015    12.624\n",
       "Name: sales, dtype: float64"
      ]
     },
     "execution_count": 45,
     "metadata": {},
     "output_type": "execute_result"
    }
   ],
   "source": [
    "dataset.groupby('customer_id')['sales'].min().head()"
   ]
  },
  {
   "cell_type": "markdown",
   "metadata": {},
   "source": [
    "**Kasus: menampilkan category untuk tiap segment dengan sales tertinggi**"
   ]
  },
  {
   "cell_type": "markdown",
   "metadata": {},
   "source": [
    "Data category akan dikelompokkan terlebih dahulu berdasarkan segment, selanjutnya akan dicari category di tiap segment yang memiliki sales tertinggi"
   ]
  },
  {
   "cell_type": "code",
   "execution_count": 44,
   "metadata": {},
   "outputs": [
    {
     "data": {
      "text/html": [
       "<div>\n",
       "<style scoped>\n",
       "    .dataframe tbody tr th:only-of-type {\n",
       "        vertical-align: middle;\n",
       "    }\n",
       "\n",
       "    .dataframe tbody tr th {\n",
       "        vertical-align: top;\n",
       "    }\n",
       "\n",
       "    .dataframe thead th {\n",
       "        text-align: right;\n",
       "    }\n",
       "</style>\n",
       "<table border=\"1\" class=\"dataframe\">\n",
       "  <thead>\n",
       "    <tr style=\"text-align: right;\">\n",
       "      <th></th>\n",
       "      <th></th>\n",
       "      <th>category</th>\n",
       "    </tr>\n",
       "    <tr>\n",
       "      <th>segment</th>\n",
       "      <th></th>\n",
       "      <th></th>\n",
       "    </tr>\n",
       "  </thead>\n",
       "  <tbody>\n",
       "    <tr>\n",
       "      <td>Consumer</td>\n",
       "      <td>9033</td>\n",
       "      <td>Office Supplies</td>\n",
       "    </tr>\n",
       "    <tr>\n",
       "      <td>Corporate</td>\n",
       "      <td>4274</td>\n",
       "      <td>Technology</td>\n",
       "    </tr>\n",
       "    <tr>\n",
       "      <td>Home Office</td>\n",
       "      <td>7662</td>\n",
       "      <td>Technology</td>\n",
       "    </tr>\n",
       "  </tbody>\n",
       "</table>\n",
       "</div>"
      ],
      "text/plain": [
       "                         category\n",
       "segment                          \n",
       "Consumer    9033  Office Supplies\n",
       "Corporate   4274       Technology\n",
       "Home Office 7662       Technology"
      ]
     },
     "execution_count": 44,
     "metadata": {},
     "output_type": "execute_result"
    }
   ],
   "source": [
    "dataset.groupby('segment').apply(lambda df : df[ df['sales'] == df['sales'].max()])[['category']].head()"
   ]
  },
  {
   "cell_type": "markdown",
   "metadata": {},
   "source": [
    "### M. Mengenal method agg"
   ]
  },
  {
   "cell_type": "code",
   "execution_count": 46,
   "metadata": {},
   "outputs": [
    {
     "data": {
      "text/html": [
       "<div>\n",
       "<style scoped>\n",
       "    .dataframe tbody tr th:only-of-type {\n",
       "        vertical-align: middle;\n",
       "    }\n",
       "\n",
       "    .dataframe tbody tr th {\n",
       "        vertical-align: top;\n",
       "    }\n",
       "\n",
       "    .dataframe thead th {\n",
       "        text-align: right;\n",
       "    }\n",
       "</style>\n",
       "<table border=\"1\" class=\"dataframe\">\n",
       "  <thead>\n",
       "    <tr style=\"text-align: right;\">\n",
       "      <th></th>\n",
       "      <th>len</th>\n",
       "      <th>min</th>\n",
       "      <th>max</th>\n",
       "    </tr>\n",
       "    <tr>\n",
       "      <th>customer_id</th>\n",
       "      <th></th>\n",
       "      <th></th>\n",
       "      <th></th>\n",
       "    </tr>\n",
       "  </thead>\n",
       "  <tbody>\n",
       "    <tr>\n",
       "      <td>AA-10315</td>\n",
       "      <td>11.0</td>\n",
       "      <td>2.304</td>\n",
       "      <td>3930.072</td>\n",
       "    </tr>\n",
       "    <tr>\n",
       "      <td>AA-10375</td>\n",
       "      <td>15.0</td>\n",
       "      <td>5.248</td>\n",
       "      <td>499.980</td>\n",
       "    </tr>\n",
       "    <tr>\n",
       "      <td>AA-10480</td>\n",
       "      <td>12.0</td>\n",
       "      <td>7.640</td>\n",
       "      <td>479.970</td>\n",
       "    </tr>\n",
       "    <tr>\n",
       "      <td>AA-10645</td>\n",
       "      <td>18.0</td>\n",
       "      <td>5.280</td>\n",
       "      <td>1323.900</td>\n",
       "    </tr>\n",
       "    <tr>\n",
       "      <td>AB-10015</td>\n",
       "      <td>6.0</td>\n",
       "      <td>12.624</td>\n",
       "      <td>341.960</td>\n",
       "    </tr>\n",
       "  </tbody>\n",
       "</table>\n",
       "</div>"
      ],
      "text/plain": [
       "              len     min       max\n",
       "customer_id                        \n",
       "AA-10315     11.0   2.304  3930.072\n",
       "AA-10375     15.0   5.248   499.980\n",
       "AA-10480     12.0   7.640   479.970\n",
       "AA-10645     18.0   5.280  1323.900\n",
       "AB-10015      6.0  12.624   341.960"
      ]
     },
     "execution_count": 46,
     "metadata": {},
     "output_type": "execute_result"
    }
   ],
   "source": [
    "# mengelompokkan berdasarkan customer_id dan sales\n",
    "dataset.groupby('customer_id')['sales'].agg([len, min, max]).head()"
   ]
  },
  {
   "cell_type": "markdown",
   "metadata": {},
   "source": [
    "**Kasus: menampilkan sales terendah dan tertinggi untuk setiap segment**"
   ]
  },
  {
   "cell_type": "code",
   "execution_count": 47,
   "metadata": {},
   "outputs": [
    {
     "data": {
      "text/html": [
       "<div>\n",
       "<style scoped>\n",
       "    .dataframe tbody tr th:only-of-type {\n",
       "        vertical-align: middle;\n",
       "    }\n",
       "\n",
       "    .dataframe tbody tr th {\n",
       "        vertical-align: top;\n",
       "    }\n",
       "\n",
       "    .dataframe thead th {\n",
       "        text-align: right;\n",
       "    }\n",
       "</style>\n",
       "<table border=\"1\" class=\"dataframe\">\n",
       "  <thead>\n",
       "    <tr style=\"text-align: right;\">\n",
       "      <th></th>\n",
       "      <th>min</th>\n",
       "      <th>max</th>\n",
       "    </tr>\n",
       "    <tr>\n",
       "      <th>segment</th>\n",
       "      <th></th>\n",
       "      <th></th>\n",
       "    </tr>\n",
       "  </thead>\n",
       "  <tbody>\n",
       "    <tr>\n",
       "      <td>Consumer</td>\n",
       "      <td>0.444</td>\n",
       "      <td>9892.74</td>\n",
       "    </tr>\n",
       "    <tr>\n",
       "      <td>Corporate</td>\n",
       "      <td>0.556</td>\n",
       "      <td>9099.93</td>\n",
       "    </tr>\n",
       "    <tr>\n",
       "      <td>Home Office</td>\n",
       "      <td>0.990</td>\n",
       "      <td>5399.91</td>\n",
       "    </tr>\n",
       "  </tbody>\n",
       "</table>\n",
       "</div>"
      ],
      "text/plain": [
       "               min      max\n",
       "segment                    \n",
       "Consumer     0.444  9892.74\n",
       "Corporate    0.556  9099.93\n",
       "Home Office  0.990  5399.91"
      ]
     },
     "execution_count": 47,
     "metadata": {},
     "output_type": "execute_result"
    }
   ],
   "source": [
    "dataset.groupby('segment')['sales'].agg(['min', 'max']).head()"
   ]
  },
  {
   "cell_type": "markdown",
   "metadata": {},
   "source": [
    "### N. Mengenal pengurutan data (sorting)"
   ]
  },
  {
   "cell_type": "markdown",
   "metadata": {},
   "source": [
    "Membuat DataFrame yang lebih sederhana dengan tiga kolom"
   ]
  },
  {
   "cell_type": "code",
   "execution_count": 48,
   "metadata": {},
   "outputs": [
    {
     "data": {
      "text/html": [
       "<div>\n",
       "<style scoped>\n",
       "    .dataframe tbody tr th:only-of-type {\n",
       "        vertical-align: middle;\n",
       "    }\n",
       "\n",
       "    .dataframe tbody tr th {\n",
       "        vertical-align: top;\n",
       "    }\n",
       "\n",
       "    .dataframe thead th {\n",
       "        text-align: right;\n",
       "    }\n",
       "</style>\n",
       "<table border=\"1\" class=\"dataframe\">\n",
       "  <thead>\n",
       "    <tr style=\"text-align: right;\">\n",
       "      <th></th>\n",
       "      <th>segment</th>\n",
       "      <th>category</th>\n",
       "      <th>sales</th>\n",
       "    </tr>\n",
       "  </thead>\n",
       "  <tbody>\n",
       "    <tr>\n",
       "      <td>0</td>\n",
       "      <td>Consumer</td>\n",
       "      <td>Furniture</td>\n",
       "      <td>261.9600</td>\n",
       "    </tr>\n",
       "    <tr>\n",
       "      <td>1</td>\n",
       "      <td>Consumer</td>\n",
       "      <td>Furniture</td>\n",
       "      <td>731.9400</td>\n",
       "    </tr>\n",
       "    <tr>\n",
       "      <td>2</td>\n",
       "      <td>Corporate</td>\n",
       "      <td>Office Supplies</td>\n",
       "      <td>14.6200</td>\n",
       "    </tr>\n",
       "    <tr>\n",
       "      <td>3</td>\n",
       "      <td>Consumer</td>\n",
       "      <td>Furniture</td>\n",
       "      <td>957.5775</td>\n",
       "    </tr>\n",
       "    <tr>\n",
       "      <td>4</td>\n",
       "      <td>Consumer</td>\n",
       "      <td>Office Supplies</td>\n",
       "      <td>22.3680</td>\n",
       "    </tr>\n",
       "  </tbody>\n",
       "</table>\n",
       "</div>"
      ],
      "text/plain": [
       "     segment         category     sales\n",
       "0   Consumer        Furniture  261.9600\n",
       "1   Consumer        Furniture  731.9400\n",
       "2  Corporate  Office Supplies   14.6200\n",
       "3   Consumer        Furniture  957.5775\n",
       "4   Consumer  Office Supplies   22.3680"
      ]
     },
     "execution_count": 48,
     "metadata": {},
     "output_type": "execute_result"
    }
   ],
   "source": [
    "dataset_simple = dataset[['segment', 'category', 'sales']]\n",
    "dataset_simple.head()"
   ]
  },
  {
   "cell_type": "markdown",
   "metadata": {},
   "source": [
    "**Mengurutkan data berdasarkan sales**"
   ]
  },
  {
   "cell_type": "code",
   "execution_count": 49,
   "metadata": {},
   "outputs": [
    {
     "data": {
      "text/html": [
       "<div>\n",
       "<style scoped>\n",
       "    .dataframe tbody tr th:only-of-type {\n",
       "        vertical-align: middle;\n",
       "    }\n",
       "\n",
       "    .dataframe tbody tr th {\n",
       "        vertical-align: top;\n",
       "    }\n",
       "\n",
       "    .dataframe thead th {\n",
       "        text-align: right;\n",
       "    }\n",
       "</style>\n",
       "<table border=\"1\" class=\"dataframe\">\n",
       "  <thead>\n",
       "    <tr style=\"text-align: right;\">\n",
       "      <th></th>\n",
       "      <th>segment</th>\n",
       "      <th>category</th>\n",
       "      <th>sales</th>\n",
       "    </tr>\n",
       "  </thead>\n",
       "  <tbody>\n",
       "    <tr>\n",
       "      <td>4099</td>\n",
       "      <td>Consumer</td>\n",
       "      <td>Office Supplies</td>\n",
       "      <td>0.444</td>\n",
       "    </tr>\n",
       "    <tr>\n",
       "      <td>9286</td>\n",
       "      <td>Corporate</td>\n",
       "      <td>Office Supplies</td>\n",
       "      <td>0.556</td>\n",
       "    </tr>\n",
       "    <tr>\n",
       "      <td>8652</td>\n",
       "      <td>Corporate</td>\n",
       "      <td>Office Supplies</td>\n",
       "      <td>0.836</td>\n",
       "    </tr>\n",
       "    <tr>\n",
       "      <td>4708</td>\n",
       "      <td>Consumer</td>\n",
       "      <td>Office Supplies</td>\n",
       "      <td>0.852</td>\n",
       "    </tr>\n",
       "    <tr>\n",
       "      <td>2106</td>\n",
       "      <td>Corporate</td>\n",
       "      <td>Office Supplies</td>\n",
       "      <td>0.876</td>\n",
       "    </tr>\n",
       "  </tbody>\n",
       "</table>\n",
       "</div>"
      ],
      "text/plain": [
       "        segment         category  sales\n",
       "4099   Consumer  Office Supplies  0.444\n",
       "9286  Corporate  Office Supplies  0.556\n",
       "8652  Corporate  Office Supplies  0.836\n",
       "4708   Consumer  Office Supplies  0.852\n",
       "2106  Corporate  Office Supplies  0.876"
      ]
     },
     "execution_count": 49,
     "metadata": {},
     "output_type": "execute_result"
    }
   ],
   "source": [
    "dataset_simple.sort_values(by = 'sales').head()"
   ]
  },
  {
   "cell_type": "markdown",
   "metadata": {},
   "source": [
    "**Pengurutan secara descending (dari nilai terbesar ke nilai terkecil)**"
   ]
  },
  {
   "cell_type": "code",
   "execution_count": 50,
   "metadata": {},
   "outputs": [
    {
     "data": {
      "text/html": [
       "<div>\n",
       "<style scoped>\n",
       "    .dataframe tbody tr th:only-of-type {\n",
       "        vertical-align: middle;\n",
       "    }\n",
       "\n",
       "    .dataframe tbody tr th {\n",
       "        vertical-align: top;\n",
       "    }\n",
       "\n",
       "    .dataframe thead th {\n",
       "        text-align: right;\n",
       "    }\n",
       "</style>\n",
       "<table border=\"1\" class=\"dataframe\">\n",
       "  <thead>\n",
       "    <tr style=\"text-align: right;\">\n",
       "      <th></th>\n",
       "      <th>segment</th>\n",
       "      <th>category</th>\n",
       "      <th>sales</th>\n",
       "    </tr>\n",
       "  </thead>\n",
       "  <tbody>\n",
       "    <tr>\n",
       "      <td>9033</td>\n",
       "      <td>Consumer</td>\n",
       "      <td>Office Supplies</td>\n",
       "      <td>9892.740</td>\n",
       "    </tr>\n",
       "    <tr>\n",
       "      <td>4096</td>\n",
       "      <td>Consumer</td>\n",
       "      <td>Office Supplies</td>\n",
       "      <td>9449.950</td>\n",
       "    </tr>\n",
       "    <tr>\n",
       "      <td>4274</td>\n",
       "      <td>Corporate</td>\n",
       "      <td>Technology</td>\n",
       "      <td>9099.930</td>\n",
       "    </tr>\n",
       "    <tr>\n",
       "      <td>8482</td>\n",
       "      <td>Consumer</td>\n",
       "      <td>Technology</td>\n",
       "      <td>8749.950</td>\n",
       "    </tr>\n",
       "    <tr>\n",
       "      <td>6422</td>\n",
       "      <td>Consumer</td>\n",
       "      <td>Technology</td>\n",
       "      <td>8399.976</td>\n",
       "    </tr>\n",
       "  </tbody>\n",
       "</table>\n",
       "</div>"
      ],
      "text/plain": [
       "        segment         category     sales\n",
       "9033   Consumer  Office Supplies  9892.740\n",
       "4096   Consumer  Office Supplies  9449.950\n",
       "4274  Corporate       Technology  9099.930\n",
       "8482   Consumer       Technology  8749.950\n",
       "6422   Consumer       Technology  8399.976"
      ]
     },
     "execution_count": 50,
     "metadata": {},
     "output_type": "execute_result"
    }
   ],
   "source": [
    "dataset_simple.sort_values(by = 'sales', ascending = False).head()"
   ]
  },
  {
   "cell_type": "code",
   "execution_count": 52,
   "metadata": {},
   "outputs": [
    {
     "data": {
      "text/html": [
       "<div>\n",
       "<style scoped>\n",
       "    .dataframe tbody tr th:only-of-type {\n",
       "        vertical-align: middle;\n",
       "    }\n",
       "\n",
       "    .dataframe tbody tr th {\n",
       "        vertical-align: top;\n",
       "    }\n",
       "\n",
       "    .dataframe thead th {\n",
       "        text-align: right;\n",
       "    }\n",
       "</style>\n",
       "<table border=\"1\" class=\"dataframe\">\n",
       "  <thead>\n",
       "    <tr style=\"text-align: right;\">\n",
       "      <th></th>\n",
       "      <th>segment</th>\n",
       "      <th>category</th>\n",
       "      <th>sales</th>\n",
       "    </tr>\n",
       "  </thead>\n",
       "  <tbody>\n",
       "    <tr>\n",
       "      <td>0</td>\n",
       "      <td>Consumer</td>\n",
       "      <td>Furniture</td>\n",
       "      <td>261.9600</td>\n",
       "    </tr>\n",
       "    <tr>\n",
       "      <td>1</td>\n",
       "      <td>Consumer</td>\n",
       "      <td>Furniture</td>\n",
       "      <td>731.9400</td>\n",
       "    </tr>\n",
       "    <tr>\n",
       "      <td>3</td>\n",
       "      <td>Consumer</td>\n",
       "      <td>Furniture</td>\n",
       "      <td>957.5775</td>\n",
       "    </tr>\n",
       "    <tr>\n",
       "      <td>5</td>\n",
       "      <td>Consumer</td>\n",
       "      <td>Furniture</td>\n",
       "      <td>48.8600</td>\n",
       "    </tr>\n",
       "    <tr>\n",
       "      <td>10</td>\n",
       "      <td>Consumer</td>\n",
       "      <td>Furniture</td>\n",
       "      <td>1706.1840</td>\n",
       "    </tr>\n",
       "  </tbody>\n",
       "</table>\n",
       "</div>"
      ],
      "text/plain": [
       "     segment   category      sales\n",
       "0   Consumer  Furniture   261.9600\n",
       "1   Consumer  Furniture   731.9400\n",
       "3   Consumer  Furniture   957.5775\n",
       "5   Consumer  Furniture    48.8600\n",
       "10  Consumer  Furniture  1706.1840"
      ]
     },
     "execution_count": 52,
     "metadata": {},
     "output_type": "execute_result"
    }
   ],
   "source": [
    "dataset_simple.sort_values(by = ['segment', 'category']).head()"
   ]
  },
  {
   "cell_type": "markdown",
   "metadata": {},
   "source": [
    "**Kasus: menampilkan daftar harga terendah dan tertinggi untuk setiap segment, data diurutkan secara descending berdasarkan harga terendah dan diikuti harga tertinggi**"
   ]
  },
  {
   "cell_type": "code",
   "execution_count": 53,
   "metadata": {},
   "outputs": [
    {
     "data": {
      "text/html": [
       "<div>\n",
       "<style scoped>\n",
       "    .dataframe tbody tr th:only-of-type {\n",
       "        vertical-align: middle;\n",
       "    }\n",
       "\n",
       "    .dataframe tbody tr th {\n",
       "        vertical-align: top;\n",
       "    }\n",
       "\n",
       "    .dataframe thead th {\n",
       "        text-align: right;\n",
       "    }\n",
       "</style>\n",
       "<table border=\"1\" class=\"dataframe\">\n",
       "  <thead>\n",
       "    <tr style=\"text-align: right;\">\n",
       "      <th></th>\n",
       "      <th>min</th>\n",
       "      <th>max</th>\n",
       "    </tr>\n",
       "    <tr>\n",
       "      <th>segment</th>\n",
       "      <th></th>\n",
       "      <th></th>\n",
       "    </tr>\n",
       "  </thead>\n",
       "  <tbody>\n",
       "    <tr>\n",
       "      <td>Home Office</td>\n",
       "      <td>0.990</td>\n",
       "      <td>5399.91</td>\n",
       "    </tr>\n",
       "    <tr>\n",
       "      <td>Corporate</td>\n",
       "      <td>0.556</td>\n",
       "      <td>9099.93</td>\n",
       "    </tr>\n",
       "    <tr>\n",
       "      <td>Consumer</td>\n",
       "      <td>0.444</td>\n",
       "      <td>9892.74</td>\n",
       "    </tr>\n",
       "  </tbody>\n",
       "</table>\n",
       "</div>"
      ],
      "text/plain": [
       "               min      max\n",
       "segment                    \n",
       "Home Office  0.990  5399.91\n",
       "Corporate    0.556  9099.93\n",
       "Consumer     0.444  9892.74"
      ]
     },
     "execution_count": 53,
     "metadata": {},
     "output_type": "execute_result"
    }
   ],
   "source": [
    "dataset.groupby('segment')['sales'].agg(['min', 'max']).sort_values(by = ['min', 'max'], ascending = False).head()"
   ]
  },
  {
   "cell_type": "markdown",
   "metadata": {},
   "source": [
    "**Kasus: menampilkan rata-rata sales tiap segment**"
   ]
  },
  {
   "cell_type": "code",
   "execution_count": 55,
   "metadata": {},
   "outputs": [
    {
     "data": {
      "text/plain": [
       "segment\n",
       "Consumer       218.273213\n",
       "Corporate      228.104146\n",
       "Home Office    222.242954\n",
       "Name: sales, dtype: float64"
      ]
     },
     "execution_count": 55,
     "metadata": {},
     "output_type": "execute_result"
    }
   ],
   "source": [
    "dataset.groupby('segment')['sales'].mean().head()"
   ]
  },
  {
   "cell_type": "markdown",
   "metadata": {},
   "source": [
    "**Kasus: menampilkan jumlah quantity tiap category untuk tiap jenis sub_category**"
   ]
  },
  {
   "cell_type": "code",
   "execution_count": 56,
   "metadata": {},
   "outputs": [
    {
     "data": {
      "text/plain": [
       "category         sub_category\n",
       "Office Supplies  Binders         1523\n",
       "                 Paper           1370\n",
       "Furniture        Furnishings      957\n",
       "Technology       Phones           889\n",
       "Office Supplies  Storage          846\n",
       "                 Art              796\n",
       "Technology       Accessories      775\n",
       "Furniture        Chairs           617\n",
       "Office Supplies  Appliances       466\n",
       "                 Labels           364\n",
       "Name: quantity, dtype: int64"
      ]
     },
     "execution_count": 56,
     "metadata": {},
     "output_type": "execute_result"
    }
   ],
   "source": [
    "dataset.groupby(['category', 'sub_category'])['quantity'].count().sort_values(ascending=False).head(10)"
   ]
  },
  {
   "cell_type": "markdown",
   "metadata": {},
   "source": [
    "### O. Mengubah nama kolom pad DataFrame"
   ]
  },
  {
   "cell_type": "markdown",
   "metadata": {},
   "source": [
    "Perubahan nama kolom pada DataFrame dapat dilakukan dengan memanfaatkan method rename"
   ]
  },
  {
   "cell_type": "code",
   "execution_count": 57,
   "metadata": {},
   "outputs": [
    {
     "data": {
      "text/html": [
       "<div>\n",
       "<style scoped>\n",
       "    .dataframe tbody tr th:only-of-type {\n",
       "        vertical-align: middle;\n",
       "    }\n",
       "\n",
       "    .dataframe tbody tr th {\n",
       "        vertical-align: top;\n",
       "    }\n",
       "\n",
       "    .dataframe thead th {\n",
       "        text-align: right;\n",
       "    }\n",
       "</style>\n",
       "<table border=\"1\" class=\"dataframe\">\n",
       "  <thead>\n",
       "    <tr style=\"text-align: right;\">\n",
       "      <th></th>\n",
       "      <th>order_id</th>\n",
       "      <th>order_date</th>\n",
       "      <th>customer_id</th>\n",
       "      <th>segment</th>\n",
       "      <th>category</th>\n",
       "      <th>sub_category</th>\n",
       "      <th>total_sales</th>\n",
       "      <th>quantity</th>\n",
       "      <th>profit</th>\n",
       "      <th>rating</th>\n",
       "      <th>index_backwards</th>\n",
       "    </tr>\n",
       "  </thead>\n",
       "  <tbody>\n",
       "    <tr>\n",
       "      <td>0</td>\n",
       "      <td>CA-2016-152156</td>\n",
       "      <td>11/8/2016</td>\n",
       "      <td>CG-12520</td>\n",
       "      <td>Consumer</td>\n",
       "      <td>Furniture</td>\n",
       "      <td>Bookcases</td>\n",
       "      <td>261.9600</td>\n",
       "      <td>2</td>\n",
       "      <td>41.9136</td>\n",
       "      <td>satisfied</td>\n",
       "      <td>9988</td>\n",
       "    </tr>\n",
       "    <tr>\n",
       "      <td>1</td>\n",
       "      <td>CA-2016-152156</td>\n",
       "      <td>11/8/2016</td>\n",
       "      <td>CG-12520</td>\n",
       "      <td>Consumer</td>\n",
       "      <td>Furniture</td>\n",
       "      <td>Chairs</td>\n",
       "      <td>731.9400</td>\n",
       "      <td>3</td>\n",
       "      <td>219.5820</td>\n",
       "      <td>satisfied</td>\n",
       "      <td>9987</td>\n",
       "    </tr>\n",
       "    <tr>\n",
       "      <td>2</td>\n",
       "      <td>CA-2016-138688</td>\n",
       "      <td>6/12/2016</td>\n",
       "      <td>DV-13045</td>\n",
       "      <td>Corporate</td>\n",
       "      <td>Office Supplies</td>\n",
       "      <td>Labels</td>\n",
       "      <td>14.6200</td>\n",
       "      <td>2</td>\n",
       "      <td>6.8714</td>\n",
       "      <td>satisfied</td>\n",
       "      <td>9986</td>\n",
       "    </tr>\n",
       "    <tr>\n",
       "      <td>3</td>\n",
       "      <td>US-2015-108966</td>\n",
       "      <td>10/11/2015</td>\n",
       "      <td>SO-20335</td>\n",
       "      <td>Consumer</td>\n",
       "      <td>Furniture</td>\n",
       "      <td>Tables</td>\n",
       "      <td>957.5775</td>\n",
       "      <td>5</td>\n",
       "      <td>-383.0310</td>\n",
       "      <td>satisfied</td>\n",
       "      <td>9985</td>\n",
       "    </tr>\n",
       "    <tr>\n",
       "      <td>4</td>\n",
       "      <td>US-2015-108966</td>\n",
       "      <td>10/11/2015</td>\n",
       "      <td>SO-20335</td>\n",
       "      <td>Consumer</td>\n",
       "      <td>Office Supplies</td>\n",
       "      <td>Storage</td>\n",
       "      <td>22.3680</td>\n",
       "      <td>2</td>\n",
       "      <td>2.5164</td>\n",
       "      <td>satisfied</td>\n",
       "      <td>9984</td>\n",
       "    </tr>\n",
       "  </tbody>\n",
       "</table>\n",
       "</div>"
      ],
      "text/plain": [
       "         order_id  order_date customer_id    segment         category  \\\n",
       "0  CA-2016-152156   11/8/2016    CG-12520   Consumer        Furniture   \n",
       "1  CA-2016-152156   11/8/2016    CG-12520   Consumer        Furniture   \n",
       "2  CA-2016-138688   6/12/2016    DV-13045  Corporate  Office Supplies   \n",
       "3  US-2015-108966  10/11/2015    SO-20335   Consumer        Furniture   \n",
       "4  US-2015-108966  10/11/2015    SO-20335   Consumer  Office Supplies   \n",
       "\n",
       "  sub_category  total_sales  quantity    profit     rating  index_backwards  \n",
       "0    Bookcases     261.9600         2   41.9136  satisfied             9988  \n",
       "1       Chairs     731.9400         3  219.5820  satisfied             9987  \n",
       "2       Labels      14.6200         2    6.8714  satisfied             9986  \n",
       "3       Tables     957.5775         5 -383.0310  satisfied             9985  \n",
       "4      Storage      22.3680         2    2.5164  satisfied             9984  "
      ]
     },
     "execution_count": 57,
     "metadata": {},
     "output_type": "execute_result"
    }
   ],
   "source": [
    "dataset.rename(columns = {'sales' : 'total_sales'}).head()"
   ]
  },
  {
   "cell_type": "markdown",
   "metadata": {},
   "source": [
    "**Mengubah label/nama index dengan method rename_axis**"
   ]
  },
  {
   "cell_type": "code",
   "execution_count": 58,
   "metadata": {
    "scrolled": true
   },
   "outputs": [
    {
     "data": {
      "text/html": [
       "<div>\n",
       "<style scoped>\n",
       "    .dataframe tbody tr th:only-of-type {\n",
       "        vertical-align: middle;\n",
       "    }\n",
       "\n",
       "    .dataframe tbody tr th {\n",
       "        vertical-align: top;\n",
       "    }\n",
       "\n",
       "    .dataframe thead th {\n",
       "        text-align: right;\n",
       "    }\n",
       "</style>\n",
       "<table border=\"1\" class=\"dataframe\">\n",
       "  <thead>\n",
       "    <tr style=\"text-align: right;\">\n",
       "      <th></th>\n",
       "      <th>order_id</th>\n",
       "      <th>order_date</th>\n",
       "      <th>customer_id</th>\n",
       "      <th>segment</th>\n",
       "      <th>category</th>\n",
       "      <th>sub_category</th>\n",
       "      <th>sales</th>\n",
       "      <th>quantity</th>\n",
       "      <th>profit</th>\n",
       "      <th>rating</th>\n",
       "      <th>index_backwards</th>\n",
       "    </tr>\n",
       "    <tr>\n",
       "      <th>baris</th>\n",
       "      <th></th>\n",
       "      <th></th>\n",
       "      <th></th>\n",
       "      <th></th>\n",
       "      <th></th>\n",
       "      <th></th>\n",
       "      <th></th>\n",
       "      <th></th>\n",
       "      <th></th>\n",
       "      <th></th>\n",
       "      <th></th>\n",
       "    </tr>\n",
       "  </thead>\n",
       "  <tbody>\n",
       "    <tr>\n",
       "      <td>0</td>\n",
       "      <td>CA-2016-152156</td>\n",
       "      <td>11/8/2016</td>\n",
       "      <td>CG-12520</td>\n",
       "      <td>Consumer</td>\n",
       "      <td>Furniture</td>\n",
       "      <td>Bookcases</td>\n",
       "      <td>261.9600</td>\n",
       "      <td>2</td>\n",
       "      <td>41.9136</td>\n",
       "      <td>satisfied</td>\n",
       "      <td>9988</td>\n",
       "    </tr>\n",
       "    <tr>\n",
       "      <td>1</td>\n",
       "      <td>CA-2016-152156</td>\n",
       "      <td>11/8/2016</td>\n",
       "      <td>CG-12520</td>\n",
       "      <td>Consumer</td>\n",
       "      <td>Furniture</td>\n",
       "      <td>Chairs</td>\n",
       "      <td>731.9400</td>\n",
       "      <td>3</td>\n",
       "      <td>219.5820</td>\n",
       "      <td>satisfied</td>\n",
       "      <td>9987</td>\n",
       "    </tr>\n",
       "    <tr>\n",
       "      <td>2</td>\n",
       "      <td>CA-2016-138688</td>\n",
       "      <td>6/12/2016</td>\n",
       "      <td>DV-13045</td>\n",
       "      <td>Corporate</td>\n",
       "      <td>Office Supplies</td>\n",
       "      <td>Labels</td>\n",
       "      <td>14.6200</td>\n",
       "      <td>2</td>\n",
       "      <td>6.8714</td>\n",
       "      <td>satisfied</td>\n",
       "      <td>9986</td>\n",
       "    </tr>\n",
       "    <tr>\n",
       "      <td>3</td>\n",
       "      <td>US-2015-108966</td>\n",
       "      <td>10/11/2015</td>\n",
       "      <td>SO-20335</td>\n",
       "      <td>Consumer</td>\n",
       "      <td>Furniture</td>\n",
       "      <td>Tables</td>\n",
       "      <td>957.5775</td>\n",
       "      <td>5</td>\n",
       "      <td>-383.0310</td>\n",
       "      <td>satisfied</td>\n",
       "      <td>9985</td>\n",
       "    </tr>\n",
       "    <tr>\n",
       "      <td>4</td>\n",
       "      <td>US-2015-108966</td>\n",
       "      <td>10/11/2015</td>\n",
       "      <td>SO-20335</td>\n",
       "      <td>Consumer</td>\n",
       "      <td>Office Supplies</td>\n",
       "      <td>Storage</td>\n",
       "      <td>22.3680</td>\n",
       "      <td>2</td>\n",
       "      <td>2.5164</td>\n",
       "      <td>satisfied</td>\n",
       "      <td>9984</td>\n",
       "    </tr>\n",
       "  </tbody>\n",
       "</table>\n",
       "</div>"
      ],
      "text/plain": [
       "             order_id  order_date customer_id    segment         category  \\\n",
       "baris                                                                       \n",
       "0      CA-2016-152156   11/8/2016    CG-12520   Consumer        Furniture   \n",
       "1      CA-2016-152156   11/8/2016    CG-12520   Consumer        Furniture   \n",
       "2      CA-2016-138688   6/12/2016    DV-13045  Corporate  Office Supplies   \n",
       "3      US-2015-108966  10/11/2015    SO-20335   Consumer        Furniture   \n",
       "4      US-2015-108966  10/11/2015    SO-20335   Consumer  Office Supplies   \n",
       "\n",
       "      sub_category     sales  quantity    profit     rating  index_backwards  \n",
       "baris                                                                         \n",
       "0        Bookcases  261.9600         2   41.9136  satisfied             9988  \n",
       "1           Chairs  731.9400         3  219.5820  satisfied             9987  \n",
       "2           Labels   14.6200         2    6.8714  satisfied             9986  \n",
       "3           Tables  957.5775         5 -383.0310  satisfied             9985  \n",
       "4          Storage   22.3680         2    2.5164  satisfied             9984  "
      ]
     },
     "execution_count": 58,
     "metadata": {},
     "output_type": "execute_result"
    }
   ],
   "source": [
    "dataset.rename_axis('baris', axis = 'rows').head()"
   ]
  },
  {
   "cell_type": "code",
   "execution_count": 59,
   "metadata": {},
   "outputs": [
    {
     "data": {
      "text/html": [
       "<div>\n",
       "<style scoped>\n",
       "    .dataframe tbody tr th:only-of-type {\n",
       "        vertical-align: middle;\n",
       "    }\n",
       "\n",
       "    .dataframe tbody tr th {\n",
       "        vertical-align: top;\n",
       "    }\n",
       "\n",
       "    .dataframe thead th {\n",
       "        text-align: right;\n",
       "    }\n",
       "</style>\n",
       "<table border=\"1\" class=\"dataframe\">\n",
       "  <thead>\n",
       "    <tr style=\"text-align: right;\">\n",
       "      <th>kolom</th>\n",
       "      <th>order_id</th>\n",
       "      <th>order_date</th>\n",
       "      <th>customer_id</th>\n",
       "      <th>segment</th>\n",
       "      <th>category</th>\n",
       "      <th>sub_category</th>\n",
       "      <th>sales</th>\n",
       "      <th>quantity</th>\n",
       "      <th>profit</th>\n",
       "      <th>rating</th>\n",
       "      <th>index_backwards</th>\n",
       "    </tr>\n",
       "    <tr>\n",
       "      <th>baris</th>\n",
       "      <th></th>\n",
       "      <th></th>\n",
       "      <th></th>\n",
       "      <th></th>\n",
       "      <th></th>\n",
       "      <th></th>\n",
       "      <th></th>\n",
       "      <th></th>\n",
       "      <th></th>\n",
       "      <th></th>\n",
       "      <th></th>\n",
       "    </tr>\n",
       "  </thead>\n",
       "  <tbody>\n",
       "    <tr>\n",
       "      <td>0</td>\n",
       "      <td>CA-2016-152156</td>\n",
       "      <td>11/8/2016</td>\n",
       "      <td>CG-12520</td>\n",
       "      <td>Consumer</td>\n",
       "      <td>Furniture</td>\n",
       "      <td>Bookcases</td>\n",
       "      <td>261.9600</td>\n",
       "      <td>2</td>\n",
       "      <td>41.9136</td>\n",
       "      <td>satisfied</td>\n",
       "      <td>9988</td>\n",
       "    </tr>\n",
       "    <tr>\n",
       "      <td>1</td>\n",
       "      <td>CA-2016-152156</td>\n",
       "      <td>11/8/2016</td>\n",
       "      <td>CG-12520</td>\n",
       "      <td>Consumer</td>\n",
       "      <td>Furniture</td>\n",
       "      <td>Chairs</td>\n",
       "      <td>731.9400</td>\n",
       "      <td>3</td>\n",
       "      <td>219.5820</td>\n",
       "      <td>satisfied</td>\n",
       "      <td>9987</td>\n",
       "    </tr>\n",
       "    <tr>\n",
       "      <td>2</td>\n",
       "      <td>CA-2016-138688</td>\n",
       "      <td>6/12/2016</td>\n",
       "      <td>DV-13045</td>\n",
       "      <td>Corporate</td>\n",
       "      <td>Office Supplies</td>\n",
       "      <td>Labels</td>\n",
       "      <td>14.6200</td>\n",
       "      <td>2</td>\n",
       "      <td>6.8714</td>\n",
       "      <td>satisfied</td>\n",
       "      <td>9986</td>\n",
       "    </tr>\n",
       "    <tr>\n",
       "      <td>3</td>\n",
       "      <td>US-2015-108966</td>\n",
       "      <td>10/11/2015</td>\n",
       "      <td>SO-20335</td>\n",
       "      <td>Consumer</td>\n",
       "      <td>Furniture</td>\n",
       "      <td>Tables</td>\n",
       "      <td>957.5775</td>\n",
       "      <td>5</td>\n",
       "      <td>-383.0310</td>\n",
       "      <td>satisfied</td>\n",
       "      <td>9985</td>\n",
       "    </tr>\n",
       "    <tr>\n",
       "      <td>4</td>\n",
       "      <td>US-2015-108966</td>\n",
       "      <td>10/11/2015</td>\n",
       "      <td>SO-20335</td>\n",
       "      <td>Consumer</td>\n",
       "      <td>Office Supplies</td>\n",
       "      <td>Storage</td>\n",
       "      <td>22.3680</td>\n",
       "      <td>2</td>\n",
       "      <td>2.5164</td>\n",
       "      <td>satisfied</td>\n",
       "      <td>9984</td>\n",
       "    </tr>\n",
       "  </tbody>\n",
       "</table>\n",
       "</div>"
      ],
      "text/plain": [
       "kolom        order_id  order_date customer_id    segment         category  \\\n",
       "baris                                                                       \n",
       "0      CA-2016-152156   11/8/2016    CG-12520   Consumer        Furniture   \n",
       "1      CA-2016-152156   11/8/2016    CG-12520   Consumer        Furniture   \n",
       "2      CA-2016-138688   6/12/2016    DV-13045  Corporate  Office Supplies   \n",
       "3      US-2015-108966  10/11/2015    SO-20335   Consumer        Furniture   \n",
       "4      US-2015-108966  10/11/2015    SO-20335   Consumer  Office Supplies   \n",
       "\n",
       "kolom sub_category     sales  quantity    profit     rating  index_backwards  \n",
       "baris                                                                         \n",
       "0        Bookcases  261.9600         2   41.9136  satisfied             9988  \n",
       "1           Chairs  731.9400         3  219.5820  satisfied             9987  \n",
       "2           Labels   14.6200         2    6.8714  satisfied             9986  \n",
       "3           Tables  957.5775         5 -383.0310  satisfied             9985  \n",
       "4          Storage   22.3680         2    2.5164  satisfied             9984  "
      ]
     },
     "execution_count": 59,
     "metadata": {},
     "output_type": "execute_result"
    }
   ],
   "source": [
    "dataset.rename_axis('baris', axis = 'rows').rename_axis('kolom', axis = 'columns').head()"
   ]
  },
  {
   "cell_type": "markdown",
   "metadata": {},
   "source": [
    "### P. Referensi"
   ]
  },
  {
   "cell_type": "markdown",
   "metadata": {},
   "source": [
    "[1] medium.com. Pengenalan NumPy, Pandas, Matplotlib. Diakses pada 22 Mei 2020, dari https://medium.com/@yasirabd/pengenalan-numpy-pandas-matplotlib-b90bafd36c0\n",
    "\n",
    "[2] youtube.com. [kaggle 02] Belajar Python Pandas untuk Data Science dengan Studi Kasus Dataset Kaggle. Diakses pada 22 Mei 2020, dari https://www.youtube.com/watch?v=UvpBJZ_UKk0&t=1473s"
   ]
  }
 ],
 "metadata": {
  "kernelspec": {
   "display_name": "Python 3",
   "language": "python",
   "name": "python3"
  },
  "language_info": {
   "codemirror_mode": {
    "name": "ipython",
    "version": 3
   },
   "file_extension": ".py",
   "mimetype": "text/x-python",
   "name": "python",
   "nbconvert_exporter": "python",
   "pygments_lexer": "ipython3",
   "version": "3.7.4"
  }
 },
 "nbformat": 4,
 "nbformat_minor": 2
}
